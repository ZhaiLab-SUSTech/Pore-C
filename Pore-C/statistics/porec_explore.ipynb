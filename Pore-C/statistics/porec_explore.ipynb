{
 "cells": [
  {
   "cell_type": "code",
   "execution_count": null,
   "metadata": {},
   "outputs": [],
   "source": [
    "args_region = '/public/home/lizw/task/pore_c/porec_result/porecplot/cross_region/chr5_cross.region.bed'\n",
    "args_anchor = '/public/home/lizw/task/pore_c/porec_result/porecplot/cross_region/chr5_cross.anchor.bed'\n",
    "args_align_merge_part = '/public/home/lizw/task/pore_c/porec_result2/DpnII_run04.order_2_merge_part.csv'\n",
    "args_keepall = '/public/home/lizw/task/pore_c/porec_result2/DpnII_run04.order_2_sorted_orderall_fornormailize.csv'\n",
    "args_clusterheat = True\n",
    "args_binsize = 2000\n",
    "args_calculate = 'binnor'\n",
    "args_prefix = 'DpnII_run04_slice_cross_test'\n",
    "args_mark = '/public/home/lizw/data/IMPORTANT_genome/arabidopsis/tair10/normal_mark.txt'\n",
    "args_bedgraphs = ['/public/home/lizw/data/IMPORTANT_genome/arabidopsis/modification/H3K4me2-DRX066771.bw.bg','/public/home/lizw/data/IMPORTANT_genome/arabidopsis/modification/H3K27me3-SRX648279.bw.bg']\n",
    "args_bg_labels = ['H3K4me2','H3K27me3']\n",
    "args_bg_ylims = [None,None]\n",
    "args_plotkind = 'bar'\n",
    "args_sites = []\n",
    "args_site_labels = [None]\n",
    "args_site_ylims = [None]\n",
    "args_anchormode = 'and'\n",
    "args_genemodel = ''\n",
    "args_ylim = \"no\"\n",
    "args_cluster_slice =True\n",
    "args_format = 'png'"
   ]
  },
  {
   "cell_type": "code",
   "execution_count": null,
   "metadata": {},
   "outputs": [],
   "source": []
  }
 ],
 "metadata": {
  "kernelspec": {
   "display_name": "Python 3",
   "language": "python",
   "name": "python3"
  },
  "language_info": {
   "codemirror_mode": {
    "name": "ipython",
    "version": 3
   },
   "file_extension": ".py",
   "mimetype": "text/x-python",
   "name": "python",
   "nbconvert_exporter": "python",
   "pygments_lexer": "ipython3",
   "version": "3.7.6"
  }
 },
 "nbformat": 4,
 "nbformat_minor": 4
}
