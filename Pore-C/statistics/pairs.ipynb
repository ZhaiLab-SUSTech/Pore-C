{
 "cells": [
  {
   "cell_type": "code",
   "execution_count": 62,
   "metadata": {},
   "outputs": [],
   "source": [
    "#consistency_pre for two porec\n",
    "import pandas as pd\n",
    "from porecplot_draw_func import chr_interval,region_reads\n",
    "region_df = region_reads(\"/public/home/lizw/task/pore_c/porec_result2/bed/all_chr.bed\")\n",
    "binsize=1000\n",
    "\n",
    "porec1_path = \"/public/home/lizw/task/pore_c/porec_1000_filter_mainchr_result/pairs/DpnII_run01_TAIR10_unphased.unsorted.pairs\"\n",
    "porec2_path = \"/public/home/lizw/task/pore_c/porec_1000_filter_mainchr_result/pairs/DpnII_run03_TAIR10_unphased.unsorted.pairs\"\n",
    "\n",
    "porec_merge_df = pd.read_feather(porec1_path,comment=\"#\",sep=\"\\t\",header=None,names=['readID', 'chr1', 'pos1', 'chr2', 'pos2', 'strand1', 'strand2', 'pair_type', 'align1_idx', 'align2_idx', 'distance_on_read'],converters={'chr1':str,'chr2':str})\n",
    "porec_merge_df_sub = porec_merge_df.reindex(['readID','chr1','pos1'],axis=1)\n",
    "porec_merge_df_sub.columns=['readID','chr','pos']\n",
    "porec_merge_df_sub['chr'] = porec_merge_df_sub['chr'].astype(str)\n",
    "porec1_df_count,*rest_1 = chr_interval(porec_merge_df_sub,region_df,'pos',binsize)\n",
    "porec1_df_count_norm = porec1_df_count/porec1_df_count.sum()\n",
    "\n",
    "porec2_pair_df = pd.read_csv(porec2_path,comment=\"#\",sep=\"\\t\",header=None,names=['readID', 'chr1', 'pos1', 'chr2', 'pos2', 'strand1', 'strand2', 'pair_type', 'align1_idx', 'align2_idx', 'distance_on_read'],converters={'chr':str,'chr2':str})\n",
    "porec2_pair_df_sub = porec2_pair_df.reindex(['readID','chr1','pos1'],axis=1)\n",
    "porec2_pair_df_sub.columns=['readID','chr','pos']\n",
    "porec2_pair_df_sub['chr'] = porec2_pair_df_sub['chr'].astype(str)\n",
    "porec2_df_count,*rest_2 = chr_interval(porec2_pair_df_sub,region_df,'pos',binsize)\n",
    "porec2_df_count_norm = porec2_df_count/porec2_df_count.sum()"
   ]
  },
  {
   "cell_type": "code",
   "execution_count": 99,
   "metadata": {},
   "outputs": [],
   "source": [
    "import numpy as np\n",
    "porec1_df_count.sum()\n",
    "all_count =np.mean([porec1_df_count.sum(),porec2_df_count.sum()])\n",
    "porec_contact_interval = pd.merge(porec1_df_count,porec2_df_count,on=['region_index','interval'])\n",
    "porec_contact_interval_norm = pd.merge(porec1_df_count_norm,porec2_df_count_norm,on=['region_index','interval'])\n",
    "porec_contact_interval_norm_norm = porec_contact_interval_norm*all_count"
   ]
  },
  {
   "cell_type": "code",
   "execution_count": 100,
   "metadata": {},
   "outputs": [
    {
     "data": {
      "text/html": [
       "<div>\n",
       "<style scoped>\n",
       "    .dataframe tbody tr th:only-of-type {\n",
       "        vertical-align: middle;\n",
       "    }\n",
       "\n",
       "    .dataframe tbody tr th {\n",
       "        vertical-align: top;\n",
       "    }\n",
       "\n",
       "    .dataframe thead th {\n",
       "        text-align: right;\n",
       "    }\n",
       "</style>\n",
       "<table border=\"1\" class=\"dataframe\">\n",
       "  <thead>\n",
       "    <tr style=\"text-align: right;\">\n",
       "      <th></th>\n",
       "      <th></th>\n",
       "      <th>pos_count_x</th>\n",
       "      <th>pos_count_y</th>\n",
       "    </tr>\n",
       "    <tr>\n",
       "      <th>region_index</th>\n",
       "      <th>interval</th>\n",
       "      <th></th>\n",
       "      <th></th>\n",
       "    </tr>\n",
       "  </thead>\n",
       "  <tbody>\n",
       "    <tr>\n",
       "      <th rowspan=\"5\" valign=\"top\">0</th>\n",
       "      <th>(0, 1000]</th>\n",
       "      <td>279.590135</td>\n",
       "      <td>454.501221</td>\n",
       "    </tr>\n",
       "    <tr>\n",
       "      <th>(1000, 2000]</th>\n",
       "      <td>314.704536</td>\n",
       "      <td>432.081878</td>\n",
       "    </tr>\n",
       "    <tr>\n",
       "      <th>(2000, 3000]</th>\n",
       "      <td>154.370856</td>\n",
       "      <td>203.812207</td>\n",
       "    </tr>\n",
       "    <tr>\n",
       "      <th>(3000, 4000]</th>\n",
       "      <td>182.859899</td>\n",
       "      <td>116.172958</td>\n",
       "    </tr>\n",
       "    <tr>\n",
       "      <th>(4000, 5000]</th>\n",
       "      <td>440.586350</td>\n",
       "      <td>582.902911</td>\n",
       "    </tr>\n",
       "    <tr>\n",
       "      <th>...</th>\n",
       "      <th>...</th>\n",
       "      <td>...</td>\n",
       "      <td>...</td>\n",
       "    </tr>\n",
       "    <tr>\n",
       "      <th rowspan=\"5\" valign=\"top\">4</th>\n",
       "      <th>(26970000, 26971000]</th>\n",
       "      <td>2.650143</td>\n",
       "      <td>4.076244</td>\n",
       "    </tr>\n",
       "    <tr>\n",
       "      <th>(26971000, 26972000]</th>\n",
       "      <td>11.263110</td>\n",
       "      <td>14.266854</td>\n",
       "    </tr>\n",
       "    <tr>\n",
       "      <th>(26972000, 26973000]</th>\n",
       "      <td>3.975215</td>\n",
       "      <td>6.114366</td>\n",
       "    </tr>\n",
       "    <tr>\n",
       "      <th>(26973000, 26974000]</th>\n",
       "      <td>11.925646</td>\n",
       "      <td>2.038122</td>\n",
       "    </tr>\n",
       "    <tr>\n",
       "      <th>(26974000, 26975000]</th>\n",
       "      <td>1.325072</td>\n",
       "      <td>2.038122</td>\n",
       "    </tr>\n",
       "  </tbody>\n",
       "</table>\n",
       "<p>115932 rows × 2 columns</p>\n",
       "</div>"
      ],
      "text/plain": [
       "                                   pos_count_x  pos_count_y\n",
       "region_index interval                                      \n",
       "0            (0, 1000]              279.590135   454.501221\n",
       "             (1000, 2000]           314.704536   432.081878\n",
       "             (2000, 3000]           154.370856   203.812207\n",
       "             (3000, 4000]           182.859899   116.172958\n",
       "             (4000, 5000]           440.586350   582.902911\n",
       "...                                        ...          ...\n",
       "4            (26970000, 26971000]     2.650143     4.076244\n",
       "             (26971000, 26972000]    11.263110    14.266854\n",
       "             (26972000, 26973000]     3.975215     6.114366\n",
       "             (26973000, 26974000]    11.925646     2.038122\n",
       "             (26974000, 26975000]     1.325072     2.038122\n",
       "\n",
       "[115932 rows x 2 columns]"
      ]
     },
     "execution_count": 100,
     "metadata": {},
     "output_type": "execute_result"
    }
   ],
   "source": [
    "porec_contact_interval_norm_norm"
   ]
  },
  {
   "cell_type": "code",
   "execution_count": 64,
   "metadata": {},
   "outputs": [],
   "source": [
    "porec_merge_df.to_feather(\"/public/home/lizw/task/pore_c/porec_1000_filter_mainchr_result/pairs/DpnII_run01_TAIR10_unphased.unsorted.pairs.feather\")\n",
    "porec2_pair_df.to_feather(\"/public/home/lizw/task/pore_c/porec_1000_filter_mainchr_result/pairs/DpnII_run03_TAIR10_unphased.unsorted.pairs.feather\")"
   ]
  },
  {
   "cell_type": "code",
   "execution_count": 83,
   "metadata": {},
   "outputs": [
    {
     "data": {
      "text/plain": [
       "Text(0.98, 127837.02, \"Pearson's r 0.8246978637861633\")"
      ]
     },
     "execution_count": 83,
     "metadata": {},
     "output_type": "execute_result"
    },
    {
     "data": {
      "image/png": "[encoded data removed]",
      "text/plain": [
       "<Figure size 432x432 with 1 Axes>"
      ]
     },
     "metadata": {
      "needs_background": "light"
     },
     "output_type": "display_data"
    }
   ],
   "source": [
    "import pandas as pd\n",
    "import matplotlib.pyplot as plt\n",
    "import matplotlib.font_manager as font_manager\n",
    "font_dirs = [\"/public/home/lizw/software/font\"]\n",
    "font_files = font_manager.findSystemFonts(fontpaths=font_dirs)\n",
    "for font_file in font_files:\n",
    "    font_manager.fontManager.addfont(font_file)\n",
    "plt.rcParams[\"font.family\"] = \"Arial\"\n",
    "plt.figure(figsize=(6,6))\n",
    "plt.scatter(data = porec_contact_interval,x='pos_count_x',y='pos_count_y',s=0.2,color='r')\n",
    "scalemax = porec_contact_interval.max().max()\n",
    "scalemin = porec_contact_interval.min().min()\n",
    "plt.xlabel(f'Contact (Pore-C Rep1)')\n",
    "plt.xlabel(f'Contact (Pore-C Rep2)')\n",
    "plt.plot((scalemin,scalemax), (scalemin, scalemax), ls='--',c='k')\n",
    "r = porec_contact_interval['pos_count_x'].corr(porec_contact_interval['pos_count_y'])\n",
    "plt.text(scalemin-0.02,scalemax+0.02,f'Pearson\\'s r {r}')"
   ]
  },
  {
   "cell_type": "code",
   "execution_count": 107,
   "metadata": {},
   "outputs": [
    {
     "data": {
      "image/png": "[encoded data removed]",
      "text/plain": [
       "<Figure size 432x432 with 1 Axes>"
      ]
     },
     "metadata": {
      "needs_background": "light"
     },
     "output_type": "display_data"
    }
   ],
   "source": [
    "import pandas as pd\n",
    "import matplotlib.pyplot as plt\n",
    "import matplotlib.font_manager as font_manager\n",
    "font_dirs = [\"/public/home/lizw/software/font\"]\n",
    "font_files = font_manager.findSystemFonts(fontpaths=font_dirs)\n",
    "for font_file in font_files:\n",
    "    font_manager.fontManager.addfont(font_file)\n",
    "plt.rcParams[\"font.family\"] = \"Arial\"\n",
    "plt.figure(figsize=(6,6))\n",
    "plt.scatter(data = porec_contact_interval_norm_norm,x='pos_count_x',y='pos_count_y',s=0.2,color='r')\n",
    "scalemax = porec_contact_interval_norm.max().max()\n",
    "scalemin = porec_contact_interval_norm.min().min()\n",
    "plt.ylabel(f'Normalized Contact (Pore-C Rep1)')\n",
    "plt.xlabel(f'Normalized Contact (Pore-C Rep2)')\n",
    "plt.ylim(0,600)\n",
    "plt.xlim(0,600)\n",
    "plt.plot((0,600), (0,600), ls='--',c='k')\n",
    "r = porec_contact_interval_norm_norm['pos_count_x'].corr(porec_contact_interval_norm_norm['pos_count_y'])\n",
    "plt.text(-2,1,f'Pearson\\'s r {r}')\n",
    "plt.savefig('/public/home/lizw/task/pore_c/porec_1000_filter_mainchr_result/norm_pair_contact.svg',format='svg')"
   ]
  },
  {
   "cell_type": "code",
   "execution_count": 115,
   "metadata": {},
   "outputs": [
    {
     "name": "stdout",
     "output_type": "stream",
     "text": [
      "Overwriting /public/home/lizw/task/pore_c/tools/jp_note/new/hic_porec_contact_consistency.py\n"
     ]
    }
   ],
   "source": [
    "%%writefile \"~/task/pore_c/tools/jp_note/new/hic_porec_contact_consistency.py\"\n",
    "import pandas as pd\n",
    "from porecplot_draw_func import chr_interval,region_reads\n",
    "region_df = region_reads(\"/public/home/lizw/task/pore_c/porec_result2/bed/all_chr.bed\")\n",
    "binsize=1000\n",
    "\n",
    "porec_merge = \"/public/home/lizw/task/pore_c/porec_result/20210421_merge_result/pairs/cis.txt\"\n",
    "hic_path = \"/public/home/lizw/task/pore_c/DpnII_hic/aligned/cis.txt\"\n",
    "\n",
    "porec_merge_df = pd.read_csv(\"/public/home/lizw/task/pore_c/porec_result/20210421_merge_result/pairs/cis.txt\",usecols=[1,2],sep=\"\\t\",header=None,index_col=None,names=['chr_x','site_x'],converters={'chr_x':str,'site_x':int})\n",
    "porec_merge_df_sub = porec_merge_df.reindex(['read_ID','chr_x','site_x'],axis=1)\n",
    "porec_merge_df_sub.columns=['read_ID','chr','pos']\n",
    "\n",
    "porec_df_count,*rest_3 = chr_interval(porec_merge_df_sub,region_df,'pos',binsize)\n",
    "porec_df_count_norm = porec_df_count/porec_df_count.sum()*1000000\n",
    "\n",
    "hic_pair_df = pd.read_csv(hic_path,header=None,sep=\"\\s\",names=['chr_x','site_x','chr_y','site_y','read_name'],converters={'chr_x':str,'chr_y':str,'site_y':int,'read_name':str},comment=\"#\")\n",
    "hic_pair_df_sub = hic_pair_df.reindex(['read_name','chr_x','site_x'],axis=1)\n",
    "hic_pair_df_sub.columns=['readID','chr','pos']\n",
    "hic_df_count,*rest_2 = chr_interval(hic_pair_df_sub,region_df,'pos',binsize)\n",
    "hic_df_count_norm = hic_df_count/hic_df_count.sum()*1000000\n",
    "contact_interval_norm = pd.merge(porec_df_count_norm,hic_df_count_norm,on=['region_index','interval'])\n",
    "contact_interval_norm.to_csv(\"contact_interval_norm.csv\")\n",
    "import matplotlib.pyplot as plt\n",
    "import matplotlib.font_manager as font_manager\n",
    "font_dirs = [\"/public/home/lizw/software/font\"]\n",
    "font_files = font_manager.findSystemFonts(fontpaths=font_dirs)\n",
    "for font_file in font_files:\n",
    "    font_manager.fontManager.addfont(font_file)\n",
    "plt.rcParams[\"font.family\"] = \"Arial\"\n",
    "plt.figure(figsize=(6,6))\n",
    "plt.scatter(data = contact_interval_norm,x='pos_count_x',y='pos_count_y',s=0.2,color='r')\n",
    "scalemax = contact_interval_norm.reindex(['pos_count_x','pos_count_y'],axis=1).max().max()\n",
    "scalemin = contact_interval_norm.reindex(['pos_count_x','pos_count_y'],axis=1).min().min()\n",
    "plt.xlabel(f'Normalized Contact (Pore-C)')\n",
    "plt.xlabel(f'Normalized (Hi-C)')\n",
    "plt.plot((scalemin,scalemax), (scalemin, scalemax), ls='--',c='k')\n",
    "r = contact_interval_norm['pos_count_x'].corr(contact_interval_norm['pos_count_y'])\n",
    "plt.text(scalemin-0.02,scalemax+0.02,f'Pearson\\'s r {r}')\n",
    "plt.savefig('test_hic_porec_norm_pair_contact.svg',format='svg')"
   ]
  },
  {
   "cell_type": "code",
   "execution_count": 102,
   "metadata": {},
   "outputs": [],
   "source": [
    "import pandas as pd"
   ]
  },
  {
   "cell_type": "code",
   "execution_count": 104,
   "metadata": {},
   "outputs": [],
   "source": [
    "contact_interval_norm = pd.read_csv(\"contact_interval_norm.csv\")"
   ]
  },
  {
   "cell_type": "code",
   "execution_count": 105,
   "metadata": {},
   "outputs": [
    {
     "data": {
      "text/html": [
       "<div>\n",
       "<style scoped>\n",
       "    .dataframe tbody tr th:only-of-type {\n",
       "        vertical-align: middle;\n",
       "    }\n",
       "\n",
       "    .dataframe tbody tr th {\n",
       "        vertical-align: top;\n",
       "    }\n",
       "\n",
       "    .dataframe thead th {\n",
       "        text-align: right;\n",
       "    }\n",
       "</style>\n",
       "<table border=\"1\" class=\"dataframe\">\n",
       "  <thead>\n",
       "    <tr style=\"text-align: right;\">\n",
       "      <th></th>\n",
       "      <th>region_index</th>\n",
       "      <th>interval</th>\n",
       "      <th>pos_count_x</th>\n",
       "      <th>pos_count_y</th>\n",
       "    </tr>\n",
       "  </thead>\n",
       "  <tbody>\n",
       "    <tr>\n",
       "      <th>0</th>\n",
       "      <td>0</td>\n",
       "      <td>(0, 1000000]</td>\n",
       "      <td>13120.916027</td>\n",
       "      <td>9514.540530</td>\n",
       "    </tr>\n",
       "    <tr>\n",
       "      <th>1</th>\n",
       "      <td>0</td>\n",
       "      <td>(1000000, 2000000]</td>\n",
       "      <td>12734.573685</td>\n",
       "      <td>8992.631226</td>\n",
       "    </tr>\n",
       "    <tr>\n",
       "      <th>2</th>\n",
       "      <td>0</td>\n",
       "      <td>(2000000, 3000000]</td>\n",
       "      <td>12330.343997</td>\n",
       "      <td>9702.426603</td>\n",
       "    </tr>\n",
       "    <tr>\n",
       "      <th>3</th>\n",
       "      <td>0</td>\n",
       "      <td>(3000000, 4000000]</td>\n",
       "      <td>11543.219641</td>\n",
       "      <td>8607.413720</td>\n",
       "    </tr>\n",
       "    <tr>\n",
       "      <th>4</th>\n",
       "      <td>0</td>\n",
       "      <td>(4000000, 5000000]</td>\n",
       "      <td>10998.689884</td>\n",
       "      <td>7840.818545</td>\n",
       "    </tr>\n",
       "    <tr>\n",
       "      <th>...</th>\n",
       "      <td>...</td>\n",
       "      <td>...</td>\n",
       "      <td>...</td>\n",
       "      <td>...</td>\n",
       "    </tr>\n",
       "    <tr>\n",
       "      <th>116</th>\n",
       "      <td>4</td>\n",
       "      <td>(22000000, 23000000]</td>\n",
       "      <td>6508.073642</td>\n",
       "      <td>6645.299802</td>\n",
       "    </tr>\n",
       "    <tr>\n",
       "      <th>117</th>\n",
       "      <td>4</td>\n",
       "      <td>(23000000, 24000000]</td>\n",
       "      <td>5939.085677</td>\n",
       "      <td>7448.602113</td>\n",
       "    </tr>\n",
       "    <tr>\n",
       "      <th>118</th>\n",
       "      <td>4</td>\n",
       "      <td>(24000000, 25000000]</td>\n",
       "      <td>5347.099695</td>\n",
       "      <td>7040.930604</td>\n",
       "    </tr>\n",
       "    <tr>\n",
       "      <th>119</th>\n",
       "      <td>4</td>\n",
       "      <td>(25000000, 26000000]</td>\n",
       "      <td>4449.487513</td>\n",
       "      <td>6764.090091</td>\n",
       "    </tr>\n",
       "    <tr>\n",
       "      <th>120</th>\n",
       "      <td>4</td>\n",
       "      <td>(26000000, 27000000]</td>\n",
       "      <td>2971.246395</td>\n",
       "      <td>6535.263490</td>\n",
       "    </tr>\n",
       "  </tbody>\n",
       "</table>\n",
       "<p>121 rows × 4 columns</p>\n",
       "</div>"
      ],
      "text/plain": [
       "     region_index              interval   pos_count_x  pos_count_y\n",
       "0               0          (0, 1000000]  13120.916027  9514.540530\n",
       "1               0    (1000000, 2000000]  12734.573685  8992.631226\n",
       "2               0    (2000000, 3000000]  12330.343997  9702.426603\n",
       "3               0    (3000000, 4000000]  11543.219641  8607.413720\n",
       "4               0    (4000000, 5000000]  10998.689884  7840.818545\n",
       "..            ...                   ...           ...          ...\n",
       "116             4  (22000000, 23000000]   6508.073642  6645.299802\n",
       "117             4  (23000000, 24000000]   5939.085677  7448.602113\n",
       "118             4  (24000000, 25000000]   5347.099695  7040.930604\n",
       "119             4  (25000000, 26000000]   4449.487513  6764.090091\n",
       "120             4  (26000000, 27000000]   2971.246395  6535.263490\n",
       "\n",
       "[121 rows x 4 columns]"
      ]
     },
     "execution_count": 105,
     "metadata": {},
     "output_type": "execute_result"
    }
   ],
   "source": [
    "contact_interval_norm "
   ]
  },
  {
   "cell_type": "markdown",
   "metadata": {},
   "source": [
    "# pairix"
   ]
  },
  {
   "cell_type": "code",
   "execution_count": 2,
   "metadata": {
    "ExecuteTime": {
     "end_time": "2021-08-04T07:53:31.900848Z",
     "start_time": "2021-08-04T07:53:31.774545Z"
    }
   },
   "outputs": [],
   "source": [
    "import pypairix"
   ]
  },
  {
   "cell_type": "code",
   "execution_count": null,
   "metadata": {},
   "outputs": [],
   "source": [
    " "
   ]
  }
 ],
 "metadata": {
  "kernelspec": {
   "display_name": "pairix",
   "language": "python",
   "name": "pairix"
  },
  "language_info": {
   "codemirror_mode": {
    "name": "ipython",
    "version": 3
   },
   "file_extension": ".py",
   "mimetype": "text/x-python",
   "name": "python",
   "nbconvert_exporter": "python",
   "pygments_lexer": "ipython3",
   "version": "3.9.6"
  },
  "toc": {
   "base_numbering": 1,
   "nav_menu": {},
   "number_sections": true,
   "sideBar": true,
   "skip_h1_title": false,
   "title_cell": "Table of Contents",
   "title_sidebar": "Contents",
   "toc_cell": false,
   "toc_position": {},
   "toc_section_display": true,
   "toc_window_display": false
  },
  "varInspector": {
   "cols": {
    "lenName": 16,
    "lenType": 16,
    "lenVar": 40
   },
   "kernels_config": {
    "python": {
     "delete_cmd_postfix": "",
     "delete_cmd_prefix": "del ",
     "library": "var_list.py",
     "varRefreshCmd": "print(var_dic_list())"
    },
    "r": {
     "delete_cmd_postfix": ") ",
     "delete_cmd_prefix": "rm(",
     "library": "var_list.r",
     "varRefreshCmd": "cat(var_dic_list()) "
    }
   },
   "types_to_exclude": [
    "module",
    "function",
    "builtin_function_or_method",
    "instance",
    "_Feature"
   ],
   "window_display": false
  }
 },
 "nbformat": 4,
 "nbformat_minor": 4
}
