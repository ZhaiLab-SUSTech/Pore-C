{
 "cells": [
  {
   "cell_type": "code",
   "execution_count": 1,
   "metadata": {
    "ExecuteTime": {
     "end_time": "2021-08-17T13:15:23.039562Z",
     "start_time": "2021-08-17T13:15:15.380316Z"
    }
   },
   "outputs": [],
   "source": [
    "import pandas as pd"
   ]
  },
  {
   "cell_type": "code",
   "execution_count": 35,
   "metadata": {
    "ExecuteTime": {
     "end_time": "2021-08-18T02:03:25.607596Z",
     "start_time": "2021-08-18T02:03:13.882281Z"
    }
   },
   "outputs": [],
   "source": [
    "read_info_run04 = pd.read_csv('/public/home/lizw/task/pore_c/porec_1000_filter_mainchr_result/porecplot_v3/porec_pre_v2.2/DpnII_run04.read_info.csv',converters={'divide_order':str})"
   ]
  },
  {
   "cell_type": "code",
   "execution_count": 33,
   "metadata": {
    "ExecuteTime": {
     "end_time": "2021-08-18T02:00:42.518852Z",
     "start_time": "2021-08-18T02:00:37.267150Z"
    }
   },
   "outputs": [],
   "source": [
    "read_info_run02 = pd.read_csv('/public/home/lizw/task/pore_c/porec_1000_filter_mainchr_result/porecplot_v3/porec_pre_v2.2/DpnII_run02.read_info.csv',converters={'divide_order':str})"
   ]
  },
  {
   "cell_type": "code",
   "execution_count": 34,
   "metadata": {
    "ExecuteTime": {
     "end_time": "2021-08-18T02:00:47.198720Z",
     "start_time": "2021-08-18T02:00:46.026203Z"
    }
   },
   "outputs": [
    {
     "data": {
      "text/html": [
       "<div>\n",
       "<style scoped>\n",
       "    .dataframe tbody tr th:only-of-type {\n",
       "        vertical-align: middle;\n",
       "    }\n",
       "\n",
       "    .dataframe tbody tr th {\n",
       "        vertical-align: top;\n",
       "    }\n",
       "\n",
       "    .dataframe thead th {\n",
       "        text-align: right;\n",
       "    }\n",
       "</style>\n",
       "<table border=\"1\" class=\"dataframe\">\n",
       "  <thead>\n",
       "    <tr style=\"text-align: right;\">\n",
       "      <th></th>\n",
       "      <th>Unnamed: 0</th>\n",
       "      <th>read_name</th>\n",
       "      <th>read_length</th>\n",
       "      <th>order</th>\n",
       "    </tr>\n",
       "    <tr>\n",
       "      <th>divide_order</th>\n",
       "      <th></th>\n",
       "      <th></th>\n",
       "      <th></th>\n",
       "      <th></th>\n",
       "    </tr>\n",
       "  </thead>\n",
       "  <tbody>\n",
       "    <tr>\n",
       "      <th>1</th>\n",
       "      <td>895268</td>\n",
       "      <td>895268</td>\n",
       "      <td>895268</td>\n",
       "      <td>895268</td>\n",
       "    </tr>\n",
       "    <tr>\n",
       "      <th>11-20</th>\n",
       "      <td>1913</td>\n",
       "      <td>1913</td>\n",
       "      <td>1913</td>\n",
       "      <td>1913</td>\n",
       "    </tr>\n",
       "    <tr>\n",
       "      <th>2</th>\n",
       "      <td>784159</td>\n",
       "      <td>784159</td>\n",
       "      <td>784159</td>\n",
       "      <td>784159</td>\n",
       "    </tr>\n",
       "    <tr>\n",
       "      <th>20+</th>\n",
       "      <td>41</td>\n",
       "      <td>41</td>\n",
       "      <td>41</td>\n",
       "      <td>41</td>\n",
       "    </tr>\n",
       "    <tr>\n",
       "      <th>3</th>\n",
       "      <td>428332</td>\n",
       "      <td>428332</td>\n",
       "      <td>428332</td>\n",
       "      <td>428332</td>\n",
       "    </tr>\n",
       "    <tr>\n",
       "      <th>4-5</th>\n",
       "      <td>298375</td>\n",
       "      <td>298375</td>\n",
       "      <td>298375</td>\n",
       "      <td>298375</td>\n",
       "    </tr>\n",
       "    <tr>\n",
       "      <th>6-10</th>\n",
       "      <td>73811</td>\n",
       "      <td>73811</td>\n",
       "      <td>73811</td>\n",
       "      <td>73811</td>\n",
       "    </tr>\n",
       "  </tbody>\n",
       "</table>\n",
       "</div>"
      ],
      "text/plain": [
       "              Unnamed: 0  read_name  read_length   order\n",
       "divide_order                                            \n",
       "1                 895268     895268       895268  895268\n",
       "11-20               1913       1913         1913    1913\n",
       "2                 784159     784159       784159  784159\n",
       "20+                   41         41           41      41\n",
       "3                 428332     428332       428332  428332\n",
       "4-5               298375     298375       298375  298375\n",
       "6-10               73811      73811        73811   73811"
      ]
     },
     "execution_count": 34,
     "metadata": {},
     "output_type": "execute_result"
    }
   ],
   "source": [
    "read_info_run02.groupby('divide_order').count()"
   ]
  },
  {
   "cell_type": "code",
   "execution_count": 38,
   "metadata": {
    "ExecuteTime": {
     "end_time": "2021-08-18T02:21:18.289664Z",
     "start_time": "2021-08-18T02:21:17.827471Z"
    }
   },
   "outputs": [
    {
     "data": {
      "text/plain": [
       "2.0"
      ]
     },
     "execution_count": 38,
     "metadata": {},
     "output_type": "execute_result"
    }
   ],
   "source": [
    "read_info_run02['order'].median()"
   ]
  },
  {
   "cell_type": "code",
   "execution_count": 36,
   "metadata": {
    "ExecuteTime": {
     "end_time": "2021-08-18T02:03:30.573285Z",
     "start_time": "2021-08-18T02:03:28.458726Z"
    }
   },
   "outputs": [
    {
     "data": {
      "text/html": [
       "<div>\n",
       "<style scoped>\n",
       "    .dataframe tbody tr th:only-of-type {\n",
       "        vertical-align: middle;\n",
       "    }\n",
       "\n",
       "    .dataframe tbody tr th {\n",
       "        vertical-align: top;\n",
       "    }\n",
       "\n",
       "    .dataframe thead th {\n",
       "        text-align: right;\n",
       "    }\n",
       "</style>\n",
       "<table border=\"1\" class=\"dataframe\">\n",
       "  <thead>\n",
       "    <tr style=\"text-align: right;\">\n",
       "      <th></th>\n",
       "      <th>Unnamed: 0</th>\n",
       "      <th>read_name</th>\n",
       "      <th>read_length</th>\n",
       "      <th>order</th>\n",
       "    </tr>\n",
       "    <tr>\n",
       "      <th>divide_order</th>\n",
       "      <th></th>\n",
       "      <th></th>\n",
       "      <th></th>\n",
       "      <th></th>\n",
       "    </tr>\n",
       "  </thead>\n",
       "  <tbody>\n",
       "    <tr>\n",
       "      <th>1</th>\n",
       "      <td>969869</td>\n",
       "      <td>969869</td>\n",
       "      <td>969869</td>\n",
       "      <td>969869</td>\n",
       "    </tr>\n",
       "    <tr>\n",
       "      <th>11-20</th>\n",
       "      <td>98820</td>\n",
       "      <td>98820</td>\n",
       "      <td>98820</td>\n",
       "      <td>98820</td>\n",
       "    </tr>\n",
       "    <tr>\n",
       "      <th>2</th>\n",
       "      <td>1259516</td>\n",
       "      <td>1259516</td>\n",
       "      <td>1259516</td>\n",
       "      <td>1259516</td>\n",
       "    </tr>\n",
       "    <tr>\n",
       "      <th>20+</th>\n",
       "      <td>1242</td>\n",
       "      <td>1242</td>\n",
       "      <td>1242</td>\n",
       "      <td>1242</td>\n",
       "    </tr>\n",
       "    <tr>\n",
       "      <th>3</th>\n",
       "      <td>1111745</td>\n",
       "      <td>1111745</td>\n",
       "      <td>1111745</td>\n",
       "      <td>1111745</td>\n",
       "    </tr>\n",
       "    <tr>\n",
       "      <th>4-5</th>\n",
       "      <td>1256486</td>\n",
       "      <td>1256486</td>\n",
       "      <td>1256486</td>\n",
       "      <td>1256486</td>\n",
       "    </tr>\n",
       "    <tr>\n",
       "      <th>6-10</th>\n",
       "      <td>774822</td>\n",
       "      <td>774822</td>\n",
       "      <td>774822</td>\n",
       "      <td>774822</td>\n",
       "    </tr>\n",
       "  </tbody>\n",
       "</table>\n",
       "</div>"
      ],
      "text/plain": [
       "              Unnamed: 0  read_name  read_length    order\n",
       "divide_order                                             \n",
       "1                 969869     969869       969869   969869\n",
       "11-20              98820      98820        98820    98820\n",
       "2                1259516    1259516      1259516  1259516\n",
       "20+                 1242       1242         1242     1242\n",
       "3                1111745    1111745      1111745  1111745\n",
       "4-5              1256486    1256486      1256486  1256486\n",
       "6-10              774822     774822       774822   774822"
      ]
     },
     "execution_count": 36,
     "metadata": {},
     "output_type": "execute_result"
    }
   ],
   "source": [
    "read_info_run04.groupby('divide_order').count()"
   ]
  },
  {
   "cell_type": "code",
   "execution_count": 39,
   "metadata": {
    "ExecuteTime": {
     "end_time": "2021-08-18T02:21:30.972500Z",
     "start_time": "2021-08-18T02:21:30.677051Z"
    }
   },
   "outputs": [
    {
     "data": {
      "text/plain": [
       "3.0"
      ]
     },
     "execution_count": 39,
     "metadata": {},
     "output_type": "execute_result"
    }
   ],
   "source": [
    "read_info_run04['order'].median()"
   ]
  },
  {
   "cell_type": "code",
   "execution_count": null,
   "metadata": {},
   "outputs": [],
   "source": []
  }
 ],
 "metadata": {
  "kernelspec": {
   "display_name": "Python 3",
   "language": "python",
   "name": "python3"
  },
  "language_info": {
   "codemirror_mode": {
    "name": "ipython",
    "version": 3
   },
   "file_extension": ".py",
   "mimetype": "text/x-python",
   "name": "python",
   "nbconvert_exporter": "python",
   "pygments_lexer": "ipython3",
   "version": "3.7.6"
  },
  "toc": {
   "base_numbering": 1,
   "nav_menu": {},
   "number_sections": true,
   "sideBar": true,
   "skip_h1_title": false,
   "title_cell": "Table of Contents",
   "title_sidebar": "Contents",
   "toc_cell": false,
   "toc_position": {},
   "toc_section_display": true,
   "toc_window_display": false
  },
  "varInspector": {
   "cols": {
    "lenName": 16,
    "lenType": 16,
    "lenVar": 40
   },
   "kernels_config": {
    "python": {
     "delete_cmd_postfix": "",
     "delete_cmd_prefix": "del ",
     "library": "var_list.py",
     "varRefreshCmd": "print(var_dic_list())"
    },
    "r": {
     "delete_cmd_postfix": ") ",
     "delete_cmd_prefix": "rm(",
     "library": "var_list.r",
     "varRefreshCmd": "cat(var_dic_list()) "
    }
   },
   "types_to_exclude": [
    "module",
    "function",
    "builtin_function_or_method",
    "instance",
    "_Feature"
   ],
   "window_display": false
  }
 },
 "nbformat": 4,
 "nbformat_minor": 4
}
