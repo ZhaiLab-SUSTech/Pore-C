{
 "cells": [
  {
   "cell_type": "code",
   "execution_count": 1,
   "metadata": {},
   "outputs": [],
   "source": [
    "import pandas as pd\n",
    "args_gene_model =  pd.read_csv('/public/home/lizw/data/IMPORTANT_genome/arabidopsis/Araport11/bed/simplify_araport11.representative.gene_model.bed', sep='\\t', \n",
    "                           names=['chrom', 'chromStart', 'chromEnd', 'name', \n",
    "                               'score', 'strand', 'thickStart', 'thickEnd', \n",
    "                               'itemRgb', 'blockCount', 'blockSizes', 'blockStarts']\n",
    "                          )#gene model in bed12 format\n",
    "args_refer_point =  'TSS'#TSS or TTS\n",
    "args_focal_point = 1000   #upstream or downstream of refer_point region. eg. TSS point. positive number refer to upstream, and negative refer to downstream.\n",
    "args_region_control = 2000 #the region compare with focal point for interaction calculating\n",
    "args_align_merge_part = '/public/home/lizw/task/pore_c/pipeline_test_v1/V1test_order2_merge_part.csv'\n",
    "args_keepall = '/public/home/lizw/task/pore_c/pipeline_test_v1/V1test_sorted_orderall_fornormailize.csv'\n",
    "args_binsize = 50\n",
    "args_prefix = 'total_gene_TSS_1000'\n",
    "args_digest = '/public/home/lizw/task/pore_c/exp23_merge/result2/virtual_digest/DpnII_TAIR10.vd.fragments.parquet'"
   ]
  },
  {
   "cell_type": "code",
   "execution_count": 2,
   "metadata": {},
   "outputs": [],
   "source": [
    "from porecplot_draw_func import chr_interval,anchor_reads,anchor_calcu"
   ]
  },
  {
   "cell_type": "code",
   "execution_count": 3,
   "metadata": {},
   "outputs": [],
   "source": [
    "args_gene_model['gene_id'] = args_gene_model['name'].map(lambda x: x.split('.')[0])\n",
    "gene_model_sub =  args_gene_model.loc[:,('chrom','chromStart','chromEnd','strand','thickStart','thickEnd','blockCount','blockSizes','blockStarts','gene_id')]"
   ]
  },
  {
   "cell_type": "code",
   "execution_count": 4,
   "metadata": {},
   "outputs": [],
   "source": [
    "digest_df = pd.read_parquet(args_digest)"
   ]
  },
  {
   "cell_type": "code",
   "execution_count": 5,
   "metadata": {},
   "outputs": [],
   "source": [
    "df_merge_part = pd.read_csv(args_align_merge_part,sep='\\t')\n",
    "merge_keepall_part = pd.read_csv(args_keepall,header=None,sep='\\t',names=['chr','site'],converters={'chr':str, 'site':int})"
   ]
  },
  {
   "cell_type": "code",
   "execution_count": 9,
   "metadata": {},
   "outputs": [],
   "source": [
    "gene_model_sub = gene_model_sub.sample(2)\n",
    "for gene in gene_model_sub.itertuples():\n",
    "    _,gene_chr,gene_start,gene_end,gene_strand,gene_thickStart,gene_thickEnd,gene_blockCount,temp_blockSizes,temp_blockStarts,gene_id = gene\n",
    "    \n",
    "    focal_point = args_focal_point\n",
    "    refer_point = args_refer_point\n",
    "    \n",
    "    if refer_point == 'TSS':\n",
    "        if gene_strand == '+':\n",
    "            anchor_point = gene_start - focal_point\n",
    "        else:\n",
    "            anchor_point = gene_end + focal_point\n",
    "    elif refer_point == 'TTS':\n",
    "        if gene_strand == '+':\n",
    "            anchor_point = gene_end - focal_point\n",
    "        else:\n",
    "            anchor_point = gene_start + focal_point\n",
    "    \n",
    "    anchor_df = digest_df.query('chrom == @gene_chr and start <= @anchor_point and end >= @anchor_point').loc[:,('chrom','start','end')]\n",
    "    region_control = args_region_control\n",
    "    region_dict = {'region_chr':gene_chr,'region_start':anchor_point-region_control,'region_end':anchor_point+region_control}\n",
    "    region_df = pd.DataFrame(region_dict,index=[0])\n",
    "    region_df['region_size'] = 2*region_control\n",
    "    region_df['region_index'] = region_df.index\n",
    "    anchor_interval_count,anchor_filter_merge = anchor_reads(anchor_df,df_merge_part,region_df,'fragment_mid',args_binsize,'and',args_prefix,False)\n",
    "    anchor_binnor_merge_all_sort = anchor_calcu(merge_keepall_part,anchor_interval_count,region_df,args_binsize,args_prefix,False)"
   ]
  },
  {
   "cell_type": "code",
   "execution_count": 7,
   "metadata": {},
   "outputs": [
    {
     "data": {
      "text/html": [
       "<div>\n",
       "<style scoped>\n",
       "    .dataframe tbody tr th:only-of-type {\n",
       "        vertical-align: middle;\n",
       "    }\n",
       "\n",
       "    .dataframe tbody tr th {\n",
       "        vertical-align: top;\n",
       "    }\n",
       "\n",
       "    .dataframe thead th {\n",
       "        text-align: right;\n",
       "    }\n",
       "</style>\n",
       "<table border=\"1\" class=\"dataframe\">\n",
       "  <thead>\n",
       "    <tr style=\"text-align: right;\">\n",
       "      <th></th>\n",
       "      <th>chrom</th>\n",
       "      <th>start</th>\n",
       "      <th>end</th>\n",
       "    </tr>\n",
       "  </thead>\n",
       "  <tbody>\n",
       "    <tr>\n",
       "      <th>38341</th>\n",
       "      <td>1</td>\n",
       "      <td>10329236</td>\n",
       "      <td>10329590</td>\n",
       "    </tr>\n",
       "  </tbody>\n",
       "</table>\n",
       "</div>"
      ],
      "text/plain": [
       "      chrom     start       end\n",
       "38341     1  10329236  10329590"
      ]
     },
     "execution_count": 7,
     "metadata": {},
     "output_type": "execute_result"
    }
   ],
   "source": [
    "anchor_df"
   ]
  },
  {
   "cell_type": "code",
   "execution_count": 8,
   "metadata": {},
   "outputs": [
    {
     "data": {
      "text/plain": [
       "'/public/home/lizw/task/pore_c/pipeline_test_v1/V1test_order2_merge_part.csv'"
      ]
     },
     "execution_count": 8,
     "metadata": {},
     "output_type": "execute_result"
    }
   ],
   "source": [
    "args_align_merge_part"
   ]
  },
  {
   "cell_type": "code",
   "execution_count": null,
   "metadata": {},
   "outputs": [],
   "source": []
  }
 ],
 "metadata": {
  "kernelspec": {
   "display_name": "Python 3",
   "language": "python",
   "name": "python3"
  },
  "language_info": {
   "codemirror_mode": {
    "name": "ipython",
    "version": 3
   },
   "file_extension": ".py",
   "mimetype": "text/x-python",
   "name": "python",
   "nbconvert_exporter": "python",
   "pygments_lexer": "ipython3",
   "version": "3.7.6"
  }
 },
 "nbformat": 4,
 "nbformat_minor": 4
}
