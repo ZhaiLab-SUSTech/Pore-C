{
 "cells": [
  {
   "cell_type": "code",
   "execution_count": null,
   "metadata": {},
   "outputs": [],
   "source": [
    "#@Author: Zhuowen Li\n",
    "#@LastEdit: 2021/10/12 下午3:17:20\n",
    "#@Version: V1\n",
    "#@Description: #calculate the enrichment of high-order interactions, based on the method described by SPRITE(Sofia A. Quinodoz, Noah Ollikainen, 2018)"
   ]
  },
  {
   "cell_type": "code",
   "execution_count": 1,
   "metadata": {
    "ExecuteTime": {
     "end_time": "2022-02-17T12:21:26.557858Z",
     "start_time": "2022-02-17T12:21:17.284927Z"
    }
   },
   "outputs": [],
   "source": [
    "import pandas as pd"
   ]
  },
  {
   "cell_type": "code",
   "execution_count": null,
   "metadata": {},
   "outputs": [],
   "source": [
    "#define the rule for shuflling across the genome\n",
    "#set a region within the same arm for each kee, if kee in peri, locate its region in peri\n",
    "#for kees in the same arm, keep a solid distance to shuffle.But the kee in the same arm side on chr with another kee should consider the distance first(join k_mer together)\n",
    "#further aims: normalized by order counts?"
   ]
  },
  {
   "cell_type": "markdown",
   "metadata": {},
   "source": [
    "# KEE"
   ]
  },
  {
   "cell_type": "code",
   "execution_count": 9,
   "metadata": {
    "ExecuteTime": {
     "end_time": "2022-02-17T12:24:31.218278Z",
     "start_time": "2022-02-17T12:24:31.094907Z"
    }
   },
   "outputs": [],
   "source": [
    "telomere_and_peri_region = pd.read_table('/public/home/lizw/task/pore_c/porec_1000_filter_mainchr_result/porecplot_v3/porec_pre_v2.9/telo/arm.bed',names=['chrom','start','end','name'],header=None)"
   ]
  },
  {
   "cell_type": "code",
   "execution_count": 10,
   "metadata": {
    "ExecuteTime": {
     "end_time": "2022-02-17T12:24:33.295346Z",
     "start_time": "2022-02-17T12:24:33.269883Z"
    }
   },
   "outputs": [],
   "source": [
    "#there are also two KEE located within the peri region\n",
    "peri_bed = pd.read_table('~/task/pore_c/porec_1000_filter_mainchr_result/porecplot_v3/porec_pre_v2.9/peri/peri.anchor.bed',names=['chrom','start','end','name'],header=None)"
   ]
  },
  {
   "cell_type": "code",
   "execution_count": 11,
   "metadata": {
    "ExecuteTime": {
     "end_time": "2022-02-17T12:24:33.777231Z",
     "start_time": "2022-02-17T12:24:33.753454Z"
    }
   },
   "outputs": [],
   "source": [
    "all_divi_bed = pd.concat([telomere_and_peri_region,peri_bed])"
   ]
  },
  {
   "cell_type": "code",
   "execution_count": 12,
   "metadata": {
    "ExecuteTime": {
     "end_time": "2022-02-17T12:24:34.554672Z",
     "start_time": "2022-02-17T12:24:34.485465Z"
    }
   },
   "outputs": [],
   "source": [
    "kee_bed = pd.read_table('~/task/pore_c/porec_1000_filter_mainchr_result/porecplot_v3/porec_pre_v2.9/kee/kee.bed',names=['chrom','start','end','name'],header=None)"
   ]
  },
  {
   "cell_type": "code",
   "execution_count": 13,
   "metadata": {
    "ExecuteTime": {
     "end_time": "2022-02-17T12:24:34.957340Z",
     "start_time": "2022-02-17T12:24:34.865591Z"
    }
   },
   "outputs": [],
   "source": [
    "#find the region KEE located in\n",
    "kee_region_start_dict = {}\n",
    "for i in kee_bed.itertuples(index=False):\n",
    "    chrom,start,end,name = i\n",
    "    select_region = all_divi_bed.query('(chrom == @chrom) & (start <= @start) & (end >= @end)')\n",
    "    #length are all 300kb, so we can cutoff the end 300kb region, and only shuffle the begion region.\n",
    "    select_region_cut_end = select_region.eval('end = end - 300000')\n",
    "    kee_region_start_dict[name] = select_region_cut_end.to_dict(orient='records')[0]"
   ]
  },
  {
   "cell_type": "code",
   "execution_count": 14,
   "metadata": {
    "ExecuteTime": {
     "end_time": "2022-02-17T12:24:36.882997Z",
     "start_time": "2022-02-17T12:24:36.856761Z"
    }
   },
   "outputs": [],
   "source": [
    "import numpy as np"
   ]
  },
  {
   "cell_type": "code",
   "execution_count": 15,
   "metadata": {
    "ExecuteTime": {
     "end_time": "2022-02-17T12:24:41.424367Z",
     "start_time": "2022-02-17T12:24:37.215431Z"
    }
   },
   "outputs": [],
   "source": [
    "kee_control_dict = dict()\n",
    "for kee in ['KEE1','KEE2','KEE3','KEE5','KEE7','KEE9']:\n",
    "    random_range = np.arange(kee_region_start_dict[kee]['start'],kee_region_start_dict[kee]['end'],1)\n",
    "    kee_control_dict[kee] = np.random.choice(random_range,replace=False,size=100)"
   ]
  },
  {
   "cell_type": "code",
   "execution_count": 16,
   "metadata": {
    "ExecuteTime": {
     "end_time": "2022-02-17T12:24:41.465007Z",
     "start_time": "2022-02-17T12:24:41.428424Z"
    }
   },
   "outputs": [],
   "source": [
    "kee3_kee4_dis = int(kee_bed.query('name == \"KEE4\"').loc[:,'start']) - int(kee_bed.query('name == \"KEE3\"').loc[:,'start'])\n",
    "kee_control_dict['KEE4'] = kee_control_dict['KEE3'] + kee3_kee4_dis"
   ]
  },
  {
   "cell_type": "code",
   "execution_count": 17,
   "metadata": {
    "ExecuteTime": {
     "end_time": "2022-02-17T12:24:41.493290Z",
     "start_time": "2022-02-17T12:24:41.466835Z"
    }
   },
   "outputs": [],
   "source": [
    "kee5_kee6_dis = int(kee_bed.query('name == \"KEE6\"').loc[:,'start']) - int(kee_bed.query('name == \"KEE5\"').loc[:,'start'])\n",
    "kee_control_dict['KEE6'] = kee_control_dict['KEE5'] + kee3_kee4_dis"
   ]
  },
  {
   "cell_type": "code",
   "execution_count": 18,
   "metadata": {
    "ExecuteTime": {
     "end_time": "2022-02-17T12:24:41.521139Z",
     "start_time": "2022-02-17T12:24:41.495800Z"
    }
   },
   "outputs": [],
   "source": [
    "kee7_kee8_dis = int(kee_bed.query('name == \"KEE8\"').loc[:,'start']) - int(kee_bed.query('name == \"KEE7\"').loc[:,'start'])\n",
    "kee_control_dict['KEE8'] = kee_control_dict['KEE7'] + kee3_kee4_dis"
   ]
  },
  {
   "cell_type": "code",
   "execution_count": 19,
   "metadata": {
    "ExecuteTime": {
     "end_time": "2022-02-17T12:24:42.752804Z",
     "start_time": "2022-02-17T12:24:42.725194Z"
    }
   },
   "outputs": [],
   "source": [
    "kee9_kee10_dis = int(kee_bed.query('name == \"KEE10\"').loc[:,'start']) - int(kee_bed.query('name == \"KEE9\"').loc[:,'start'])\n",
    "kee_control_dict['KEE10'] = kee_control_dict['KEE9'] + kee3_kee4_dis"
   ]
  },
  {
   "cell_type": "code",
   "execution_count": 20,
   "metadata": {
    "ExecuteTime": {
     "end_time": "2022-02-17T12:24:42.998868Z",
     "start_time": "2022-02-17T12:24:42.972842Z"
    }
   },
   "outputs": [],
   "source": [
    "start_df = pd.DataFrame(kee_control_dict).T"
   ]
  },
  {
   "cell_type": "code",
   "execution_count": 21,
   "metadata": {
    "ExecuteTime": {
     "end_time": "2022-02-17T12:24:43.480485Z",
     "start_time": "2022-02-17T12:24:43.375400Z"
    }
   },
   "outputs": [
    {
     "ename": "FileNotFoundError",
     "evalue": "[Errno 2] No such file or directory: '/public/home/lizw/task/pore_c/controls/kee/0.control.bed'",
     "output_type": "error",
     "traceback": [
      "\u001b[0;31m---------------------------------------------------------------------------\u001b[0m",
      "\u001b[0;31mFileNotFoundError\u001b[0m                         Traceback (most recent call last)",
      "\u001b[0;32m/tmp/ipykernel_88851/2589729363.py\u001b[0m in \u001b[0;36m<module>\u001b[0;34m\u001b[0m\n\u001b[1;32m      5\u001b[0m     \u001b[0mkee_sub_merge\u001b[0m\u001b[0;34m[\u001b[0m\u001b[0;34m'c_end'\u001b[0m\u001b[0;34m]\u001b[0m \u001b[0;34m=\u001b[0m \u001b[0mkee_sub_merge\u001b[0m\u001b[0;34m[\u001b[0m\u001b[0;34m'c_start'\u001b[0m\u001b[0;34m]\u001b[0m \u001b[0;34m+\u001b[0m \u001b[0;36m300000\u001b[0m\u001b[0;34m\u001b[0m\u001b[0;34m\u001b[0m\u001b[0m\n\u001b[1;32m      6\u001b[0m     \u001b[0mkee_sub_merge_reindex\u001b[0m \u001b[0;34m=\u001b[0m \u001b[0mkee_sub_merge\u001b[0m\u001b[0;34m.\u001b[0m\u001b[0mreindex\u001b[0m\u001b[0;34m(\u001b[0m\u001b[0;34m[\u001b[0m\u001b[0;34m'chrom'\u001b[0m\u001b[0;34m,\u001b[0m\u001b[0;34m'c_start'\u001b[0m\u001b[0;34m,\u001b[0m\u001b[0;34m'c_end'\u001b[0m\u001b[0;34m,\u001b[0m\u001b[0;34m'name'\u001b[0m\u001b[0;34m]\u001b[0m\u001b[0;34m,\u001b[0m\u001b[0maxis\u001b[0m\u001b[0;34m=\u001b[0m\u001b[0;36m1\u001b[0m\u001b[0;34m)\u001b[0m\u001b[0;34m\u001b[0m\u001b[0;34m\u001b[0m\u001b[0m\n\u001b[0;32m----> 7\u001b[0;31m     \u001b[0mkee_sub_merge_reindex\u001b[0m\u001b[0;34m.\u001b[0m\u001b[0mto_csv\u001b[0m\u001b[0;34m(\u001b[0m\u001b[0;34mf'/public/home/lizw/task/pore_c/controls/kee/{i}.control.bed'\u001b[0m\u001b[0;34m,\u001b[0m\u001b[0msep\u001b[0m\u001b[0;34m=\u001b[0m\u001b[0;34m\"\\t\"\u001b[0m\u001b[0;34m,\u001b[0m\u001b[0mheader\u001b[0m\u001b[0;34m=\u001b[0m\u001b[0;32mNone\u001b[0m\u001b[0;34m,\u001b[0m\u001b[0mindex\u001b[0m\u001b[0;34m=\u001b[0m\u001b[0;32mNone\u001b[0m\u001b[0;34m)\u001b[0m\u001b[0;34m\u001b[0m\u001b[0;34m\u001b[0m\u001b[0m\n\u001b[0m",
      "\u001b[0;32m~/anaconda3/lib/python3.7/site-packages/pandas/core/generic.py\u001b[0m in \u001b[0;36mto_csv\u001b[0;34m(self, path_or_buf, sep, na_rep, float_format, columns, header, index, index_label, mode, encoding, compression, quoting, quotechar, line_terminator, chunksize, date_format, doublequote, escapechar, decimal, errors, storage_options)\u001b[0m\n\u001b[1;32m   3480\u001b[0m             \u001b[0mdoublequote\u001b[0m\u001b[0;34m=\u001b[0m\u001b[0mdoublequote\u001b[0m\u001b[0;34m,\u001b[0m\u001b[0;34m\u001b[0m\u001b[0;34m\u001b[0m\u001b[0m\n\u001b[1;32m   3481\u001b[0m             \u001b[0mescapechar\u001b[0m\u001b[0;34m=\u001b[0m\u001b[0mescapechar\u001b[0m\u001b[0;34m,\u001b[0m\u001b[0;34m\u001b[0m\u001b[0;34m\u001b[0m\u001b[0m\n\u001b[0;32m-> 3482\u001b[0;31m             \u001b[0mstorage_options\u001b[0m\u001b[0;34m=\u001b[0m\u001b[0mstorage_options\u001b[0m\u001b[0;34m,\u001b[0m\u001b[0;34m\u001b[0m\u001b[0;34m\u001b[0m\u001b[0m\n\u001b[0m\u001b[1;32m   3483\u001b[0m         )\n\u001b[1;32m   3484\u001b[0m \u001b[0;34m\u001b[0m\u001b[0m\n",
      "\u001b[0;32m~/anaconda3/lib/python3.7/site-packages/pandas/io/formats/format.py\u001b[0m in \u001b[0;36mto_csv\u001b[0;34m(self, path_or_buf, encoding, sep, columns, index_label, mode, compression, quoting, quotechar, line_terminator, chunksize, date_format, doublequote, escapechar, errors, storage_options)\u001b[0m\n\u001b[1;32m   1103\u001b[0m             \u001b[0mformatter\u001b[0m\u001b[0;34m=\u001b[0m\u001b[0mself\u001b[0m\u001b[0;34m.\u001b[0m\u001b[0mfmt\u001b[0m\u001b[0;34m,\u001b[0m\u001b[0;34m\u001b[0m\u001b[0;34m\u001b[0m\u001b[0m\n\u001b[1;32m   1104\u001b[0m         )\n\u001b[0;32m-> 1105\u001b[0;31m         \u001b[0mcsv_formatter\u001b[0m\u001b[0;34m.\u001b[0m\u001b[0msave\u001b[0m\u001b[0;34m(\u001b[0m\u001b[0;34m)\u001b[0m\u001b[0;34m\u001b[0m\u001b[0;34m\u001b[0m\u001b[0m\n\u001b[0m\u001b[1;32m   1106\u001b[0m \u001b[0;34m\u001b[0m\u001b[0m\n\u001b[1;32m   1107\u001b[0m         \u001b[0;32mif\u001b[0m \u001b[0mcreated_buffer\u001b[0m\u001b[0;34m:\u001b[0m\u001b[0;34m\u001b[0m\u001b[0;34m\u001b[0m\u001b[0m\n",
      "\u001b[0;32m~/anaconda3/lib/python3.7/site-packages/pandas/io/formats/csvs.py\u001b[0m in \u001b[0;36msave\u001b[0;34m(self)\u001b[0m\n\u001b[1;32m    241\u001b[0m             \u001b[0merrors\u001b[0m\u001b[0;34m=\u001b[0m\u001b[0mself\u001b[0m\u001b[0;34m.\u001b[0m\u001b[0merrors\u001b[0m\u001b[0;34m,\u001b[0m\u001b[0;34m\u001b[0m\u001b[0;34m\u001b[0m\u001b[0m\n\u001b[1;32m    242\u001b[0m             \u001b[0mcompression\u001b[0m\u001b[0;34m=\u001b[0m\u001b[0mself\u001b[0m\u001b[0;34m.\u001b[0m\u001b[0mcompression\u001b[0m\u001b[0;34m,\u001b[0m\u001b[0;34m\u001b[0m\u001b[0;34m\u001b[0m\u001b[0m\n\u001b[0;32m--> 243\u001b[0;31m             \u001b[0mstorage_options\u001b[0m\u001b[0;34m=\u001b[0m\u001b[0mself\u001b[0m\u001b[0;34m.\u001b[0m\u001b[0mstorage_options\u001b[0m\u001b[0;34m,\u001b[0m\u001b[0;34m\u001b[0m\u001b[0;34m\u001b[0m\u001b[0m\n\u001b[0m\u001b[1;32m    244\u001b[0m         ) as handles:\n\u001b[1;32m    245\u001b[0m \u001b[0;34m\u001b[0m\u001b[0m\n",
      "\u001b[0;32m~/anaconda3/lib/python3.7/site-packages/pandas/io/common.py\u001b[0m in \u001b[0;36mget_handle\u001b[0;34m(path_or_buf, mode, encoding, compression, memory_map, is_text, errors, storage_options)\u001b[0m\n\u001b[1;32m    705\u001b[0m                 \u001b[0mencoding\u001b[0m\u001b[0;34m=\u001b[0m\u001b[0mioargs\u001b[0m\u001b[0;34m.\u001b[0m\u001b[0mencoding\u001b[0m\u001b[0;34m,\u001b[0m\u001b[0;34m\u001b[0m\u001b[0;34m\u001b[0m\u001b[0m\n\u001b[1;32m    706\u001b[0m                 \u001b[0merrors\u001b[0m\u001b[0;34m=\u001b[0m\u001b[0merrors\u001b[0m\u001b[0;34m,\u001b[0m\u001b[0;34m\u001b[0m\u001b[0;34m\u001b[0m\u001b[0m\n\u001b[0;32m--> 707\u001b[0;31m                 \u001b[0mnewline\u001b[0m\u001b[0;34m=\u001b[0m\u001b[0;34m\"\"\u001b[0m\u001b[0;34m,\u001b[0m\u001b[0;34m\u001b[0m\u001b[0;34m\u001b[0m\u001b[0m\n\u001b[0m\u001b[1;32m    708\u001b[0m             )\n\u001b[1;32m    709\u001b[0m         \u001b[0;32melse\u001b[0m\u001b[0;34m:\u001b[0m\u001b[0;34m\u001b[0m\u001b[0;34m\u001b[0m\u001b[0m\n",
      "\u001b[0;31mFileNotFoundError\u001b[0m: [Errno 2] No such file or directory: '/public/home/lizw/task/pore_c/controls/kee/0.control.bed'"
     ]
    }
   ],
   "source": [
    "for i in start_df.columns:\n",
    "    sub_start = start_df.iloc[:,i]\n",
    "    sub_start.name = 'c_start'\n",
    "    kee_sub_merge = pd.merge(kee_bed,sub_start,left_on='name',right_index=True)\n",
    "    kee_sub_merge['c_end'] = kee_sub_merge['c_start'] + 300000\n",
    "    kee_sub_merge_reindex = kee_sub_merge.reindex(['chrom','c_start','c_end','name'],axis=1)\n",
    "    kee_sub_merge_reindex.to_csv(f'/public/home/lizw/task/pore_c/controls/kee/{i}.control.bed',sep=\"\\t\",header=None,index=None)"
   ]
  },
  {
   "cell_type": "markdown",
   "metadata": {},
   "source": [
    "# Telo"
   ]
  },
  {
   "cell_type": "code",
   "execution_count": 49,
   "metadata": {
    "ExecuteTime": {
     "end_time": "2022-02-17T12:29:16.773500Z",
     "start_time": "2022-02-17T12:29:16.704912Z"
    }
   },
   "outputs": [],
   "source": [
    "telo_bed = pd.read_table('~/task/pore_c/porec_1000_filter_mainchr_result/porecplot_v3/porec_pre_v2.9/telo/telo_300k_no_NOR.bed',names=['chrom','start','end','name'],header=None)"
   ]
  },
  {
   "cell_type": "code",
   "execution_count": 50,
   "metadata": {
    "ExecuteTime": {
     "end_time": "2022-02-17T12:29:17.620619Z",
     "start_time": "2022-02-17T12:29:17.408554Z"
    }
   },
   "outputs": [],
   "source": [
    "#find the region KEE located in\n",
    "telo_region_start_dict = {}\n",
    "for i in telo_bed.itertuples(index=False):\n",
    "    chrom,start,end,name = i\n",
    "    select_region = all_divi_bed.query('(chrom == @chrom) & (start <= @start) & (end >= @end)')\n",
    "    #length are all 300kb, so we can cutoff the end 300kb region, and only shuffle the begion region.\n",
    "    select_region_cut_end = select_region.eval('end = end - 300000')\n",
    "    telo_region_start_dict[name] = select_region_cut_end.to_dict(orient='records')[0]"
   ]
  },
  {
   "cell_type": "code",
   "execution_count": 51,
   "metadata": {
    "ExecuteTime": {
     "end_time": "2022-02-17T12:29:24.038939Z",
     "start_time": "2022-02-17T12:29:18.848391Z"
    }
   },
   "outputs": [],
   "source": [
    "telo_control_dict = dict()\n",
    "for telo in telo_region_start_dict.keys():\n",
    "    random_range = np.arange(telo_region_start_dict[telo]['start'],telo_region_start_dict[telo]['end'],1)\n",
    "    telo_control_dict[telo] = np.random.choice(random_range,replace=False,size=100)"
   ]
  },
  {
   "cell_type": "code",
   "execution_count": 52,
   "metadata": {
    "ExecuteTime": {
     "end_time": "2022-02-17T12:29:25.188058Z",
     "start_time": "2022-02-17T12:29:25.009293Z"
    }
   },
   "outputs": [],
   "source": [
    "telo_start_df = pd.DataFrame(telo_control_dict).T"
   ]
  },
  {
   "cell_type": "code",
   "execution_count": 53,
   "metadata": {
    "ExecuteTime": {
     "end_time": "2022-02-17T12:29:26.731134Z",
     "start_time": "2022-02-17T12:29:26.252732Z"
    }
   },
   "outputs": [],
   "source": [
    "for i in telo_start_df.columns:\n",
    "    sub_start = telo_start_df.iloc[:,i]\n",
    "    sub_start.name = 'c_start'\n",
    "    telo_sub_merge = pd.merge(telo_bed,sub_start,left_on='name',right_index=True)\n",
    "    telo_sub_merge['c_end'] = telo_sub_merge['c_start'] + 300000\n",
    "    telo_sub_merge_reindex = telo_sub_merge.reindex(['chrom','c_start','c_end','name'],axis=1)\n",
    "    telo_sub_merge_reindex.to_csv(f'/public/home/lizw/task/pore_c/porec_1000_filter_mainchr_result/porecplot_v3/porec_pre_v2.9/controls/telo/{i}.control.bed',sep=\"\\t\",header=None,index=None)"
   ]
  },
  {
   "cell_type": "code",
   "execution_count": 54,
   "metadata": {
    "ExecuteTime": {
     "end_time": "2022-02-17T12:29:28.371002Z",
     "start_time": "2022-02-17T12:29:28.324862Z"
    }
   },
   "outputs": [
    {
     "data": {
      "text/html": [
       "<div>\n",
       "<style scoped>\n",
       "    .dataframe tbody tr th:only-of-type {\n",
       "        vertical-align: middle;\n",
       "    }\n",
       "\n",
       "    .dataframe tbody tr th {\n",
       "        vertical-align: top;\n",
       "    }\n",
       "\n",
       "    .dataframe thead th {\n",
       "        text-align: right;\n",
       "    }\n",
       "</style>\n",
       "<table border=\"1\" class=\"dataframe\">\n",
       "  <thead>\n",
       "    <tr style=\"text-align: right;\">\n",
       "      <th></th>\n",
       "      <th>chrom</th>\n",
       "      <th>start</th>\n",
       "      <th>end</th>\n",
       "      <th>name</th>\n",
       "      <th>c_start</th>\n",
       "      <th>c_end</th>\n",
       "    </tr>\n",
       "  </thead>\n",
       "  <tbody>\n",
       "    <tr>\n",
       "      <th>0</th>\n",
       "      <td>1</td>\n",
       "      <td>0</td>\n",
       "      <td>300000</td>\n",
       "      <td>telo_1p</td>\n",
       "      <td>85259</td>\n",
       "      <td>385259</td>\n",
       "    </tr>\n",
       "    <tr>\n",
       "      <th>1</th>\n",
       "      <td>1</td>\n",
       "      <td>30127671</td>\n",
       "      <td>30427671</td>\n",
       "      <td>telo_1q</td>\n",
       "      <td>25788219</td>\n",
       "      <td>26088219</td>\n",
       "    </tr>\n",
       "    <tr>\n",
       "      <th>2</th>\n",
       "      <td>2</td>\n",
       "      <td>19398289</td>\n",
       "      <td>19698289</td>\n",
       "      <td>telo_2q</td>\n",
       "      <td>11729900</td>\n",
       "      <td>12029900</td>\n",
       "    </tr>\n",
       "    <tr>\n",
       "      <th>3</th>\n",
       "      <td>3</td>\n",
       "      <td>0</td>\n",
       "      <td>300000</td>\n",
       "      <td>telo_3p</td>\n",
       "      <td>6677001</td>\n",
       "      <td>6977001</td>\n",
       "    </tr>\n",
       "    <tr>\n",
       "      <th>4</th>\n",
       "      <td>3</td>\n",
       "      <td>23159830</td>\n",
       "      <td>23459830</td>\n",
       "      <td>telo_3q</td>\n",
       "      <td>20767101</td>\n",
       "      <td>21067101</td>\n",
       "    </tr>\n",
       "    <tr>\n",
       "      <th>5</th>\n",
       "      <td>4</td>\n",
       "      <td>18285056</td>\n",
       "      <td>18585056</td>\n",
       "      <td>telo_4q</td>\n",
       "      <td>8737280</td>\n",
       "      <td>9037280</td>\n",
       "    </tr>\n",
       "    <tr>\n",
       "      <th>6</th>\n",
       "      <td>5</td>\n",
       "      <td>0</td>\n",
       "      <td>300000</td>\n",
       "      <td>telo_5p</td>\n",
       "      <td>1326797</td>\n",
       "      <td>1626797</td>\n",
       "    </tr>\n",
       "    <tr>\n",
       "      <th>7</th>\n",
       "      <td>5</td>\n",
       "      <td>26675502</td>\n",
       "      <td>26975502</td>\n",
       "      <td>telo_5q</td>\n",
       "      <td>23738692</td>\n",
       "      <td>24038692</td>\n",
       "    </tr>\n",
       "  </tbody>\n",
       "</table>\n",
       "</div>"
      ],
      "text/plain": [
       "   chrom     start       end     name   c_start     c_end\n",
       "0      1         0    300000  telo_1p     85259    385259\n",
       "1      1  30127671  30427671  telo_1q  25788219  26088219\n",
       "2      2  19398289  19698289  telo_2q  11729900  12029900\n",
       "3      3         0    300000  telo_3p   6677001   6977001\n",
       "4      3  23159830  23459830  telo_3q  20767101  21067101\n",
       "5      4  18285056  18585056  telo_4q   8737280   9037280\n",
       "6      5         0    300000  telo_5p   1326797   1626797\n",
       "7      5  26675502  26975502  telo_5q  23738692  24038692"
      ]
     },
     "execution_count": 54,
     "metadata": {},
     "output_type": "execute_result"
    }
   ],
   "source": [
    "telo_sub_merge"
   ]
  },
  {
   "cell_type": "code",
   "execution_count": 55,
   "metadata": {
    "ExecuteTime": {
     "end_time": "2022-02-17T12:29:31.527370Z",
     "start_time": "2022-02-17T12:29:31.468879Z"
    }
   },
   "outputs": [
    {
     "data": {
      "text/html": [
       "<div>\n",
       "<style scoped>\n",
       "    .dataframe tbody tr th:only-of-type {\n",
       "        vertical-align: middle;\n",
       "    }\n",
       "\n",
       "    .dataframe tbody tr th {\n",
       "        vertical-align: top;\n",
       "    }\n",
       "\n",
       "    .dataframe thead th {\n",
       "        text-align: right;\n",
       "    }\n",
       "</style>\n",
       "<table border=\"1\" class=\"dataframe\">\n",
       "  <thead>\n",
       "    <tr style=\"text-align: right;\">\n",
       "      <th></th>\n",
       "      <th>0</th>\n",
       "      <th>1</th>\n",
       "      <th>2</th>\n",
       "      <th>3</th>\n",
       "      <th>4</th>\n",
       "      <th>5</th>\n",
       "      <th>6</th>\n",
       "      <th>7</th>\n",
       "      <th>8</th>\n",
       "      <th>9</th>\n",
       "      <th>...</th>\n",
       "      <th>90</th>\n",
       "      <th>91</th>\n",
       "      <th>92</th>\n",
       "      <th>93</th>\n",
       "      <th>94</th>\n",
       "      <th>95</th>\n",
       "      <th>96</th>\n",
       "      <th>97</th>\n",
       "      <th>98</th>\n",
       "      <th>99</th>\n",
       "    </tr>\n",
       "  </thead>\n",
       "  <tbody>\n",
       "    <tr>\n",
       "      <th>telo_1p</th>\n",
       "      <td>8273769</td>\n",
       "      <td>2907161</td>\n",
       "      <td>5462126</td>\n",
       "      <td>5372775</td>\n",
       "      <td>8042628</td>\n",
       "      <td>1661071</td>\n",
       "      <td>6176089</td>\n",
       "      <td>2529208</td>\n",
       "      <td>8340266</td>\n",
       "      <td>6612002</td>\n",
       "      <td>...</td>\n",
       "      <td>5276194</td>\n",
       "      <td>7830926</td>\n",
       "      <td>8604882</td>\n",
       "      <td>6961470</td>\n",
       "      <td>569386</td>\n",
       "      <td>7682861</td>\n",
       "      <td>7492751</td>\n",
       "      <td>4858610</td>\n",
       "      <td>317604</td>\n",
       "      <td>85259</td>\n",
       "    </tr>\n",
       "    <tr>\n",
       "      <th>telo_1q</th>\n",
       "      <td>18438262</td>\n",
       "      <td>29862734</td>\n",
       "      <td>26748151</td>\n",
       "      <td>21007338</td>\n",
       "      <td>24689828</td>\n",
       "      <td>28927401</td>\n",
       "      <td>29364271</td>\n",
       "      <td>18014441</td>\n",
       "      <td>29443064</td>\n",
       "      <td>24981564</td>\n",
       "      <td>...</td>\n",
       "      <td>18079993</td>\n",
       "      <td>19222317</td>\n",
       "      <td>26890939</td>\n",
       "      <td>24069564</td>\n",
       "      <td>19828808</td>\n",
       "      <td>27867683</td>\n",
       "      <td>24903159</td>\n",
       "      <td>30092203</td>\n",
       "      <td>18551293</td>\n",
       "      <td>25788219</td>\n",
       "    </tr>\n",
       "    <tr>\n",
       "      <th>telo_2q</th>\n",
       "      <td>18441361</td>\n",
       "      <td>8572722</td>\n",
       "      <td>18974934</td>\n",
       "      <td>13781838</td>\n",
       "      <td>17618611</td>\n",
       "      <td>10100814</td>\n",
       "      <td>14706890</td>\n",
       "      <td>13273244</td>\n",
       "      <td>11345222</td>\n",
       "      <td>9088361</td>\n",
       "      <td>...</td>\n",
       "      <td>8276878</td>\n",
       "      <td>8698830</td>\n",
       "      <td>14997009</td>\n",
       "      <td>17336103</td>\n",
       "      <td>12919269</td>\n",
       "      <td>15129713</td>\n",
       "      <td>18847256</td>\n",
       "      <td>18146706</td>\n",
       "      <td>8324220</td>\n",
       "      <td>11729900</td>\n",
       "    </tr>\n",
       "    <tr>\n",
       "      <th>telo_3p</th>\n",
       "      <td>4998299</td>\n",
       "      <td>5878596</td>\n",
       "      <td>674309</td>\n",
       "      <td>6088974</td>\n",
       "      <td>7951968</td>\n",
       "      <td>7244285</td>\n",
       "      <td>112671</td>\n",
       "      <td>6585979</td>\n",
       "      <td>3502823</td>\n",
       "      <td>7484822</td>\n",
       "      <td>...</td>\n",
       "      <td>8516981</td>\n",
       "      <td>6578854</td>\n",
       "      <td>3871665</td>\n",
       "      <td>3082031</td>\n",
       "      <td>8043151</td>\n",
       "      <td>2348002</td>\n",
       "      <td>4445649</td>\n",
       "      <td>1736824</td>\n",
       "      <td>2408516</td>\n",
       "      <td>6677001</td>\n",
       "    </tr>\n",
       "    <tr>\n",
       "      <th>telo_3q</th>\n",
       "      <td>18177094</td>\n",
       "      <td>21343666</td>\n",
       "      <td>21658367</td>\n",
       "      <td>22934638</td>\n",
       "      <td>22378067</td>\n",
       "      <td>20477198</td>\n",
       "      <td>22036809</td>\n",
       "      <td>21082237</td>\n",
       "      <td>18124621</td>\n",
       "      <td>21797607</td>\n",
       "      <td>...</td>\n",
       "      <td>22591459</td>\n",
       "      <td>21849814</td>\n",
       "      <td>20736015</td>\n",
       "      <td>17844004</td>\n",
       "      <td>20130860</td>\n",
       "      <td>21217521</td>\n",
       "      <td>20488886</td>\n",
       "      <td>20129526</td>\n",
       "      <td>18427097</td>\n",
       "      <td>20767101</td>\n",
       "    </tr>\n",
       "    <tr>\n",
       "      <th>telo_4q</th>\n",
       "      <td>15092870</td>\n",
       "      <td>9700213</td>\n",
       "      <td>9755067</td>\n",
       "      <td>12099378</td>\n",
       "      <td>10690755</td>\n",
       "      <td>11774452</td>\n",
       "      <td>14994398</td>\n",
       "      <td>13868480</td>\n",
       "      <td>8365724</td>\n",
       "      <td>9838835</td>\n",
       "      <td>...</td>\n",
       "      <td>14503882</td>\n",
       "      <td>6947573</td>\n",
       "      <td>16630218</td>\n",
       "      <td>11788617</td>\n",
       "      <td>7511935</td>\n",
       "      <td>6772718</td>\n",
       "      <td>11176761</td>\n",
       "      <td>10956604</td>\n",
       "      <td>12135405</td>\n",
       "      <td>8737280</td>\n",
       "    </tr>\n",
       "    <tr>\n",
       "      <th>telo_5p</th>\n",
       "      <td>2938363</td>\n",
       "      <td>697213</td>\n",
       "      <td>8678423</td>\n",
       "      <td>537065</td>\n",
       "      <td>6503788</td>\n",
       "      <td>3705867</td>\n",
       "      <td>7819611</td>\n",
       "      <td>2281862</td>\n",
       "      <td>4253554</td>\n",
       "      <td>2672265</td>\n",
       "      <td>...</td>\n",
       "      <td>1161046</td>\n",
       "      <td>2459701</td>\n",
       "      <td>285819</td>\n",
       "      <td>7884424</td>\n",
       "      <td>8506723</td>\n",
       "      <td>4873170</td>\n",
       "      <td>852944</td>\n",
       "      <td>4135650</td>\n",
       "      <td>754256</td>\n",
       "      <td>1326797</td>\n",
       "    </tr>\n",
       "    <tr>\n",
       "      <th>telo_5q</th>\n",
       "      <td>26064933</td>\n",
       "      <td>24591553</td>\n",
       "      <td>22084628</td>\n",
       "      <td>25568396</td>\n",
       "      <td>25617038</td>\n",
       "      <td>21605024</td>\n",
       "      <td>22723742</td>\n",
       "      <td>26114622</td>\n",
       "      <td>26253976</td>\n",
       "      <td>18248505</td>\n",
       "      <td>...</td>\n",
       "      <td>18966469</td>\n",
       "      <td>22375806</td>\n",
       "      <td>18211474</td>\n",
       "      <td>18727876</td>\n",
       "      <td>21634292</td>\n",
       "      <td>23982614</td>\n",
       "      <td>24453375</td>\n",
       "      <td>19362799</td>\n",
       "      <td>20118044</td>\n",
       "      <td>23738692</td>\n",
       "    </tr>\n",
       "  </tbody>\n",
       "</table>\n",
       "<p>8 rows × 100 columns</p>\n",
       "</div>"
      ],
      "text/plain": [
       "               0         1         2         3         4         5         6   \\\n",
       "telo_1p   8273769   2907161   5462126   5372775   8042628   1661071   6176089   \n",
       "telo_1q  18438262  29862734  26748151  21007338  24689828  28927401  29364271   \n",
       "telo_2q  18441361   8572722  18974934  13781838  17618611  10100814  14706890   \n",
       "telo_3p   4998299   5878596    674309   6088974   7951968   7244285    112671   \n",
       "telo_3q  18177094  21343666  21658367  22934638  22378067  20477198  22036809   \n",
       "telo_4q  15092870   9700213   9755067  12099378  10690755  11774452  14994398   \n",
       "telo_5p   2938363    697213   8678423    537065   6503788   3705867   7819611   \n",
       "telo_5q  26064933  24591553  22084628  25568396  25617038  21605024  22723742   \n",
       "\n",
       "               7         8         9   ...        90        91        92  \\\n",
       "telo_1p   2529208   8340266   6612002  ...   5276194   7830926   8604882   \n",
       "telo_1q  18014441  29443064  24981564  ...  18079993  19222317  26890939   \n",
       "telo_2q  13273244  11345222   9088361  ...   8276878   8698830  14997009   \n",
       "telo_3p   6585979   3502823   7484822  ...   8516981   6578854   3871665   \n",
       "telo_3q  21082237  18124621  21797607  ...  22591459  21849814  20736015   \n",
       "telo_4q  13868480   8365724   9838835  ...  14503882   6947573  16630218   \n",
       "telo_5p   2281862   4253554   2672265  ...   1161046   2459701    285819   \n",
       "telo_5q  26114622  26253976  18248505  ...  18966469  22375806  18211474   \n",
       "\n",
       "               93        94        95        96        97        98        99  \n",
       "telo_1p   6961470    569386   7682861   7492751   4858610    317604     85259  \n",
       "telo_1q  24069564  19828808  27867683  24903159  30092203  18551293  25788219  \n",
       "telo_2q  17336103  12919269  15129713  18847256  18146706   8324220  11729900  \n",
       "telo_3p   3082031   8043151   2348002   4445649   1736824   2408516   6677001  \n",
       "telo_3q  17844004  20130860  21217521  20488886  20129526  18427097  20767101  \n",
       "telo_4q  11788617   7511935   6772718  11176761  10956604  12135405   8737280  \n",
       "telo_5p   7884424   8506723   4873170    852944   4135650    754256   1326797  \n",
       "telo_5q  18727876  21634292  23982614  24453375  19362799  20118044  23738692  \n",
       "\n",
       "[8 rows x 100 columns]"
      ]
     },
     "execution_count": 55,
     "metadata": {},
     "output_type": "execute_result"
    }
   ],
   "source": [
    "telo_start_df"
   ]
  },
  {
   "cell_type": "code",
   "execution_count": 56,
   "metadata": {
    "ExecuteTime": {
     "end_time": "2022-02-17T12:29:33.984147Z",
     "start_time": "2022-02-17T12:29:33.930000Z"
    }
   },
   "outputs": [
    {
     "data": {
      "text/html": [
       "<div>\n",
       "<style scoped>\n",
       "    .dataframe tbody tr th:only-of-type {\n",
       "        vertical-align: middle;\n",
       "    }\n",
       "\n",
       "    .dataframe tbody tr th {\n",
       "        vertical-align: top;\n",
       "    }\n",
       "\n",
       "    .dataframe thead th {\n",
       "        text-align: right;\n",
       "    }\n",
       "</style>\n",
       "<table border=\"1\" class=\"dataframe\">\n",
       "  <thead>\n",
       "    <tr style=\"text-align: right;\">\n",
       "      <th></th>\n",
       "      <th>chrom</th>\n",
       "      <th>start</th>\n",
       "      <th>end</th>\n",
       "      <th>name</th>\n",
       "    </tr>\n",
       "  </thead>\n",
       "  <tbody>\n",
       "    <tr>\n",
       "      <th>0</th>\n",
       "      <td>1</td>\n",
       "      <td>0</td>\n",
       "      <td>300000</td>\n",
       "      <td>telo_1p</td>\n",
       "    </tr>\n",
       "    <tr>\n",
       "      <th>1</th>\n",
       "      <td>1</td>\n",
       "      <td>30127671</td>\n",
       "      <td>30427671</td>\n",
       "      <td>telo_1q</td>\n",
       "    </tr>\n",
       "    <tr>\n",
       "      <th>2</th>\n",
       "      <td>2</td>\n",
       "      <td>19398289</td>\n",
       "      <td>19698289</td>\n",
       "      <td>telo_2q</td>\n",
       "    </tr>\n",
       "    <tr>\n",
       "      <th>3</th>\n",
       "      <td>3</td>\n",
       "      <td>0</td>\n",
       "      <td>300000</td>\n",
       "      <td>telo_3p</td>\n",
       "    </tr>\n",
       "    <tr>\n",
       "      <th>4</th>\n",
       "      <td>3</td>\n",
       "      <td>23159830</td>\n",
       "      <td>23459830</td>\n",
       "      <td>telo_3q</td>\n",
       "    </tr>\n",
       "    <tr>\n",
       "      <th>5</th>\n",
       "      <td>4</td>\n",
       "      <td>18285056</td>\n",
       "      <td>18585056</td>\n",
       "      <td>telo_4q</td>\n",
       "    </tr>\n",
       "    <tr>\n",
       "      <th>6</th>\n",
       "      <td>5</td>\n",
       "      <td>0</td>\n",
       "      <td>300000</td>\n",
       "      <td>telo_5p</td>\n",
       "    </tr>\n",
       "    <tr>\n",
       "      <th>7</th>\n",
       "      <td>5</td>\n",
       "      <td>26675502</td>\n",
       "      <td>26975502</td>\n",
       "      <td>telo_5q</td>\n",
       "    </tr>\n",
       "  </tbody>\n",
       "</table>\n",
       "</div>"
      ],
      "text/plain": [
       "   chrom     start       end     name\n",
       "0      1         0    300000  telo_1p\n",
       "1      1  30127671  30427671  telo_1q\n",
       "2      2  19398289  19698289  telo_2q\n",
       "3      3         0    300000  telo_3p\n",
       "4      3  23159830  23459830  telo_3q\n",
       "5      4  18285056  18585056  telo_4q\n",
       "6      5         0    300000  telo_5p\n",
       "7      5  26675502  26975502  telo_5q"
      ]
     },
     "execution_count": 56,
     "metadata": {},
     "output_type": "execute_result"
    }
   ],
   "source": [
    "telo_bed"
   ]
  },
  {
   "cell_type": "code",
   "execution_count": 57,
   "metadata": {
    "ExecuteTime": {
     "end_time": "2022-02-17T12:29:35.021425Z",
     "start_time": "2022-02-17T12:29:34.979469Z"
    }
   },
   "outputs": [
    {
     "data": {
      "text/html": [
       "<div>\n",
       "<style scoped>\n",
       "    .dataframe tbody tr th:only-of-type {\n",
       "        vertical-align: middle;\n",
       "    }\n",
       "\n",
       "    .dataframe tbody tr th {\n",
       "        vertical-align: top;\n",
       "    }\n",
       "\n",
       "    .dataframe thead th {\n",
       "        text-align: right;\n",
       "    }\n",
       "</style>\n",
       "<table border=\"1\" class=\"dataframe\">\n",
       "  <thead>\n",
       "    <tr style=\"text-align: right;\">\n",
       "      <th></th>\n",
       "      <th>chrom</th>\n",
       "      <th>start</th>\n",
       "      <th>end</th>\n",
       "      <th>name</th>\n",
       "    </tr>\n",
       "  </thead>\n",
       "  <tbody>\n",
       "    <tr>\n",
       "      <th>0</th>\n",
       "      <td>1</td>\n",
       "      <td>0</td>\n",
       "      <td>300000</td>\n",
       "      <td>telo_1p</td>\n",
       "    </tr>\n",
       "    <tr>\n",
       "      <th>1</th>\n",
       "      <td>1</td>\n",
       "      <td>30127671</td>\n",
       "      <td>30427671</td>\n",
       "      <td>telo_1q</td>\n",
       "    </tr>\n",
       "    <tr>\n",
       "      <th>2</th>\n",
       "      <td>2</td>\n",
       "      <td>19398289</td>\n",
       "      <td>19698289</td>\n",
       "      <td>telo_2q</td>\n",
       "    </tr>\n",
       "    <tr>\n",
       "      <th>3</th>\n",
       "      <td>3</td>\n",
       "      <td>0</td>\n",
       "      <td>300000</td>\n",
       "      <td>telo_3p</td>\n",
       "    </tr>\n",
       "    <tr>\n",
       "      <th>4</th>\n",
       "      <td>3</td>\n",
       "      <td>23159830</td>\n",
       "      <td>23459830</td>\n",
       "      <td>telo_3q</td>\n",
       "    </tr>\n",
       "    <tr>\n",
       "      <th>5</th>\n",
       "      <td>4</td>\n",
       "      <td>18285056</td>\n",
       "      <td>18585056</td>\n",
       "      <td>telo_4q</td>\n",
       "    </tr>\n",
       "    <tr>\n",
       "      <th>6</th>\n",
       "      <td>5</td>\n",
       "      <td>0</td>\n",
       "      <td>300000</td>\n",
       "      <td>telo_5p</td>\n",
       "    </tr>\n",
       "    <tr>\n",
       "      <th>7</th>\n",
       "      <td>5</td>\n",
       "      <td>26675502</td>\n",
       "      <td>26975502</td>\n",
       "      <td>telo_5q</td>\n",
       "    </tr>\n",
       "  </tbody>\n",
       "</table>\n",
       "</div>"
      ],
      "text/plain": [
       "   chrom     start       end     name\n",
       "0      1         0    300000  telo_1p\n",
       "1      1  30127671  30427671  telo_1q\n",
       "2      2  19398289  19698289  telo_2q\n",
       "3      3         0    300000  telo_3p\n",
       "4      3  23159830  23459830  telo_3q\n",
       "5      4  18285056  18585056  telo_4q\n",
       "6      5         0    300000  telo_5p\n",
       "7      5  26675502  26975502  telo_5q"
      ]
     },
     "execution_count": 57,
     "metadata": {},
     "output_type": "execute_result"
    }
   ],
   "source": [
    "telo_bed"
   ]
  },
  {
   "cell_type": "code",
   "execution_count": 58,
   "metadata": {
    "ExecuteTime": {
     "end_time": "2022-02-17T12:29:36.760986Z",
     "start_time": "2022-02-17T12:29:36.717180Z"
    }
   },
   "outputs": [
    {
     "data": {
      "text/html": [
       "<div>\n",
       "<style scoped>\n",
       "    .dataframe tbody tr th:only-of-type {\n",
       "        vertical-align: middle;\n",
       "    }\n",
       "\n",
       "    .dataframe tbody tr th {\n",
       "        vertical-align: top;\n",
       "    }\n",
       "\n",
       "    .dataframe thead th {\n",
       "        text-align: right;\n",
       "    }\n",
       "</style>\n",
       "<table border=\"1\" class=\"dataframe\">\n",
       "  <thead>\n",
       "    <tr style=\"text-align: right;\">\n",
       "      <th></th>\n",
       "      <th>chrom</th>\n",
       "      <th>start</th>\n",
       "      <th>end</th>\n",
       "      <th>name</th>\n",
       "      <th>c_start</th>\n",
       "      <th>c_end</th>\n",
       "    </tr>\n",
       "  </thead>\n",
       "  <tbody>\n",
       "    <tr>\n",
       "      <th>0</th>\n",
       "      <td>1</td>\n",
       "      <td>0</td>\n",
       "      <td>300000</td>\n",
       "      <td>telo_1p</td>\n",
       "      <td>85259</td>\n",
       "      <td>385259</td>\n",
       "    </tr>\n",
       "    <tr>\n",
       "      <th>1</th>\n",
       "      <td>1</td>\n",
       "      <td>30127671</td>\n",
       "      <td>30427671</td>\n",
       "      <td>telo_1q</td>\n",
       "      <td>25788219</td>\n",
       "      <td>26088219</td>\n",
       "    </tr>\n",
       "    <tr>\n",
       "      <th>2</th>\n",
       "      <td>2</td>\n",
       "      <td>19398289</td>\n",
       "      <td>19698289</td>\n",
       "      <td>telo_2q</td>\n",
       "      <td>11729900</td>\n",
       "      <td>12029900</td>\n",
       "    </tr>\n",
       "    <tr>\n",
       "      <th>3</th>\n",
       "      <td>3</td>\n",
       "      <td>0</td>\n",
       "      <td>300000</td>\n",
       "      <td>telo_3p</td>\n",
       "      <td>6677001</td>\n",
       "      <td>6977001</td>\n",
       "    </tr>\n",
       "    <tr>\n",
       "      <th>4</th>\n",
       "      <td>3</td>\n",
       "      <td>23159830</td>\n",
       "      <td>23459830</td>\n",
       "      <td>telo_3q</td>\n",
       "      <td>20767101</td>\n",
       "      <td>21067101</td>\n",
       "    </tr>\n",
       "    <tr>\n",
       "      <th>5</th>\n",
       "      <td>4</td>\n",
       "      <td>18285056</td>\n",
       "      <td>18585056</td>\n",
       "      <td>telo_4q</td>\n",
       "      <td>8737280</td>\n",
       "      <td>9037280</td>\n",
       "    </tr>\n",
       "    <tr>\n",
       "      <th>6</th>\n",
       "      <td>5</td>\n",
       "      <td>0</td>\n",
       "      <td>300000</td>\n",
       "      <td>telo_5p</td>\n",
       "      <td>1326797</td>\n",
       "      <td>1626797</td>\n",
       "    </tr>\n",
       "    <tr>\n",
       "      <th>7</th>\n",
       "      <td>5</td>\n",
       "      <td>26675502</td>\n",
       "      <td>26975502</td>\n",
       "      <td>telo_5q</td>\n",
       "      <td>23738692</td>\n",
       "      <td>24038692</td>\n",
       "    </tr>\n",
       "  </tbody>\n",
       "</table>\n",
       "</div>"
      ],
      "text/plain": [
       "   chrom     start       end     name   c_start     c_end\n",
       "0      1         0    300000  telo_1p     85259    385259\n",
       "1      1  30127671  30427671  telo_1q  25788219  26088219\n",
       "2      2  19398289  19698289  telo_2q  11729900  12029900\n",
       "3      3         0    300000  telo_3p   6677001   6977001\n",
       "4      3  23159830  23459830  telo_3q  20767101  21067101\n",
       "5      4  18285056  18585056  telo_4q   8737280   9037280\n",
       "6      5         0    300000  telo_5p   1326797   1626797\n",
       "7      5  26675502  26975502  telo_5q  23738692  24038692"
      ]
     },
     "execution_count": 58,
     "metadata": {},
     "output_type": "execute_result"
    }
   ],
   "source": [
    "telo_sub_merge"
   ]
  },
  {
   "cell_type": "code",
   "execution_count": 59,
   "metadata": {
    "ExecuteTime": {
     "end_time": "2022-02-17T12:29:38.699139Z",
     "start_time": "2022-02-17T12:29:38.652079Z"
    }
   },
   "outputs": [
    {
     "data": {
      "text/html": [
       "<div>\n",
       "<style scoped>\n",
       "    .dataframe tbody tr th:only-of-type {\n",
       "        vertical-align: middle;\n",
       "    }\n",
       "\n",
       "    .dataframe tbody tr th {\n",
       "        vertical-align: top;\n",
       "    }\n",
       "\n",
       "    .dataframe thead th {\n",
       "        text-align: right;\n",
       "    }\n",
       "</style>\n",
       "<table border=\"1\" class=\"dataframe\">\n",
       "  <thead>\n",
       "    <tr style=\"text-align: right;\">\n",
       "      <th></th>\n",
       "      <th>chrom</th>\n",
       "      <th>start</th>\n",
       "      <th>end</th>\n",
       "      <th>name</th>\n",
       "      <th>c_start</th>\n",
       "    </tr>\n",
       "  </thead>\n",
       "  <tbody>\n",
       "    <tr>\n",
       "      <th>0</th>\n",
       "      <td>1</td>\n",
       "      <td>0</td>\n",
       "      <td>300000</td>\n",
       "      <td>telo_1p</td>\n",
       "      <td>85259</td>\n",
       "    </tr>\n",
       "    <tr>\n",
       "      <th>1</th>\n",
       "      <td>1</td>\n",
       "      <td>30127671</td>\n",
       "      <td>30427671</td>\n",
       "      <td>telo_1q</td>\n",
       "      <td>25788219</td>\n",
       "    </tr>\n",
       "    <tr>\n",
       "      <th>2</th>\n",
       "      <td>2</td>\n",
       "      <td>19398289</td>\n",
       "      <td>19698289</td>\n",
       "      <td>telo_2q</td>\n",
       "      <td>11729900</td>\n",
       "    </tr>\n",
       "    <tr>\n",
       "      <th>3</th>\n",
       "      <td>3</td>\n",
       "      <td>0</td>\n",
       "      <td>300000</td>\n",
       "      <td>telo_3p</td>\n",
       "      <td>6677001</td>\n",
       "    </tr>\n",
       "    <tr>\n",
       "      <th>4</th>\n",
       "      <td>3</td>\n",
       "      <td>23159830</td>\n",
       "      <td>23459830</td>\n",
       "      <td>telo_3q</td>\n",
       "      <td>20767101</td>\n",
       "    </tr>\n",
       "    <tr>\n",
       "      <th>5</th>\n",
       "      <td>4</td>\n",
       "      <td>18285056</td>\n",
       "      <td>18585056</td>\n",
       "      <td>telo_4q</td>\n",
       "      <td>8737280</td>\n",
       "    </tr>\n",
       "    <tr>\n",
       "      <th>6</th>\n",
       "      <td>5</td>\n",
       "      <td>0</td>\n",
       "      <td>300000</td>\n",
       "      <td>telo_5p</td>\n",
       "      <td>1326797</td>\n",
       "    </tr>\n",
       "    <tr>\n",
       "      <th>7</th>\n",
       "      <td>5</td>\n",
       "      <td>26675502</td>\n",
       "      <td>26975502</td>\n",
       "      <td>telo_5q</td>\n",
       "      <td>23738692</td>\n",
       "    </tr>\n",
       "  </tbody>\n",
       "</table>\n",
       "</div>"
      ],
      "text/plain": [
       "   chrom     start       end     name   c_start\n",
       "0      1         0    300000  telo_1p     85259\n",
       "1      1  30127671  30427671  telo_1q  25788219\n",
       "2      2  19398289  19698289  telo_2q  11729900\n",
       "3      3         0    300000  telo_3p   6677001\n",
       "4      3  23159830  23459830  telo_3q  20767101\n",
       "5      4  18285056  18585056  telo_4q   8737280\n",
       "6      5         0    300000  telo_5p   1326797\n",
       "7      5  26675502  26975502  telo_5q  23738692"
      ]
     },
     "execution_count": 59,
     "metadata": {},
     "output_type": "execute_result"
    }
   ],
   "source": [
    "pd.merge(telo_bed,sub_start,left_on='name',right_index=True)"
   ]
  },
  {
   "cell_type": "code",
   "execution_count": 60,
   "metadata": {
    "ExecuteTime": {
     "end_time": "2022-02-17T12:29:42.595048Z",
     "start_time": "2022-02-17T12:29:42.564893Z"
    }
   },
   "outputs": [
    {
     "data": {
      "text/plain": [
       "telo_1p       85259\n",
       "telo_1q    25788219\n",
       "telo_2q    11729900\n",
       "telo_3p     6677001\n",
       "telo_3q    20767101\n",
       "telo_4q     8737280\n",
       "telo_5p     1326797\n",
       "telo_5q    23738692\n",
       "Name: c_start, dtype: int64"
      ]
     },
     "execution_count": 60,
     "metadata": {},
     "output_type": "execute_result"
    }
   ],
   "source": [
    "sub_start"
   ]
  },
  {
   "cell_type": "markdown",
   "metadata": {},
   "source": [
    "# 显著性分析"
   ]
  },
  {
   "cell_type": "code",
   "execution_count": 61,
   "metadata": {
    "ExecuteTime": {
     "end_time": "2022-02-17T12:29:46.471884Z",
     "start_time": "2022-02-17T12:29:46.433045Z"
    }
   },
   "outputs": [],
   "source": [
    "#首先，根据样本分布和样本大小选取要用的检验模型\n",
    "##判断1：是否为正态分布\n",
    "##判断2：是大样本还是小样本\n",
    "##确认模型"
   ]
  },
  {
   "cell_type": "markdown",
   "metadata": {},
   "source": [
    "## 判断是否正态分布\n",
    "https://blog.csdn.net/laobai1015/article/details/107845838"
   ]
  },
  {
   "cell_type": "markdown",
   "metadata": {},
   "source": [
    "### 示例"
   ]
  },
  {
   "cell_type": "code",
   "execution_count": 62,
   "metadata": {
    "ExecuteTime": {
     "end_time": "2022-02-17T12:29:55.736643Z",
     "start_time": "2022-02-17T12:29:54.917311Z"
    }
   },
   "outputs": [
    {
     "data": {
      "text/plain": [
       "KstestResult(statistic=0.020538056980975522, pvalue=0.7847785159218174)"
      ]
     },
     "execution_count": 62,
     "metadata": {},
     "output_type": "execute_result"
    },
    {
     "data": {
      "image/png": "[encoded data removed]",
      "text/plain": [
       "<Figure size 720x432 with 3 Axes>"
      ]
     },
     "metadata": {
      "needs_background": "light"
     },
     "output_type": "display_data"
    }
   ],
   "source": [
    "import numpy as np\n",
    "import pandas as pd\n",
    "import matplotlib.pyplot as plt\n",
    "\n",
    "s = pd.DataFrame(np.random.randn(1000)+10,columns=['value'])\n",
    "\n",
    "fig = plt.figure(figsize = (10,6))\n",
    "ax1 = fig.add_subplot(2,1,1)\n",
    "ax1.scatter(s.index,s.values)\n",
    "plt.grid()\n",
    "ax2 = fig.add_subplot(2,1,2)\n",
    "s.hist(bins=30,alpha = 0.5,ax=ax2)\n",
    "s.plot(kind='kde',secondary_y=True,ax=ax2)\n",
    "plt.grid()\n",
    "\n",
    "from scipy import stats\n",
    "u = s['value'].mean()\n",
    "std = s['value'].std()\n",
    "stats.kstest(s['value'],'norm',(u,std))"
   ]
  },
  {
   "cell_type": "code",
   "execution_count": 63,
   "metadata": {
    "ExecuteTime": {
     "end_time": "2022-02-17T12:29:58.380822Z",
     "start_time": "2022-02-17T12:29:58.323876Z"
    }
   },
   "outputs": [
    {
     "data": {
      "text/plain": [
       "KstestResult(statistic=0.020538056980975522, pvalue=0.7847785159218174)"
      ]
     },
     "execution_count": 63,
     "metadata": {},
     "output_type": "execute_result"
    }
   ],
   "source": [
    "stats.kstest(s['value'],'norm',(u,std))"
   ]
  },
  {
   "cell_type": "code",
   "execution_count": 64,
   "metadata": {
    "ExecuteTime": {
     "end_time": "2022-02-17T12:29:59.089542Z",
     "start_time": "2022-02-17T12:29:59.040966Z"
    }
   },
   "outputs": [],
   "source": [
    "def dis_test(s,kind):\n",
    "    import numpy as np\n",
    "    import pandas as pd\n",
    "    import matplotlib.pyplot as plt\n",
    "    fig = plt.figure(figsize = (10,6))\n",
    "#     ax1 = fig.add_subplot(2,1,1)\n",
    "#     ax1.scatter(s)\n",
    "#     plt.grid()\n",
    "    ax2 = fig.add_subplot(2,1,2)\n",
    "    s.hist(bins=30,alpha = 0.5,ax=ax2)\n",
    "    s.plot(kind='kde',secondary_y=True,ax=ax2)\n",
    "    plt.grid()\n",
    "\n",
    "    from scipy import stats\n",
    "    u = s.mean()\n",
    "    std = s.std()\n",
    "    result = stats.kstest(s,kind,(u,std))\n",
    "    return result"
   ]
  },
  {
   "cell_type": "markdown",
   "metadata": {},
   "source": [
    "### kee test"
   ]
  },
  {
   "cell_type": "code",
   "execution_count": 65,
   "metadata": {
    "ExecuteTime": {
     "end_time": "2022-02-17T12:30:18.024937Z",
     "start_time": "2022-02-17T12:30:17.969193Z"
    }
   },
   "outputs": [],
   "source": [
    "import pandas as pd\n",
    "import numpy as np"
   ]
  },
  {
   "cell_type": "code",
   "execution_count": 66,
   "metadata": {
    "ExecuteTime": {
     "end_time": "2022-02-17T12:30:18.593146Z",
     "start_time": "2022-02-17T12:30:18.544038Z"
    }
   },
   "outputs": [],
   "source": [
    "kee_suffle_df = pd.read_table('/public/home/lizw/task/pore_c/porec_1000_filter_mainchr_result/porecplot_v3/porec_pre_v2.9/controls/kee_out_dir/kee_join_anchor_valuecount.csv')\n",
    "arr = np.arange(len(kee_suffle_df.columns)) % 2\n",
    "kee_suffle_df_new = kee_suffle_df.loc[:,arr == 1]\n",
    "kee_suffle_df_new.index = [1,2,3,4,5]"
   ]
  },
  {
   "cell_type": "code",
   "execution_count": 67,
   "metadata": {
    "ExecuteTime": {
     "end_time": "2022-02-17T12:30:19.196333Z",
     "start_time": "2022-02-17T12:30:19.159922Z"
    }
   },
   "outputs": [],
   "source": [
    "import pandas as pd"
   ]
  },
  {
   "cell_type": "code",
   "execution_count": 68,
   "metadata": {
    "ExecuteTime": {
     "end_time": "2022-02-17T12:30:25.771339Z",
     "start_time": "2022-02-17T12:30:25.612595Z"
    }
   },
   "outputs": [],
   "source": [
    "kee_suffle_df = pd.read_table('/public/home/lizw/task/pore_c/porec_1000_filter_mainchr_result/porecplot_v3/porec_pre_v2.9/controls/kee_out_dir/kee_join_anchor_valuecount.csv')"
   ]
  },
  {
   "cell_type": "code",
   "execution_count": 69,
   "metadata": {
    "ExecuteTime": {
     "end_time": "2022-02-17T12:30:27.155006Z",
     "start_time": "2022-02-17T12:30:27.107594Z"
    }
   },
   "outputs": [
    {
     "data": {
      "text/plain": [
       "0    432802.160000\n",
       "1     14710.570000\n",
       "2       279.290000\n",
       "3         4.463918\n",
       "4         3.333333\n",
       "dtype: float64"
      ]
     },
     "execution_count": 69,
     "metadata": {},
     "output_type": "execute_result"
    }
   ],
   "source": [
    "kee_suffle_df.iloc[:,[i%2==1 for i in range(len(kee_suffle_df.columns))]].mean(axis=1)"
   ]
  },
  {
   "cell_type": "code",
   "execution_count": 70,
   "metadata": {
    "ExecuteTime": {
     "end_time": "2022-02-17T12:30:38.256124Z",
     "start_time": "2022-02-17T12:30:38.179904Z"
    }
   },
   "outputs": [
    {
     "data": {
      "text/html": [
       "<div>\n",
       "<style scoped>\n",
       "    .dataframe tbody tr th:only-of-type {\n",
       "        vertical-align: middle;\n",
       "    }\n",
       "\n",
       "    .dataframe tbody tr th {\n",
       "        vertical-align: top;\n",
       "    }\n",
       "\n",
       "    .dataframe thead th {\n",
       "        text-align: right;\n",
       "    }\n",
       "</style>\n",
       "<table border=\"1\" class=\"dataframe\">\n",
       "  <thead>\n",
       "    <tr style=\"text-align: right;\">\n",
       "      <th></th>\n",
       "      <th>Unnamed: 0</th>\n",
       "      <th>anchor_name</th>\n",
       "      <th>Unnamed: 2</th>\n",
       "      <th>anchor_name.1</th>\n",
       "      <th>Unnamed: 4</th>\n",
       "      <th>anchor_name.2</th>\n",
       "      <th>Unnamed: 6</th>\n",
       "      <th>anchor_name.3</th>\n",
       "      <th>Unnamed: 8</th>\n",
       "      <th>anchor_name.4</th>\n",
       "      <th>...</th>\n",
       "      <th>anchor_name.95</th>\n",
       "      <th>Unnamed: 192</th>\n",
       "      <th>anchor_name.96</th>\n",
       "      <th>Unnamed: 194</th>\n",
       "      <th>anchor_name.97</th>\n",
       "      <th>Unnamed: 196</th>\n",
       "      <th>anchor_name.98</th>\n",
       "      <th>Unnamed: 198</th>\n",
       "      <th>anchor_name.99</th>\n",
       "      <th>Unnamed: 200</th>\n",
       "    </tr>\n",
       "  </thead>\n",
       "  <tbody>\n",
       "    <tr>\n",
       "      <th>0</th>\n",
       "      <td>1.0</td>\n",
       "      <td>577789.0</td>\n",
       "      <td>1.0</td>\n",
       "      <td>401962.0</td>\n",
       "      <td>1.0</td>\n",
       "      <td>308366.0</td>\n",
       "      <td>1.0</td>\n",
       "      <td>580084.0</td>\n",
       "      <td>1.0</td>\n",
       "      <td>312451.0</td>\n",
       "      <td>...</td>\n",
       "      <td>414436.0</td>\n",
       "      <td>1.0</td>\n",
       "      <td>332130.0</td>\n",
       "      <td>1.0</td>\n",
       "      <td>316658.0</td>\n",
       "      <td>1.0</td>\n",
       "      <td>347517.0</td>\n",
       "      <td>1.0</td>\n",
       "      <td>934038.0</td>\n",
       "      <td>NaN</td>\n",
       "    </tr>\n",
       "    <tr>\n",
       "      <th>1</th>\n",
       "      <td>2.0</td>\n",
       "      <td>17200.0</td>\n",
       "      <td>2.0</td>\n",
       "      <td>13681.0</td>\n",
       "      <td>2.0</td>\n",
       "      <td>11343.0</td>\n",
       "      <td>2.0</td>\n",
       "      <td>18024.0</td>\n",
       "      <td>2.0</td>\n",
       "      <td>11969.0</td>\n",
       "      <td>...</td>\n",
       "      <td>15611.0</td>\n",
       "      <td>2.0</td>\n",
       "      <td>10865.0</td>\n",
       "      <td>2.0</td>\n",
       "      <td>10836.0</td>\n",
       "      <td>2.0</td>\n",
       "      <td>11011.0</td>\n",
       "      <td>2.0</td>\n",
       "      <td>39268.0</td>\n",
       "      <td>NaN</td>\n",
       "    </tr>\n",
       "    <tr>\n",
       "      <th>2</th>\n",
       "      <td>3.0</td>\n",
       "      <td>325.0</td>\n",
       "      <td>3.0</td>\n",
       "      <td>250.0</td>\n",
       "      <td>3.0</td>\n",
       "      <td>268.0</td>\n",
       "      <td>3.0</td>\n",
       "      <td>359.0</td>\n",
       "      <td>3.0</td>\n",
       "      <td>272.0</td>\n",
       "      <td>...</td>\n",
       "      <td>253.0</td>\n",
       "      <td>3.0</td>\n",
       "      <td>184.0</td>\n",
       "      <td>3.0</td>\n",
       "      <td>188.0</td>\n",
       "      <td>3.0</td>\n",
       "      <td>188.0</td>\n",
       "      <td>3.0</td>\n",
       "      <td>613.0</td>\n",
       "      <td>NaN</td>\n",
       "    </tr>\n",
       "    <tr>\n",
       "      <th>3</th>\n",
       "      <td>4.0</td>\n",
       "      <td>6.0</td>\n",
       "      <td>4.0</td>\n",
       "      <td>7.0</td>\n",
       "      <td>4.0</td>\n",
       "      <td>4.0</td>\n",
       "      <td>4.0</td>\n",
       "      <td>5.0</td>\n",
       "      <td>4.0</td>\n",
       "      <td>6.0</td>\n",
       "      <td>...</td>\n",
       "      <td>4.0</td>\n",
       "      <td>4.0</td>\n",
       "      <td>4.0</td>\n",
       "      <td>6.0</td>\n",
       "      <td>4.0</td>\n",
       "      <td>7.0</td>\n",
       "      <td>NaN</td>\n",
       "      <td>NaN</td>\n",
       "      <td>NaN</td>\n",
       "      <td>NaN</td>\n",
       "    </tr>\n",
       "    <tr>\n",
       "      <th>4</th>\n",
       "      <td>NaN</td>\n",
       "      <td>NaN</td>\n",
       "      <td>NaN</td>\n",
       "      <td>NaN</td>\n",
       "      <td>NaN</td>\n",
       "      <td>NaN</td>\n",
       "      <td>NaN</td>\n",
       "      <td>NaN</td>\n",
       "      <td>NaN</td>\n",
       "      <td>NaN</td>\n",
       "      <td>...</td>\n",
       "      <td>NaN</td>\n",
       "      <td>NaN</td>\n",
       "      <td>NaN</td>\n",
       "      <td>NaN</td>\n",
       "      <td>NaN</td>\n",
       "      <td>NaN</td>\n",
       "      <td>NaN</td>\n",
       "      <td>NaN</td>\n",
       "      <td>NaN</td>\n",
       "      <td>NaN</td>\n",
       "    </tr>\n",
       "  </tbody>\n",
       "</table>\n",
       "<p>5 rows × 201 columns</p>\n",
       "</div>"
      ],
      "text/plain": [
       "   Unnamed: 0  anchor_name  Unnamed: 2  anchor_name.1  Unnamed: 4  \\\n",
       "0         1.0     577789.0         1.0       401962.0         1.0   \n",
       "1         2.0      17200.0         2.0        13681.0         2.0   \n",
       "2         3.0        325.0         3.0          250.0         3.0   \n",
       "3         4.0          6.0         4.0            7.0         4.0   \n",
       "4         NaN          NaN         NaN            NaN         NaN   \n",
       "\n",
       "   anchor_name.2  Unnamed: 6  anchor_name.3  Unnamed: 8  anchor_name.4  ...  \\\n",
       "0       308366.0         1.0       580084.0         1.0       312451.0  ...   \n",
       "1        11343.0         2.0        18024.0         2.0        11969.0  ...   \n",
       "2          268.0         3.0          359.0         3.0          272.0  ...   \n",
       "3            4.0         4.0            5.0         4.0            6.0  ...   \n",
       "4            NaN         NaN            NaN         NaN            NaN  ...   \n",
       "\n",
       "   anchor_name.95  Unnamed: 192  anchor_name.96  Unnamed: 194  anchor_name.97  \\\n",
       "0        414436.0           1.0        332130.0           1.0        316658.0   \n",
       "1         15611.0           2.0         10865.0           2.0         10836.0   \n",
       "2           253.0           3.0           184.0           3.0           188.0   \n",
       "3             4.0           4.0             4.0           6.0             4.0   \n",
       "4             NaN           NaN             NaN           NaN             NaN   \n",
       "\n",
       "   Unnamed: 196  anchor_name.98  Unnamed: 198  anchor_name.99  Unnamed: 200  \n",
       "0           1.0        347517.0           1.0        934038.0           NaN  \n",
       "1           2.0         11011.0           2.0         39268.0           NaN  \n",
       "2           3.0           188.0           3.0           613.0           NaN  \n",
       "3           7.0             NaN           NaN             NaN           NaN  \n",
       "4           NaN             NaN           NaN             NaN           NaN  \n",
       "\n",
       "[5 rows x 201 columns]"
      ]
     },
     "execution_count": 70,
     "metadata": {},
     "output_type": "execute_result"
    }
   ],
   "source": [
    "kee_suffle_df"
   ]
  },
  {
   "cell_type": "code",
   "execution_count": 71,
   "metadata": {
    "ExecuteTime": {
     "end_time": "2022-02-17T12:30:58.113016Z",
     "start_time": "2022-02-17T12:30:57.699827Z"
    }
   },
   "outputs": [
    {
     "data": {
      "text/plain": [
       "KstestResult(statistic=1.0, pvalue=0.0)"
      ]
     },
     "execution_count": 71,
     "metadata": {},
     "output_type": "execute_result"
    },
    {
     "data": {
      "image/png": "[encoded data removed]",
      "text/plain": [
       "<Figure size 720x432 with 2 Axes>"
      ]
     },
     "metadata": {
      "needs_background": "light"
     },
     "output_type": "display_data"
    }
   ],
   "source": [
    "dis_test(kee_suffle_df_new.loc[2,:].dropna(),'powerlaw')"
   ]
  },
  {
   "cell_type": "code",
   "execution_count": 72,
   "metadata": {
    "ExecuteTime": {
     "end_time": "2022-02-17T12:30:59.303924Z",
     "start_time": "2022-02-17T12:30:58.868134Z"
    }
   },
   "outputs": [
    {
     "data": {
      "text/plain": [
       "KstestResult(statistic=0.99, pvalue=2.0000000000001775e-200)"
      ]
     },
     "execution_count": 72,
     "metadata": {},
     "output_type": "execute_result"
    },
    {
     "data": {
      "image/png": "[encoded data removed]",
      "text/plain": [
       "<Figure size 720x432 with 2 Axes>"
      ]
     },
     "metadata": {
      "needs_background": "light"
     },
     "output_type": "display_data"
    }
   ],
   "source": [
    "dis_test(kee_suffle_df_new.loc[3,:].dropna(),'powerlaw')"
   ]
  },
  {
   "cell_type": "code",
   "execution_count": 73,
   "metadata": {
    "ExecuteTime": {
     "end_time": "2022-02-17T12:31:02.356856Z",
     "start_time": "2022-02-17T12:31:01.889036Z"
    }
   },
   "outputs": [
    {
     "data": {
      "text/plain": [
       "KstestResult(statistic=0.6804123711340206, pvalue=4.606706496534856e-45)"
      ]
     },
     "execution_count": 73,
     "metadata": {},
     "output_type": "execute_result"
    },
    {
     "data": {
      "image/png": "[encoded data removed]",
      "text/plain": [
       "<Figure size 720x432 with 2 Axes>"
      ]
     },
     "metadata": {
      "needs_background": "light"
     },
     "output_type": "display_data"
    }
   ],
   "source": [
    "dis_test(kee_suffle_df_new.loc[4,:].dropna(),'powerlaw')"
   ]
  },
  {
   "cell_type": "markdown",
   "metadata": {},
   "source": [
    "### telo test"
   ]
  },
  {
   "cell_type": "code",
   "execution_count": 77,
   "metadata": {
    "ExecuteTime": {
     "end_time": "2022-02-17T12:34:03.965296Z",
     "start_time": "2022-02-17T12:34:03.761379Z"
    }
   },
   "outputs": [
    {
     "data": {
      "text/html": [
       "<div>\n",
       "<style scoped>\n",
       "    .dataframe tbody tr th:only-of-type {\n",
       "        vertical-align: middle;\n",
       "    }\n",
       "\n",
       "    .dataframe tbody tr th {\n",
       "        vertical-align: top;\n",
       "    }\n",
       "\n",
       "    .dataframe thead th {\n",
       "        text-align: right;\n",
       "    }\n",
       "</style>\n",
       "<table border=\"1\" class=\"dataframe\">\n",
       "  <thead>\n",
       "    <tr style=\"text-align: right;\">\n",
       "      <th></th>\n",
       "      <th>Unnamed: 0</th>\n",
       "      <th>anchor_name</th>\n",
       "      <th>Unnamed: 2</th>\n",
       "      <th>anchor_name.1</th>\n",
       "      <th>Unnamed: 4</th>\n",
       "      <th>anchor_name.2</th>\n",
       "      <th>Unnamed: 6</th>\n",
       "      <th>anchor_name.3</th>\n",
       "      <th>Unnamed: 8</th>\n",
       "      <th>anchor_name.4</th>\n",
       "      <th>...</th>\n",
       "      <th>Unnamed: 190</th>\n",
       "      <th>anchor_name.95</th>\n",
       "      <th>Unnamed: 192</th>\n",
       "      <th>anchor_name.96</th>\n",
       "      <th>Unnamed: 194</th>\n",
       "      <th>anchor_name.97</th>\n",
       "      <th>Unnamed: 196</th>\n",
       "      <th>anchor_name.98</th>\n",
       "      <th>Unnamed: 198</th>\n",
       "      <th>anchor_name.99</th>\n",
       "    </tr>\n",
       "  </thead>\n",
       "  <tbody>\n",
       "    <tr>\n",
       "      <th>0</th>\n",
       "      <td>1</td>\n",
       "      <td>276678</td>\n",
       "      <td>1</td>\n",
       "      <td>286031</td>\n",
       "      <td>1.0</td>\n",
       "      <td>323867.0</td>\n",
       "      <td>1</td>\n",
       "      <td>278920</td>\n",
       "      <td>1</td>\n",
       "      <td>307178</td>\n",
       "      <td>...</td>\n",
       "      <td>1.0</td>\n",
       "      <td>280277.0</td>\n",
       "      <td>1.0</td>\n",
       "      <td>267599.0</td>\n",
       "      <td>1.0</td>\n",
       "      <td>269739.0</td>\n",
       "      <td>1.0</td>\n",
       "      <td>289252.0</td>\n",
       "      <td>1.0</td>\n",
       "      <td>286513.0</td>\n",
       "    </tr>\n",
       "    <tr>\n",
       "      <th>1</th>\n",
       "      <td>2</td>\n",
       "      <td>5417</td>\n",
       "      <td>2</td>\n",
       "      <td>4691</td>\n",
       "      <td>2.0</td>\n",
       "      <td>6884.0</td>\n",
       "      <td>2</td>\n",
       "      <td>5013</td>\n",
       "      <td>2</td>\n",
       "      <td>6022</td>\n",
       "      <td>...</td>\n",
       "      <td>2.0</td>\n",
       "      <td>4020.0</td>\n",
       "      <td>2.0</td>\n",
       "      <td>5702.0</td>\n",
       "      <td>2.0</td>\n",
       "      <td>5280.0</td>\n",
       "      <td>2.0</td>\n",
       "      <td>5571.0</td>\n",
       "      <td>2.0</td>\n",
       "      <td>5817.0</td>\n",
       "    </tr>\n",
       "    <tr>\n",
       "      <th>2</th>\n",
       "      <td>3</td>\n",
       "      <td>73</td>\n",
       "      <td>3</td>\n",
       "      <td>43</td>\n",
       "      <td>3.0</td>\n",
       "      <td>95.0</td>\n",
       "      <td>3</td>\n",
       "      <td>47</td>\n",
       "      <td>3</td>\n",
       "      <td>82</td>\n",
       "      <td>...</td>\n",
       "      <td>3.0</td>\n",
       "      <td>21.0</td>\n",
       "      <td>3.0</td>\n",
       "      <td>96.0</td>\n",
       "      <td>3.0</td>\n",
       "      <td>61.0</td>\n",
       "      <td>3.0</td>\n",
       "      <td>70.0</td>\n",
       "      <td>3.0</td>\n",
       "      <td>80.0</td>\n",
       "    </tr>\n",
       "    <tr>\n",
       "      <th>3</th>\n",
       "      <td>4</td>\n",
       "      <td>1</td>\n",
       "      <td>4</td>\n",
       "      <td>1</td>\n",
       "      <td>NaN</td>\n",
       "      <td>NaN</td>\n",
       "      <td>4</td>\n",
       "      <td>1</td>\n",
       "      <td>4</td>\n",
       "      <td>1</td>\n",
       "      <td>...</td>\n",
       "      <td>NaN</td>\n",
       "      <td>NaN</td>\n",
       "      <td>NaN</td>\n",
       "      <td>NaN</td>\n",
       "      <td>NaN</td>\n",
       "      <td>NaN</td>\n",
       "      <td>NaN</td>\n",
       "      <td>NaN</td>\n",
       "      <td>NaN</td>\n",
       "      <td>NaN</td>\n",
       "    </tr>\n",
       "  </tbody>\n",
       "</table>\n",
       "<p>4 rows × 200 columns</p>\n",
       "</div>"
      ],
      "text/plain": [
       "   Unnamed: 0  anchor_name  Unnamed: 2  anchor_name.1  Unnamed: 4  \\\n",
       "0           1       276678           1         286031         1.0   \n",
       "1           2         5417           2           4691         2.0   \n",
       "2           3           73           3             43         3.0   \n",
       "3           4            1           4              1         NaN   \n",
       "\n",
       "   anchor_name.2  Unnamed: 6  anchor_name.3  Unnamed: 8  anchor_name.4  ...  \\\n",
       "0       323867.0           1         278920           1         307178  ...   \n",
       "1         6884.0           2           5013           2           6022  ...   \n",
       "2           95.0           3             47           3             82  ...   \n",
       "3            NaN           4              1           4              1  ...   \n",
       "\n",
       "   Unnamed: 190  anchor_name.95  Unnamed: 192  anchor_name.96  Unnamed: 194  \\\n",
       "0           1.0        280277.0           1.0        267599.0           1.0   \n",
       "1           2.0          4020.0           2.0          5702.0           2.0   \n",
       "2           3.0            21.0           3.0            96.0           3.0   \n",
       "3           NaN             NaN           NaN             NaN           NaN   \n",
       "\n",
       "   anchor_name.97  Unnamed: 196  anchor_name.98  Unnamed: 198  anchor_name.99  \n",
       "0        269739.0           1.0        289252.0           1.0        286513.0  \n",
       "1          5280.0           2.0          5571.0           2.0          5817.0  \n",
       "2            61.0           3.0            70.0           3.0            80.0  \n",
       "3             NaN           NaN             NaN           NaN             NaN  \n",
       "\n",
       "[4 rows x 200 columns]"
      ]
     },
     "execution_count": 77,
     "metadata": {},
     "output_type": "execute_result"
    }
   ],
   "source": [
    "telo_suffle_df"
   ]
  },
  {
   "cell_type": "code",
   "execution_count": 79,
   "metadata": {
    "ExecuteTime": {
     "end_time": "2022-02-17T12:34:41.348548Z",
     "start_time": "2022-02-17T12:34:41.263860Z"
    }
   },
   "outputs": [],
   "source": [
    "telo_suffle_df = pd.read_table('/public/home/lizw/task/pore_c/porec_1000_filter_mainchr_result/porecplot_v3/porec_pre_v2.9/controls/telo_out_dir/telo_join_anchor_valuecount.csv')\n",
    "arr = np.arange(len(telo_suffle_df.columns)) % 2\n",
    "telo_suffle_df_new = telo_suffle_df.loc[:,arr == 1]\n",
    "telo_suffle_df_new.index = [1,2,3,4]"
   ]
  },
  {
   "cell_type": "code",
   "execution_count": 87,
   "metadata": {
    "ExecuteTime": {
     "end_time": "2022-02-17T12:36:25.914871Z",
     "start_time": "2022-02-17T12:36:25.860586Z"
    }
   },
   "outputs": [
    {
     "data": {
      "text/html": [
       "<div>\n",
       "<style scoped>\n",
       "    .dataframe tbody tr th:only-of-type {\n",
       "        vertical-align: middle;\n",
       "    }\n",
       "\n",
       "    .dataframe tbody tr th {\n",
       "        vertical-align: top;\n",
       "    }\n",
       "\n",
       "    .dataframe thead th {\n",
       "        text-align: right;\n",
       "    }\n",
       "</style>\n",
       "<table border=\"1\" class=\"dataframe\">\n",
       "  <thead>\n",
       "    <tr style=\"text-align: right;\">\n",
       "      <th></th>\n",
       "      <th>anchor_name</th>\n",
       "      <th>anchor_name.1</th>\n",
       "      <th>anchor_name.2</th>\n",
       "      <th>anchor_name.3</th>\n",
       "      <th>anchor_name.4</th>\n",
       "      <th>anchor_name.5</th>\n",
       "      <th>anchor_name.6</th>\n",
       "      <th>anchor_name.7</th>\n",
       "      <th>anchor_name.8</th>\n",
       "      <th>anchor_name.9</th>\n",
       "      <th>...</th>\n",
       "      <th>anchor_name.90</th>\n",
       "      <th>anchor_name.91</th>\n",
       "      <th>anchor_name.92</th>\n",
       "      <th>anchor_name.93</th>\n",
       "      <th>anchor_name.94</th>\n",
       "      <th>anchor_name.95</th>\n",
       "      <th>anchor_name.96</th>\n",
       "      <th>anchor_name.97</th>\n",
       "      <th>anchor_name.98</th>\n",
       "      <th>anchor_name.99</th>\n",
       "    </tr>\n",
       "  </thead>\n",
       "  <tbody>\n",
       "    <tr>\n",
       "      <th>1</th>\n",
       "      <td>276678</td>\n",
       "      <td>286031</td>\n",
       "      <td>323867.0</td>\n",
       "      <td>278920</td>\n",
       "      <td>307178</td>\n",
       "      <td>259056.0</td>\n",
       "      <td>295725</td>\n",
       "      <td>270114</td>\n",
       "      <td>264809.0</td>\n",
       "      <td>265503.0</td>\n",
       "      <td>...</td>\n",
       "      <td>277606.0</td>\n",
       "      <td>289660.0</td>\n",
       "      <td>264588.0</td>\n",
       "      <td>270295.0</td>\n",
       "      <td>333826.0</td>\n",
       "      <td>280277.0</td>\n",
       "      <td>267599.0</td>\n",
       "      <td>269739.0</td>\n",
       "      <td>289252.0</td>\n",
       "      <td>286513.0</td>\n",
       "    </tr>\n",
       "    <tr>\n",
       "      <th>2</th>\n",
       "      <td>5417</td>\n",
       "      <td>4691</td>\n",
       "      <td>6884.0</td>\n",
       "      <td>5013</td>\n",
       "      <td>6022</td>\n",
       "      <td>3928.0</td>\n",
       "      <td>5652</td>\n",
       "      <td>4444</td>\n",
       "      <td>4044.0</td>\n",
       "      <td>5383.0</td>\n",
       "      <td>...</td>\n",
       "      <td>4060.0</td>\n",
       "      <td>4621.0</td>\n",
       "      <td>3776.0</td>\n",
       "      <td>4599.0</td>\n",
       "      <td>5911.0</td>\n",
       "      <td>4020.0</td>\n",
       "      <td>5702.0</td>\n",
       "      <td>5280.0</td>\n",
       "      <td>5571.0</td>\n",
       "      <td>5817.0</td>\n",
       "    </tr>\n",
       "    <tr>\n",
       "      <th>3</th>\n",
       "      <td>73</td>\n",
       "      <td>43</td>\n",
       "      <td>95.0</td>\n",
       "      <td>47</td>\n",
       "      <td>82</td>\n",
       "      <td>29.0</td>\n",
       "      <td>53</td>\n",
       "      <td>46</td>\n",
       "      <td>26.0</td>\n",
       "      <td>58.0</td>\n",
       "      <td>...</td>\n",
       "      <td>29.0</td>\n",
       "      <td>49.0</td>\n",
       "      <td>32.0</td>\n",
       "      <td>48.0</td>\n",
       "      <td>63.0</td>\n",
       "      <td>21.0</td>\n",
       "      <td>96.0</td>\n",
       "      <td>61.0</td>\n",
       "      <td>70.0</td>\n",
       "      <td>80.0</td>\n",
       "    </tr>\n",
       "    <tr>\n",
       "      <th>4</th>\n",
       "      <td>1</td>\n",
       "      <td>1</td>\n",
       "      <td>NaN</td>\n",
       "      <td>1</td>\n",
       "      <td>1</td>\n",
       "      <td>NaN</td>\n",
       "      <td>4</td>\n",
       "      <td>4</td>\n",
       "      <td>NaN</td>\n",
       "      <td>NaN</td>\n",
       "      <td>...</td>\n",
       "      <td>NaN</td>\n",
       "      <td>NaN</td>\n",
       "      <td>NaN</td>\n",
       "      <td>NaN</td>\n",
       "      <td>NaN</td>\n",
       "      <td>NaN</td>\n",
       "      <td>NaN</td>\n",
       "      <td>NaN</td>\n",
       "      <td>NaN</td>\n",
       "      <td>NaN</td>\n",
       "    </tr>\n",
       "  </tbody>\n",
       "</table>\n",
       "<p>4 rows × 100 columns</p>\n",
       "</div>"
      ],
      "text/plain": [
       "   anchor_name  anchor_name.1  anchor_name.2  anchor_name.3  anchor_name.4  \\\n",
       "1       276678         286031       323867.0         278920         307178   \n",
       "2         5417           4691         6884.0           5013           6022   \n",
       "3           73             43           95.0             47             82   \n",
       "4            1              1            NaN              1              1   \n",
       "\n",
       "   anchor_name.5  anchor_name.6  anchor_name.7  anchor_name.8  anchor_name.9  \\\n",
       "1       259056.0         295725         270114       264809.0       265503.0   \n",
       "2         3928.0           5652           4444         4044.0         5383.0   \n",
       "3           29.0             53             46           26.0           58.0   \n",
       "4            NaN              4              4            NaN            NaN   \n",
       "\n",
       "   ...  anchor_name.90  anchor_name.91  anchor_name.92  anchor_name.93  \\\n",
       "1  ...        277606.0        289660.0        264588.0        270295.0   \n",
       "2  ...          4060.0          4621.0          3776.0          4599.0   \n",
       "3  ...            29.0            49.0            32.0            48.0   \n",
       "4  ...             NaN             NaN             NaN             NaN   \n",
       "\n",
       "   anchor_name.94  anchor_name.95  anchor_name.96  anchor_name.97  \\\n",
       "1        333826.0        280277.0        267599.0        269739.0   \n",
       "2          5911.0          4020.0          5702.0          5280.0   \n",
       "3            63.0            21.0            96.0            61.0   \n",
       "4             NaN             NaN             NaN             NaN   \n",
       "\n",
       "   anchor_name.98  anchor_name.99  \n",
       "1        289252.0        286513.0  \n",
       "2          5571.0          5817.0  \n",
       "3            70.0            80.0  \n",
       "4             NaN             NaN  \n",
       "\n",
       "[4 rows x 100 columns]"
      ]
     },
     "execution_count": 87,
     "metadata": {},
     "output_type": "execute_result"
    }
   ],
   "source": [
    "telo_suffle_df_new"
   ]
  },
  {
   "cell_type": "code",
   "execution_count": 86,
   "metadata": {
    "ExecuteTime": {
     "end_time": "2022-02-17T12:36:19.148936Z",
     "start_time": "2022-02-17T12:36:19.101012Z"
    }
   },
   "outputs": [
    {
     "data": {
      "text/plain": [
       "51.57"
      ]
     },
     "execution_count": 86,
     "metadata": {},
     "output_type": "execute_result"
    }
   ],
   "source": [
    "telo_suffle_df_new.iloc[2,:].mean()"
   ]
  },
  {
   "cell_type": "markdown",
   "metadata": {},
   "source": [
    "# u test"
   ]
  },
  {
   "cell_type": "markdown",
   "metadata": {},
   "source": [
    "## kee"
   ]
  },
  {
   "cell_type": "code",
   "execution_count": 17,
   "metadata": {
    "ExecuteTime": {
     "end_time": "2021-10-13T15:58:28.936619Z",
     "start_time": "2021-10-13T15:58:28.777735Z"
    }
   },
   "outputs": [],
   "source": [
    "import scipy.stats as stats\n",
    "# perform two-sided test. You can use 'greater' or 'less' for one-sided test"
   ]
  },
  {
   "cell_type": "code",
   "execution_count": 85,
   "metadata": {
    "ExecuteTime": {
     "end_time": "2022-02-17T12:36:07.698258Z",
     "start_time": "2022-02-17T12:36:07.652424Z"
    }
   },
   "outputs": [
    {
     "data": {
      "text/plain": [
       "279.29"
      ]
     },
     "execution_count": 85,
     "metadata": {},
     "output_type": "execute_result"
    }
   ],
   "source": [
    "kee_suffle_df_new.iloc[2,:].mean()"
   ]
  },
  {
   "cell_type": "code",
   "execution_count": 91,
   "metadata": {
    "ExecuteTime": {
     "end_time": "2022-02-17T12:39:40.806973Z",
     "start_time": "2022-02-17T12:39:40.573719Z"
    }
   },
   "outputs": [
    {
     "data": {
      "text/html": [
       "<div>\n",
       "<style scoped>\n",
       "    .dataframe tbody tr th:only-of-type {\n",
       "        vertical-align: middle;\n",
       "    }\n",
       "\n",
       "    .dataframe tbody tr th {\n",
       "        vertical-align: top;\n",
       "    }\n",
       "\n",
       "    .dataframe thead th {\n",
       "        text-align: right;\n",
       "    }\n",
       "</style>\n",
       "<table border=\"1\" class=\"dataframe\">\n",
       "  <thead>\n",
       "    <tr style=\"text-align: right;\">\n",
       "      <th></th>\n",
       "      <th>anchor_name</th>\n",
       "      <th>anchor_name.1</th>\n",
       "      <th>anchor_name.2</th>\n",
       "      <th>anchor_name.3</th>\n",
       "      <th>anchor_name.4</th>\n",
       "      <th>anchor_name.5</th>\n",
       "      <th>anchor_name.6</th>\n",
       "      <th>anchor_name.7</th>\n",
       "      <th>anchor_name.8</th>\n",
       "      <th>anchor_name.9</th>\n",
       "      <th>...</th>\n",
       "      <th>anchor_name.90</th>\n",
       "      <th>anchor_name.91</th>\n",
       "      <th>anchor_name.92</th>\n",
       "      <th>anchor_name.93</th>\n",
       "      <th>anchor_name.94</th>\n",
       "      <th>anchor_name.95</th>\n",
       "      <th>anchor_name.96</th>\n",
       "      <th>anchor_name.97</th>\n",
       "      <th>anchor_name.98</th>\n",
       "      <th>anchor_name.99</th>\n",
       "    </tr>\n",
       "  </thead>\n",
       "  <tbody>\n",
       "    <tr>\n",
       "      <th>1</th>\n",
       "      <td>577789.0</td>\n",
       "      <td>401962.0</td>\n",
       "      <td>308366.0</td>\n",
       "      <td>580084.0</td>\n",
       "      <td>312451.0</td>\n",
       "      <td>441827.0</td>\n",
       "      <td>335516.0</td>\n",
       "      <td>476297.0</td>\n",
       "      <td>429525</td>\n",
       "      <td>521205.0</td>\n",
       "      <td>...</td>\n",
       "      <td>617096.0</td>\n",
       "      <td>831346.0</td>\n",
       "      <td>828411.0</td>\n",
       "      <td>625562.0</td>\n",
       "      <td>319322.0</td>\n",
       "      <td>414436.0</td>\n",
       "      <td>332130.0</td>\n",
       "      <td>316658.0</td>\n",
       "      <td>347517.0</td>\n",
       "      <td>934038.0</td>\n",
       "    </tr>\n",
       "    <tr>\n",
       "      <th>2</th>\n",
       "      <td>17200.0</td>\n",
       "      <td>13681.0</td>\n",
       "      <td>11343.0</td>\n",
       "      <td>18024.0</td>\n",
       "      <td>11969.0</td>\n",
       "      <td>13499.0</td>\n",
       "      <td>11163.0</td>\n",
       "      <td>15062.0</td>\n",
       "      <td>12844</td>\n",
       "      <td>12660.0</td>\n",
       "      <td>...</td>\n",
       "      <td>17311.0</td>\n",
       "      <td>17423.0</td>\n",
       "      <td>33428.0</td>\n",
       "      <td>23150.0</td>\n",
       "      <td>12076.0</td>\n",
       "      <td>15611.0</td>\n",
       "      <td>10865.0</td>\n",
       "      <td>10836.0</td>\n",
       "      <td>11011.0</td>\n",
       "      <td>39268.0</td>\n",
       "    </tr>\n",
       "    <tr>\n",
       "      <th>3</th>\n",
       "      <td>325.0</td>\n",
       "      <td>250.0</td>\n",
       "      <td>268.0</td>\n",
       "      <td>359.0</td>\n",
       "      <td>272.0</td>\n",
       "      <td>216.0</td>\n",
       "      <td>191.0</td>\n",
       "      <td>340.0</td>\n",
       "      <td>213</td>\n",
       "      <td>227.0</td>\n",
       "      <td>...</td>\n",
       "      <td>306.0</td>\n",
       "      <td>555.0</td>\n",
       "      <td>360.0</td>\n",
       "      <td>540.0</td>\n",
       "      <td>283.0</td>\n",
       "      <td>253.0</td>\n",
       "      <td>184.0</td>\n",
       "      <td>188.0</td>\n",
       "      <td>188.0</td>\n",
       "      <td>613.0</td>\n",
       "    </tr>\n",
       "    <tr>\n",
       "      <th>4</th>\n",
       "      <td>6.0</td>\n",
       "      <td>7.0</td>\n",
       "      <td>4.0</td>\n",
       "      <td>5.0</td>\n",
       "      <td>6.0</td>\n",
       "      <td>7.0</td>\n",
       "      <td>3.0</td>\n",
       "      <td>7.0</td>\n",
       "      <td>3</td>\n",
       "      <td>2.0</td>\n",
       "      <td>...</td>\n",
       "      <td>4.0</td>\n",
       "      <td>4.0</td>\n",
       "      <td>4.0</td>\n",
       "      <td>4.0</td>\n",
       "      <td>4.0</td>\n",
       "      <td>4.0</td>\n",
       "      <td>4.0</td>\n",
       "      <td>4.0</td>\n",
       "      <td>NaN</td>\n",
       "      <td>NaN</td>\n",
       "    </tr>\n",
       "    <tr>\n",
       "      <th>5</th>\n",
       "      <td>NaN</td>\n",
       "      <td>NaN</td>\n",
       "      <td>NaN</td>\n",
       "      <td>NaN</td>\n",
       "      <td>NaN</td>\n",
       "      <td>NaN</td>\n",
       "      <td>NaN</td>\n",
       "      <td>NaN</td>\n",
       "      <td>1</td>\n",
       "      <td>NaN</td>\n",
       "      <td>...</td>\n",
       "      <td>NaN</td>\n",
       "      <td>NaN</td>\n",
       "      <td>NaN</td>\n",
       "      <td>NaN</td>\n",
       "      <td>NaN</td>\n",
       "      <td>NaN</td>\n",
       "      <td>NaN</td>\n",
       "      <td>NaN</td>\n",
       "      <td>NaN</td>\n",
       "      <td>NaN</td>\n",
       "    </tr>\n",
       "  </tbody>\n",
       "</table>\n",
       "<p>5 rows × 100 columns</p>\n",
       "</div>"
      ],
      "text/plain": [
       "   anchor_name  anchor_name.1  anchor_name.2  anchor_name.3  anchor_name.4  \\\n",
       "1     577789.0       401962.0       308366.0       580084.0       312451.0   \n",
       "2      17200.0        13681.0        11343.0        18024.0        11969.0   \n",
       "3        325.0          250.0          268.0          359.0          272.0   \n",
       "4          6.0            7.0            4.0            5.0            6.0   \n",
       "5          NaN            NaN            NaN            NaN            NaN   \n",
       "\n",
       "   anchor_name.5  anchor_name.6  anchor_name.7  anchor_name.8  anchor_name.9  \\\n",
       "1       441827.0       335516.0       476297.0         429525       521205.0   \n",
       "2        13499.0        11163.0        15062.0          12844        12660.0   \n",
       "3          216.0          191.0          340.0            213          227.0   \n",
       "4            7.0            3.0            7.0              3            2.0   \n",
       "5            NaN            NaN            NaN              1            NaN   \n",
       "\n",
       "   ...  anchor_name.90  anchor_name.91  anchor_name.92  anchor_name.93  \\\n",
       "1  ...        617096.0        831346.0        828411.0        625562.0   \n",
       "2  ...         17311.0         17423.0         33428.0         23150.0   \n",
       "3  ...           306.0           555.0           360.0           540.0   \n",
       "4  ...             4.0             4.0             4.0             4.0   \n",
       "5  ...             NaN             NaN             NaN             NaN   \n",
       "\n",
       "   anchor_name.94  anchor_name.95  anchor_name.96  anchor_name.97  \\\n",
       "1        319322.0        414436.0        332130.0        316658.0   \n",
       "2         12076.0         15611.0         10865.0         10836.0   \n",
       "3           283.0           253.0           184.0           188.0   \n",
       "4             4.0             4.0             4.0             4.0   \n",
       "5             NaN             NaN             NaN             NaN   \n",
       "\n",
       "   anchor_name.98  anchor_name.99  \n",
       "1        347517.0        934038.0  \n",
       "2         11011.0         39268.0  \n",
       "3           188.0           613.0  \n",
       "4             NaN             NaN  \n",
       "5             NaN             NaN  \n",
       "\n",
       "[5 rows x 100 columns]"
      ]
     },
     "execution_count": 91,
     "metadata": {},
     "output_type": "execute_result"
    }
   ],
   "source": [
    "kee_suffle_df_new"
   ]
  },
  {
   "cell_type": "code",
   "execution_count": 40,
   "metadata": {
    "ExecuteTime": {
     "end_time": "2021-10-14T02:06:12.748507Z",
     "start_time": "2021-10-14T02:06:12.703159Z"
    }
   },
   "outputs": [
    {
     "data": {
      "text/plain": [
       "MannwhitneyuResult(statistic=3.0, pvalue=0.9702970297029709)"
      ]
     },
     "execution_count": 40,
     "metadata": {},
     "output_type": "execute_result"
    }
   ],
   "source": [
    "stats.mannwhitneyu(x=[285069], y=kee_suffle_df_new.loc[1,:].dropna(), alternative = 'greater')"
   ]
  },
  {
   "cell_type": "code",
   "execution_count": 43,
   "metadata": {
    "ExecuteTime": {
     "end_time": "2021-10-14T02:06:25.498489Z",
     "start_time": "2021-10-14T02:06:25.467369Z"
    }
   },
   "outputs": [
    {
     "data": {
      "text/plain": [
       "MannwhitneyuResult(statistic=87.0, pvalue=0.10529525952504248)"
      ]
     },
     "execution_count": 43,
     "metadata": {},
     "output_type": "execute_result"
    }
   ],
   "source": [
    "stats.mannwhitneyu(x=[18312], y=kee_suffle_df_new.loc[2,:].dropna(), alternative = 'greater')"
   ]
  },
  {
   "cell_type": "code",
   "execution_count": 90,
   "metadata": {
    "ExecuteTime": {
     "end_time": "2022-02-17T12:38:28.506457Z",
     "start_time": "2022-02-17T12:38:28.474183Z"
    }
   },
   "outputs": [
    {
     "data": {
      "text/plain": [
       "MannwhitneyuResult(statistic=100.0, pvalue=0.044761892917465684)"
      ]
     },
     "execution_count": 90,
     "metadata": {},
     "output_type": "execute_result"
    }
   ],
   "source": [
    "stats.mannwhitneyu(x=[1145], y=kee_suffle_df_new.loc[3,:].dropna(), alternative = 'greater')"
   ]
  },
  {
   "cell_type": "code",
   "execution_count": 31,
   "metadata": {
    "ExecuteTime": {
     "end_time": "2021-10-13T16:00:31.302628Z",
     "start_time": "2021-10-13T16:00:31.273946Z"
    }
   },
   "outputs": [
    {
     "data": {
      "text/plain": [
       "MannwhitneyuResult(statistic=97.0, pvalue=0.041087869139155596)"
      ]
     },
     "execution_count": 31,
     "metadata": {},
     "output_type": "execute_result"
    }
   ],
   "source": [
    "stats.mannwhitneyu(x=[75], y=kee_suffle_df_new.loc[4,:].dropna(), alternative = 'greater')"
   ]
  },
  {
   "cell_type": "markdown",
   "metadata": {},
   "source": [
    "## telo"
   ]
  },
  {
   "cell_type": "code",
   "execution_count": 38,
   "metadata": {
    "ExecuteTime": {
     "end_time": "2021-10-14T02:05:33.158213Z",
     "start_time": "2021-10-14T02:05:32.641336Z"
    }
   },
   "outputs": [
    {
     "data": {
      "text/plain": [
       "MannwhitneyuResult(statistic=0.0, pvalue=1.0)"
      ]
     },
     "execution_count": 38,
     "metadata": {},
     "output_type": "execute_result"
    }
   ],
   "source": [
    "stats.mannwhitneyu(x=[242077], y=telo_suffle_df_new.loc[1,:].dropna(), alternative = 'greater')"
   ]
  },
  {
   "cell_type": "code",
   "execution_count": 21,
   "metadata": {
    "ExecuteTime": {
     "end_time": "2021-10-13T15:58:36.288719Z",
     "start_time": "2021-10-13T15:58:36.246962Z"
    }
   },
   "outputs": [
    {
     "data": {
      "text/plain": [
       "MannwhitneyuResult(statistic=93.0, pvalue=0.07245580510922818)"
      ]
     },
     "execution_count": 21,
     "metadata": {},
     "output_type": "execute_result"
    }
   ],
   "source": [
    "stats.mannwhitneyu(x=[22776], y=telo_suffle_df_new.loc[2,:].dropna(), alternative = 'greater')"
   ]
  },
  {
   "cell_type": "code",
   "execution_count": 89,
   "metadata": {
    "ExecuteTime": {
     "end_time": "2022-02-17T12:38:09.855844Z",
     "start_time": "2022-02-17T12:38:09.810168Z"
    }
   },
   "outputs": [
    {
     "data": {
      "text/plain": [
       "MannwhitneyuResult(statistic=100.0, pvalue=0.044708686713384724)"
      ]
     },
     "execution_count": 89,
     "metadata": {},
     "output_type": "execute_result"
    }
   ],
   "source": [
    "stats.mannwhitneyu(x=[2553], y=telo_suffle_df_new.loc[3,:].dropna(), alternative = 'greater')"
   ]
  },
  {
   "cell_type": "code",
   "execution_count": 23,
   "metadata": {
    "ExecuteTime": {
     "end_time": "2021-10-13T15:58:37.045080Z",
     "start_time": "2021-10-13T15:58:37.000989Z"
    }
   },
   "outputs": [
    {
     "data": {
      "text/plain": [
       "MannwhitneyuResult(statistic=97.0, pvalue=0.041087869139155596)"
      ]
     },
     "execution_count": 23,
     "metadata": {},
     "output_type": "execute_result"
    }
   ],
   "source": [
    "stats.mannwhitneyu(x=[342], y=telo_suffle_df_new.loc[4,:].dropna(), alternative = 'greater')"
   ]
  },
  {
   "cell_type": "code",
   "execution_count": 88,
   "metadata": {
    "ExecuteTime": {
     "end_time": "2022-02-17T12:38:02.988874Z",
     "start_time": "2022-02-17T12:38:02.802149Z"
    }
   },
   "outputs": [
    {
     "data": {
      "text/html": [
       "<div>\n",
       "<style scoped>\n",
       "    .dataframe tbody tr th:only-of-type {\n",
       "        vertical-align: middle;\n",
       "    }\n",
       "\n",
       "    .dataframe tbody tr th {\n",
       "        vertical-align: top;\n",
       "    }\n",
       "\n",
       "    .dataframe thead th {\n",
       "        text-align: right;\n",
       "    }\n",
       "</style>\n",
       "<table border=\"1\" class=\"dataframe\">\n",
       "  <thead>\n",
       "    <tr style=\"text-align: right;\">\n",
       "      <th></th>\n",
       "      <th>anchor_name</th>\n",
       "      <th>anchor_name.1</th>\n",
       "      <th>anchor_name.2</th>\n",
       "      <th>anchor_name.3</th>\n",
       "      <th>anchor_name.4</th>\n",
       "      <th>anchor_name.5</th>\n",
       "      <th>anchor_name.6</th>\n",
       "      <th>anchor_name.7</th>\n",
       "      <th>anchor_name.8</th>\n",
       "      <th>anchor_name.9</th>\n",
       "      <th>...</th>\n",
       "      <th>anchor_name.90</th>\n",
       "      <th>anchor_name.91</th>\n",
       "      <th>anchor_name.92</th>\n",
       "      <th>anchor_name.93</th>\n",
       "      <th>anchor_name.94</th>\n",
       "      <th>anchor_name.95</th>\n",
       "      <th>anchor_name.96</th>\n",
       "      <th>anchor_name.97</th>\n",
       "      <th>anchor_name.98</th>\n",
       "      <th>anchor_name.99</th>\n",
       "    </tr>\n",
       "  </thead>\n",
       "  <tbody>\n",
       "    <tr>\n",
       "      <th>1</th>\n",
       "      <td>276678</td>\n",
       "      <td>286031</td>\n",
       "      <td>323867.0</td>\n",
       "      <td>278920</td>\n",
       "      <td>307178</td>\n",
       "      <td>259056.0</td>\n",
       "      <td>295725</td>\n",
       "      <td>270114</td>\n",
       "      <td>264809.0</td>\n",
       "      <td>265503.0</td>\n",
       "      <td>...</td>\n",
       "      <td>277606.0</td>\n",
       "      <td>289660.0</td>\n",
       "      <td>264588.0</td>\n",
       "      <td>270295.0</td>\n",
       "      <td>333826.0</td>\n",
       "      <td>280277.0</td>\n",
       "      <td>267599.0</td>\n",
       "      <td>269739.0</td>\n",
       "      <td>289252.0</td>\n",
       "      <td>286513.0</td>\n",
       "    </tr>\n",
       "    <tr>\n",
       "      <th>2</th>\n",
       "      <td>5417</td>\n",
       "      <td>4691</td>\n",
       "      <td>6884.0</td>\n",
       "      <td>5013</td>\n",
       "      <td>6022</td>\n",
       "      <td>3928.0</td>\n",
       "      <td>5652</td>\n",
       "      <td>4444</td>\n",
       "      <td>4044.0</td>\n",
       "      <td>5383.0</td>\n",
       "      <td>...</td>\n",
       "      <td>4060.0</td>\n",
       "      <td>4621.0</td>\n",
       "      <td>3776.0</td>\n",
       "      <td>4599.0</td>\n",
       "      <td>5911.0</td>\n",
       "      <td>4020.0</td>\n",
       "      <td>5702.0</td>\n",
       "      <td>5280.0</td>\n",
       "      <td>5571.0</td>\n",
       "      <td>5817.0</td>\n",
       "    </tr>\n",
       "    <tr>\n",
       "      <th>3</th>\n",
       "      <td>73</td>\n",
       "      <td>43</td>\n",
       "      <td>95.0</td>\n",
       "      <td>47</td>\n",
       "      <td>82</td>\n",
       "      <td>29.0</td>\n",
       "      <td>53</td>\n",
       "      <td>46</td>\n",
       "      <td>26.0</td>\n",
       "      <td>58.0</td>\n",
       "      <td>...</td>\n",
       "      <td>29.0</td>\n",
       "      <td>49.0</td>\n",
       "      <td>32.0</td>\n",
       "      <td>48.0</td>\n",
       "      <td>63.0</td>\n",
       "      <td>21.0</td>\n",
       "      <td>96.0</td>\n",
       "      <td>61.0</td>\n",
       "      <td>70.0</td>\n",
       "      <td>80.0</td>\n",
       "    </tr>\n",
       "    <tr>\n",
       "      <th>4</th>\n",
       "      <td>1</td>\n",
       "      <td>1</td>\n",
       "      <td>NaN</td>\n",
       "      <td>1</td>\n",
       "      <td>1</td>\n",
       "      <td>NaN</td>\n",
       "      <td>4</td>\n",
       "      <td>4</td>\n",
       "      <td>NaN</td>\n",
       "      <td>NaN</td>\n",
       "      <td>...</td>\n",
       "      <td>NaN</td>\n",
       "      <td>NaN</td>\n",
       "      <td>NaN</td>\n",
       "      <td>NaN</td>\n",
       "      <td>NaN</td>\n",
       "      <td>NaN</td>\n",
       "      <td>NaN</td>\n",
       "      <td>NaN</td>\n",
       "      <td>NaN</td>\n",
       "      <td>NaN</td>\n",
       "    </tr>\n",
       "  </tbody>\n",
       "</table>\n",
       "<p>4 rows × 100 columns</p>\n",
       "</div>"
      ],
      "text/plain": [
       "   anchor_name  anchor_name.1  anchor_name.2  anchor_name.3  anchor_name.4  \\\n",
       "1       276678         286031       323867.0         278920         307178   \n",
       "2         5417           4691         6884.0           5013           6022   \n",
       "3           73             43           95.0             47             82   \n",
       "4            1              1            NaN              1              1   \n",
       "\n",
       "   anchor_name.5  anchor_name.6  anchor_name.7  anchor_name.8  anchor_name.9  \\\n",
       "1       259056.0         295725         270114       264809.0       265503.0   \n",
       "2         3928.0           5652           4444         4044.0         5383.0   \n",
       "3           29.0             53             46           26.0           58.0   \n",
       "4            NaN              4              4            NaN            NaN   \n",
       "\n",
       "   ...  anchor_name.90  anchor_name.91  anchor_name.92  anchor_name.93  \\\n",
       "1  ...        277606.0        289660.0        264588.0        270295.0   \n",
       "2  ...          4060.0          4621.0          3776.0          4599.0   \n",
       "3  ...            29.0            49.0            32.0            48.0   \n",
       "4  ...             NaN             NaN             NaN             NaN   \n",
       "\n",
       "   anchor_name.94  anchor_name.95  anchor_name.96  anchor_name.97  \\\n",
       "1        333826.0        280277.0        267599.0        269739.0   \n",
       "2          5911.0          4020.0          5702.0          5280.0   \n",
       "3            63.0            21.0            96.0            61.0   \n",
       "4             NaN             NaN             NaN             NaN   \n",
       "\n",
       "   anchor_name.98  anchor_name.99  \n",
       "1        289252.0        286513.0  \n",
       "2          5571.0          5817.0  \n",
       "3            70.0            80.0  \n",
       "4             NaN             NaN  \n",
       "\n",
       "[4 rows x 100 columns]"
      ]
     },
     "execution_count": 88,
     "metadata": {},
     "output_type": "execute_result"
    }
   ],
   "source": [
    "telo_suffle_df_new"
   ]
  },
  {
   "cell_type": "code",
   "execution_count": null,
   "metadata": {},
   "outputs": [],
   "source": []
  }
 ],
 "metadata": {
  "kernelspec": {
   "display_name": "Python 3 (ipykernel)",
   "language": "python",
   "name": "python3"
  },
  "language_info": {
   "codemirror_mode": {
    "name": "ipython",
    "version": 3
   },
   "file_extension": ".py",
   "mimetype": "text/x-python",
   "name": "python",
   "nbconvert_exporter": "python",
   "pygments_lexer": "ipython3",
   "version": "3.7.12"
  },
  "toc": {
   "base_numbering": 1,
   "nav_menu": {},
   "number_sections": true,
   "sideBar": true,
   "skip_h1_title": false,
   "title_cell": "Table of Contents",
   "title_sidebar": "Contents",
   "toc_cell": false,
   "toc_position": {},
   "toc_section_display": true,
   "toc_window_display": false
  }
 },
 "nbformat": 4,
 "nbformat_minor": 4
}
