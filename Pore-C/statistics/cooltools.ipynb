{
 "cells": [
  {
   "cell_type": "markdown",
   "metadata": {},
   "source": [
    "# P(s) curse: The decay of contact frenquency curse along genomic separation\n",
    "a typical Hi-C map is dominated by a single pattern, the decay of contact frequency with genomic separation\n",
    "In the Hi-C field, this decay is often referred to as \n",
    "* “expected” (because one “expects” a certain average contact frequency at a given genomic separation) or \n",
    "* “scaling” (which is borrowed from the polymer physics literature) or \n",
    "* **P(s) curve (contact probability, P, as a function of genomic separation, s).**\n"
   ]
  },
  {
   "cell_type": "code",
   "execution_count": 2,
   "metadata": {
    "ExecuteTime": {
     "end_time": "2021-08-10T01:51:22.930452Z",
     "start_time": "2021-08-10T01:51:22.809968Z"
    }
   },
   "outputs": [],
   "source": [
    "#@Author: Zhuowen Li\n",
    "#@LastEdit: 2021/8/3 下午4:18:34\n",
    "#@Version: 2\n",
    "#@Description: explore .cool after cooler balance"
   ]
  },
  {
   "cell_type": "code",
   "execution_count": 3,
   "metadata": {
    "ExecuteTime": {
     "end_time": "2021-08-10T01:51:27.217752Z",
     "start_time": "2021-08-10T01:51:23.086446Z"
    }
   },
   "outputs": [],
   "source": [
    "import warnings\n",
    "warnings.filterwarnings(\"ignore\")\n",
    "from itertools import combinations\n",
    "\n",
    "import matplotlib.pyplot as plt\n",
    "from matplotlib import colors\n",
    "%matplotlib inline\n",
    "plt.style.use('seaborn-poster')\n",
    "import numpy as np\n",
    "import pandas as pd\n",
    "import bioframe\n",
    "import cooler\n",
    "import cooltools \n",
    "import cooltools.expected"
   ]
  },
  {
   "cell_type": "code",
   "execution_count": 4,
   "metadata": {
    "ExecuteTime": {
     "end_time": "2021-08-10T01:51:27.511502Z",
     "start_time": "2021-08-10T01:51:27.348024Z"
    }
   },
   "outputs": [
    {
     "data": {
      "text/plain": [
       "array([0.0413062 , 0.03972102, 0.0815361 , ..., 0.02458299, 0.05587291,\n",
       "              nan])"
      ]
     },
     "execution_count": 4,
     "metadata": {},
     "output_type": "execute_result"
    }
   ],
   "source": [
    "clr = cooler.Cooler('/public/home/lizw/task/pore_c/porec_1000_filter_mainchr_result/matrix/zb_DpnII_run04_TAIR10_unphased.matrix.mcool::/resolutions/1000')\n",
    "#see cooler.Cooler basic info, following the guidance of https://cooler.readthedocs.io/en/latest/api.html#cooler.Cooler.matrix\n",
    "hdf5_cool = clr.open()      \n",
    "hdf5_cool['bins']['weight'][:]"
   ]
  },
  {
   "cell_type": "code",
   "execution_count": 5,
   "metadata": {
    "ExecuteTime": {
     "end_time": "2021-08-10T01:51:27.673793Z",
     "start_time": "2021-08-10T01:51:27.612026Z"
    }
   },
   "outputs": [],
   "source": [
    "tair10_chr_file = \"/public/home/lizw/data/IMPORTANT_genome/arabidopsis/tair10/all_chr.bed\"\n",
    "tair10_chr = pd.read_table(tair10_chr_file,header=None,names=['chrom','start','end'],converters={'chrom':str,'start':int,'end':int})"
   ]
  },
  {
   "cell_type": "code",
   "execution_count": 6,
   "metadata": {
    "ExecuteTime": {
     "end_time": "2021-08-10T01:51:27.837493Z",
     "start_time": "2021-08-10T01:51:27.784699Z"
    }
   },
   "outputs": [
    {
     "data": {
      "text/html": [
       "<div>\n",
       "<style scoped>\n",
       "    .dataframe tbody tr th:only-of-type {\n",
       "        vertical-align: middle;\n",
       "    }\n",
       "\n",
       "    .dataframe tbody tr th {\n",
       "        vertical-align: top;\n",
       "    }\n",
       "\n",
       "    .dataframe thead th {\n",
       "        text-align: right;\n",
       "    }\n",
       "</style>\n",
       "<table border=\"1\" class=\"dataframe\">\n",
       "  <thead>\n",
       "    <tr style=\"text-align: right;\">\n",
       "      <th></th>\n",
       "      <th>chrom</th>\n",
       "      <th>start</th>\n",
       "      <th>end</th>\n",
       "    </tr>\n",
       "  </thead>\n",
       "  <tbody>\n",
       "    <tr>\n",
       "      <th>0</th>\n",
       "      <td>1</td>\n",
       "      <td>0</td>\n",
       "      <td>30427671</td>\n",
       "    </tr>\n",
       "    <tr>\n",
       "      <th>1</th>\n",
       "      <td>2</td>\n",
       "      <td>0</td>\n",
       "      <td>19698289</td>\n",
       "    </tr>\n",
       "    <tr>\n",
       "      <th>2</th>\n",
       "      <td>3</td>\n",
       "      <td>0</td>\n",
       "      <td>23459830</td>\n",
       "    </tr>\n",
       "    <tr>\n",
       "      <th>3</th>\n",
       "      <td>4</td>\n",
       "      <td>0</td>\n",
       "      <td>18585056</td>\n",
       "    </tr>\n",
       "    <tr>\n",
       "      <th>4</th>\n",
       "      <td>5</td>\n",
       "      <td>0</td>\n",
       "      <td>26975502</td>\n",
       "    </tr>\n",
       "  </tbody>\n",
       "</table>\n",
       "</div>"
      ],
      "text/plain": [
       "  chrom  start       end\n",
       "0     1      0  30427671\n",
       "1     2      0  19698289\n",
       "2     3      0  23459830\n",
       "3     4      0  18585056\n",
       "4     5      0  26975502"
      ]
     },
     "execution_count": 6,
     "metadata": {},
     "output_type": "execute_result"
    }
   ],
   "source": [
    "tair10_chr"
   ]
  },
  {
   "cell_type": "code",
   "execution_count": 7,
   "metadata": {
    "ExecuteTime": {
     "end_time": "2021-08-10T01:51:28.014172Z",
     "start_time": "2021-08-10T01:51:27.942903Z"
    }
   },
   "outputs": [],
   "source": [
    "#tair10_centromere_location\n",
    "tair10_cen_file = \"/public/home/lizw/task/pore_c/sites/bed/tair9_cen_forIDE.bed\"\n",
    "tair10_cen = pd.read_table(tair10_cen_file,header=None,names=['chrom','start','end'],converters={'chrom':str,'start':int,'end':int})\n",
    "tair10_start = tair10_cen.loc[:,('chrom','start')].rename(columns={'start':'cut'})\n",
    "tair10_end = tair10_cen.loc[:,('chrom','end')].rename(columns={'end':'cut'})\n",
    "\n",
    "#P(S) would be seperately calculate for individual chromosomal arms\n",
    "tair10_cut = pd.concat([tair10_start,tair10_end],axis=0)"
   ]
  },
  {
   "cell_type": "code",
   "execution_count": 8,
   "metadata": {
    "ExecuteTime": {
     "end_time": "2021-08-10T01:51:28.290495Z",
     "start_time": "2021-08-10T01:51:28.215648Z"
    }
   },
   "outputs": [],
   "source": [
    "tair10_arms = bioframe.split(tair10_chr, points = tair10_cut ,cols_points=['chrom','cut'])"
   ]
  },
  {
   "cell_type": "code",
   "execution_count": 9,
   "metadata": {
    "ExecuteTime": {
     "end_time": "2021-08-10T01:51:28.476995Z",
     "start_time": "2021-08-10T01:51:28.431408Z"
    }
   },
   "outputs": [],
   "source": [
    "tair10_arms_retain = tair10_arms.drop(labels=[1,4,7,10,13])"
   ]
  },
  {
   "cell_type": "code",
   "execution_count": 10,
   "metadata": {
    "ExecuteTime": {
     "end_time": "2021-08-10T01:51:28.674374Z",
     "start_time": "2021-08-10T01:51:28.624471Z"
    }
   },
   "outputs": [],
   "source": [
    "#only contain the chromosome that contained in cool matrix\n",
    "tair10_chr_in_cool = tair10_chr.set_index('chrom').loc[clr.chromnames].reset_index()\n",
    "tair10_arms_retain = tair10_arms_retain.set_index(\"chrom\").loc[clr.chromnames].reset_index()"
   ]
  },
  {
   "cell_type": "code",
   "execution_count": 11,
   "metadata": {
    "ExecuteTime": {
     "end_time": "2021-08-10T01:51:28.886661Z",
     "start_time": "2021-08-10T01:51:28.834174Z"
    }
   },
   "outputs": [
    {
     "data": {
      "text/html": [
       "<div>\n",
       "<style scoped>\n",
       "    .dataframe tbody tr th:only-of-type {\n",
       "        vertical-align: middle;\n",
       "    }\n",
       "\n",
       "    .dataframe tbody tr th {\n",
       "        vertical-align: top;\n",
       "    }\n",
       "\n",
       "    .dataframe thead th {\n",
       "        text-align: right;\n",
       "    }\n",
       "</style>\n",
       "<table border=\"1\" class=\"dataframe\">\n",
       "  <thead>\n",
       "    <tr style=\"text-align: right;\">\n",
       "      <th></th>\n",
       "      <th>chrom</th>\n",
       "      <th>start</th>\n",
       "      <th>end</th>\n",
       "    </tr>\n",
       "  </thead>\n",
       "  <tbody>\n",
       "    <tr>\n",
       "      <th>0</th>\n",
       "      <td>1</td>\n",
       "      <td>0</td>\n",
       "      <td>15086046</td>\n",
       "    </tr>\n",
       "    <tr>\n",
       "      <th>1</th>\n",
       "      <td>1</td>\n",
       "      <td>15087045</td>\n",
       "      <td>30427671</td>\n",
       "    </tr>\n",
       "    <tr>\n",
       "      <th>2</th>\n",
       "      <td>2</td>\n",
       "      <td>0</td>\n",
       "      <td>3607930</td>\n",
       "    </tr>\n",
       "    <tr>\n",
       "      <th>3</th>\n",
       "      <td>2</td>\n",
       "      <td>3608929</td>\n",
       "      <td>19698289</td>\n",
       "    </tr>\n",
       "    <tr>\n",
       "      <th>4</th>\n",
       "      <td>3</td>\n",
       "      <td>0</td>\n",
       "      <td>13799418</td>\n",
       "    </tr>\n",
       "    <tr>\n",
       "      <th>5</th>\n",
       "      <td>3</td>\n",
       "      <td>14209952</td>\n",
       "      <td>23459830</td>\n",
       "    </tr>\n",
       "    <tr>\n",
       "      <th>6</th>\n",
       "      <td>4</td>\n",
       "      <td>0</td>\n",
       "      <td>3956022</td>\n",
       "    </tr>\n",
       "    <tr>\n",
       "      <th>7</th>\n",
       "      <td>4</td>\n",
       "      <td>3957021</td>\n",
       "      <td>18585056</td>\n",
       "    </tr>\n",
       "    <tr>\n",
       "      <th>8</th>\n",
       "      <td>5</td>\n",
       "      <td>0</td>\n",
       "      <td>11725025</td>\n",
       "    </tr>\n",
       "    <tr>\n",
       "      <th>9</th>\n",
       "      <td>5</td>\n",
       "      <td>11726024</td>\n",
       "      <td>26975502</td>\n",
       "    </tr>\n",
       "  </tbody>\n",
       "</table>\n",
       "</div>"
      ],
      "text/plain": [
       "  chrom     start       end\n",
       "0     1         0  15086046\n",
       "1     1  15087045  30427671\n",
       "2     2         0   3607930\n",
       "3     2   3608929  19698289\n",
       "4     3         0  13799418\n",
       "5     3  14209952  23459830\n",
       "6     4         0   3956022\n",
       "7     4   3957021  18585056\n",
       "8     5         0  11725025\n",
       "9     5  11726024  26975502"
      ]
     },
     "execution_count": 11,
     "metadata": {},
     "output_type": "execute_result"
    }
   ],
   "source": [
    "\n",
    "tair10_arms_retain"
   ]
  },
  {
   "cell_type": "markdown",
   "metadata": {},
   "source": [
    "## Calculate the P(s) curve\n",
    "To calculate the average contact frequency as a function of genomic separation, we will rely on the fact that **each diagonal of a Hi-C map contains interactions between loci separated by the same distance**. For example, the 3rd diagonal of our matrix contains interactions between loci separated by 3-4kb (note that diagonals are 0-indexed). Thus, we calculate the average P(s) at a given distance s as the average value of all pixels of the corresponding diagonal. This operation is performed by cooltools.expected.diagsum. Note that we calculate the P(s) separately for each chromosomal arm. This way we will ignore interactions accross the centromere, which is generally a good idea, since such interacts typically decay differently."
   ]
  },
  {
   "cell_type": "code",
   "execution_count": 12,
   "metadata": {
    "ExecuteTime": {
     "end_time": "2021-08-10T01:52:17.839861Z",
     "start_time": "2021-08-10T01:51:29.020840Z"
    }
   },
   "outputs": [],
   "source": [
    "# cvd == contacts-vs-distance\n",
    "# balanced 在.cool文件中，balance其实是给每个bin一个权重，所以矩阵每个值balance后是需要×对应的两个bin的weight的\n",
    "cvd = cooltools.expected.diagsum(\n",
    "    clr=clr,\n",
    "    regions=tair10_arms_retain,\n",
    "    transforms={'balanced':lambda p: p['count']*p['weight1']*p['weight2']}\n",
    ")\n",
    "# \"Bad\" pixels are inferred from the balancing weight column `weight_name` or provided directly in the form of an array `bad_bins`."
   ]
  },
  {
   "cell_type": "code",
   "execution_count": 13,
   "metadata": {
    "ExecuteTime": {
     "end_time": "2021-08-10T01:52:18.022067Z",
     "start_time": "2021-08-10T01:52:17.976441Z"
    }
   },
   "outputs": [
    {
     "data": {
      "text/html": [
       "<div>\n",
       "<style scoped>\n",
       "    .dataframe tbody tr th:only-of-type {\n",
       "        vertical-align: middle;\n",
       "    }\n",
       "\n",
       "    .dataframe tbody tr th {\n",
       "        vertical-align: top;\n",
       "    }\n",
       "\n",
       "    .dataframe thead th {\n",
       "        text-align: right;\n",
       "    }\n",
       "</style>\n",
       "<table border=\"1\" class=\"dataframe\">\n",
       "  <thead>\n",
       "    <tr style=\"text-align: right;\">\n",
       "      <th></th>\n",
       "      <th>region</th>\n",
       "      <th>diag</th>\n",
       "      <th>n_valid</th>\n",
       "      <th>count.sum</th>\n",
       "      <th>balanced.sum</th>\n",
       "    </tr>\n",
       "  </thead>\n",
       "  <tbody>\n",
       "    <tr>\n",
       "      <th>0</th>\n",
       "      <td>1:0-15086046</td>\n",
       "      <td>0</td>\n",
       "      <td>14139</td>\n",
       "      <td>NaN</td>\n",
       "      <td>NaN</td>\n",
       "    </tr>\n",
       "    <tr>\n",
       "      <th>1</th>\n",
       "      <td>1:0-15086046</td>\n",
       "      <td>1</td>\n",
       "      <td>13804</td>\n",
       "      <td>NaN</td>\n",
       "      <td>NaN</td>\n",
       "    </tr>\n",
       "    <tr>\n",
       "      <th>2</th>\n",
       "      <td>1:0-15086046</td>\n",
       "      <td>2</td>\n",
       "      <td>13815</td>\n",
       "      <td>38506.0</td>\n",
       "      <td>60.685314</td>\n",
       "    </tr>\n",
       "    <tr>\n",
       "      <th>3</th>\n",
       "      <td>1:0-15086046</td>\n",
       "      <td>3</td>\n",
       "      <td>13777</td>\n",
       "      <td>29973.0</td>\n",
       "      <td>48.927479</td>\n",
       "    </tr>\n",
       "    <tr>\n",
       "      <th>4</th>\n",
       "      <td>1:0-15086046</td>\n",
       "      <td>4</td>\n",
       "      <td>13767</td>\n",
       "      <td>25332.0</td>\n",
       "      <td>41.684228</td>\n",
       "    </tr>\n",
       "    <tr>\n",
       "      <th>...</th>\n",
       "      <td>...</td>\n",
       "      <td>...</td>\n",
       "      <td>...</td>\n",
       "      <td>...</td>\n",
       "      <td>...</td>\n",
       "    </tr>\n",
       "    <tr>\n",
       "      <th>118735</th>\n",
       "      <td>5:11726024-26975502</td>\n",
       "      <td>15245</td>\n",
       "      <td>4</td>\n",
       "      <td>0.0</td>\n",
       "      <td>0.000000</td>\n",
       "    </tr>\n",
       "    <tr>\n",
       "      <th>118736</th>\n",
       "      <td>5:11726024-26975502</td>\n",
       "      <td>15246</td>\n",
       "      <td>3</td>\n",
       "      <td>1.0</td>\n",
       "      <td>0.000070</td>\n",
       "    </tr>\n",
       "    <tr>\n",
       "      <th>118737</th>\n",
       "      <td>5:11726024-26975502</td>\n",
       "      <td>15247</td>\n",
       "      <td>2</td>\n",
       "      <td>0.0</td>\n",
       "      <td>0.000000</td>\n",
       "    </tr>\n",
       "    <tr>\n",
       "      <th>118738</th>\n",
       "      <td>5:11726024-26975502</td>\n",
       "      <td>15248</td>\n",
       "      <td>1</td>\n",
       "      <td>0.0</td>\n",
       "      <td>0.000000</td>\n",
       "    </tr>\n",
       "    <tr>\n",
       "      <th>118739</th>\n",
       "      <td>5:11726024-26975502</td>\n",
       "      <td>15249</td>\n",
       "      <td>0</td>\n",
       "      <td>0.0</td>\n",
       "      <td>0.000000</td>\n",
       "    </tr>\n",
       "  </tbody>\n",
       "</table>\n",
       "<p>118740 rows × 5 columns</p>\n",
       "</div>"
      ],
      "text/plain": [
       "                     region   diag  n_valid  count.sum  balanced.sum\n",
       "0              1:0-15086046      0    14139        NaN           NaN\n",
       "1              1:0-15086046      1    13804        NaN           NaN\n",
       "2              1:0-15086046      2    13815    38506.0     60.685314\n",
       "3              1:0-15086046      3    13777    29973.0     48.927479\n",
       "4              1:0-15086046      4    13767    25332.0     41.684228\n",
       "...                     ...    ...      ...        ...           ...\n",
       "118735  5:11726024-26975502  15245        4        0.0      0.000000\n",
       "118736  5:11726024-26975502  15246        3        1.0      0.000070\n",
       "118737  5:11726024-26975502  15247        2        0.0      0.000000\n",
       "118738  5:11726024-26975502  15248        1        0.0      0.000000\n",
       "118739  5:11726024-26975502  15249        0        0.0      0.000000\n",
       "\n",
       "[118740 rows x 5 columns]"
      ]
     },
     "execution_count": 13,
     "metadata": {},
     "output_type": "execute_result"
    }
   ],
   "source": [
    "cvd #diag号在每个染色体内是一样顺序一样编号的→对应相同的cis-distance 是从中间往外数的。（因为arm是分开的，所以每个染色体会对应两套数据，其中0和1会被屏蔽（距离太近）"
   ]
  },
  {
   "cell_type": "code",
   "execution_count": 14,
   "metadata": {
    "ExecuteTime": {
     "end_time": "2021-08-10T01:52:18.188911Z",
     "start_time": "2021-08-10T01:52:18.147391Z"
    }
   },
   "outputs": [],
   "source": [
    "# Aggregate diagonals from different genomic regions together.\n",
    "# Since all three calcuated statistics are additive, they can be aggregated\n",
    "# easily via sum() functiond.\n",
    "cvd_agg = (\n",
    "    cvd\n",
    "    .groupby('diag')\n",
    "    .agg({'n_valid':'sum',\n",
    "         'count.sum':'sum',\n",
    "         'balanced.sum':'sum',\n",
    "        }).reset_index()\n",
    ")"
   ]
  },
  {
   "cell_type": "code",
   "execution_count": 15,
   "metadata": {
    "ExecuteTime": {
     "end_time": "2021-08-10T01:52:18.367366Z",
     "start_time": "2021-08-10T01:52:18.323618Z"
    }
   },
   "outputs": [
    {
     "data": {
      "text/html": [
       "<div>\n",
       "<style scoped>\n",
       "    .dataframe tbody tr th:only-of-type {\n",
       "        vertical-align: middle;\n",
       "    }\n",
       "\n",
       "    .dataframe tbody tr th {\n",
       "        vertical-align: top;\n",
       "    }\n",
       "\n",
       "    .dataframe thead th {\n",
       "        text-align: right;\n",
       "    }\n",
       "</style>\n",
       "<table border=\"1\" class=\"dataframe\">\n",
       "  <thead>\n",
       "    <tr style=\"text-align: right;\">\n",
       "      <th></th>\n",
       "      <th>diag</th>\n",
       "      <th>n_valid</th>\n",
       "      <th>count.sum</th>\n",
       "      <th>balanced.sum</th>\n",
       "    </tr>\n",
       "  </thead>\n",
       "  <tbody>\n",
       "    <tr>\n",
       "      <th>0</th>\n",
       "      <td>0</td>\n",
       "      <td>114355</td>\n",
       "      <td>0.0</td>\n",
       "      <td>0.000000</td>\n",
       "    </tr>\n",
       "    <tr>\n",
       "      <th>1</th>\n",
       "      <td>1</td>\n",
       "      <td>111550</td>\n",
       "      <td>0.0</td>\n",
       "      <td>0.000000</td>\n",
       "    </tr>\n",
       "    <tr>\n",
       "      <th>2</th>\n",
       "      <td>2</td>\n",
       "      <td>111651</td>\n",
       "      <td>392585.0</td>\n",
       "      <td>506.077422</td>\n",
       "    </tr>\n",
       "    <tr>\n",
       "      <th>3</th>\n",
       "      <td>3</td>\n",
       "      <td>111463</td>\n",
       "      <td>290859.0</td>\n",
       "      <td>410.018514</td>\n",
       "    </tr>\n",
       "    <tr>\n",
       "      <th>4</th>\n",
       "      <td>4</td>\n",
       "      <td>111401</td>\n",
       "      <td>241020.0</td>\n",
       "      <td>349.312258</td>\n",
       "    </tr>\n",
       "    <tr>\n",
       "      <th>...</th>\n",
       "      <td>...</td>\n",
       "      <td>...</td>\n",
       "      <td>...</td>\n",
       "      <td>...</td>\n",
       "    </tr>\n",
       "    <tr>\n",
       "      <th>16086</th>\n",
       "      <td>16086</td>\n",
       "      <td>0</td>\n",
       "      <td>0.0</td>\n",
       "      <td>0.000000</td>\n",
       "    </tr>\n",
       "    <tr>\n",
       "      <th>16087</th>\n",
       "      <td>16087</td>\n",
       "      <td>1</td>\n",
       "      <td>0.0</td>\n",
       "      <td>0.000000</td>\n",
       "    </tr>\n",
       "    <tr>\n",
       "      <th>16088</th>\n",
       "      <td>16088</td>\n",
       "      <td>0</td>\n",
       "      <td>0.0</td>\n",
       "      <td>0.000000</td>\n",
       "    </tr>\n",
       "    <tr>\n",
       "      <th>16089</th>\n",
       "      <td>16089</td>\n",
       "      <td>0</td>\n",
       "      <td>0.0</td>\n",
       "      <td>0.000000</td>\n",
       "    </tr>\n",
       "    <tr>\n",
       "      <th>16090</th>\n",
       "      <td>16090</td>\n",
       "      <td>0</td>\n",
       "      <td>0.0</td>\n",
       "      <td>0.000000</td>\n",
       "    </tr>\n",
       "  </tbody>\n",
       "</table>\n",
       "<p>16091 rows × 4 columns</p>\n",
       "</div>"
      ],
      "text/plain": [
       "        diag  n_valid  count.sum  balanced.sum\n",
       "0          0   114355        0.0      0.000000\n",
       "1          1   111550        0.0      0.000000\n",
       "2          2   111651   392585.0    506.077422\n",
       "3          3   111463   290859.0    410.018514\n",
       "4          4   111401   241020.0    349.312258\n",
       "...      ...      ...        ...           ...\n",
       "16086  16086        0        0.0      0.000000\n",
       "16087  16087        1        0.0      0.000000\n",
       "16088  16088        0        0.0      0.000000\n",
       "16089  16089        0        0.0      0.000000\n",
       "16090  16090        0        0.0      0.000000\n",
       "\n",
       "[16091 rows x 4 columns]"
      ]
     },
     "execution_count": 15,
     "metadata": {},
     "output_type": "execute_result"
    }
   ],
   "source": [
    "cvd_agg"
   ]
  },
  {
   "cell_type": "code",
   "execution_count": 16,
   "metadata": {
    "ExecuteTime": {
     "end_time": "2021-08-10T01:52:18.535997Z",
     "start_time": "2021-08-10T01:52:18.501459Z"
    }
   },
   "outputs": [],
   "source": [
    "# Convert indices of diagonals into genomic separation, expressed in basepairs.\n",
    "cvd_agg['s_bp'] = (\n",
    "    cvd_agg['diag']\n",
    "    * clr.binsize)"
   ]
  },
  {
   "cell_type": "code",
   "execution_count": 17,
   "metadata": {
    "ExecuteTime": {
     "end_time": "2021-08-10T01:52:18.706912Z",
     "start_time": "2021-08-10T01:52:18.671089Z"
    }
   },
   "outputs": [],
   "source": [
    "cvd_agg['count.avg'] = (\n",
    "    cvd_agg['count.sum']\n",
    "    / cvd_agg['n_valid']\n",
    ")\n",
    "\n",
    "cvd_agg['balanced.avg'] = (\n",
    "    cvd_agg['balanced.sum']\n",
    "    / cvd_agg['n_valid']\n",
    ")"
   ]
  },
  {
   "cell_type": "code",
   "execution_count": 18,
   "metadata": {
    "ExecuteTime": {
     "end_time": "2021-08-10T01:52:18.894562Z",
     "start_time": "2021-08-10T01:52:18.847076Z"
    }
   },
   "outputs": [
    {
     "data": {
      "text/html": [
       "<div>\n",
       "<style scoped>\n",
       "    .dataframe tbody tr th:only-of-type {\n",
       "        vertical-align: middle;\n",
       "    }\n",
       "\n",
       "    .dataframe tbody tr th {\n",
       "        vertical-align: top;\n",
       "    }\n",
       "\n",
       "    .dataframe thead th {\n",
       "        text-align: right;\n",
       "    }\n",
       "</style>\n",
       "<table border=\"1\" class=\"dataframe\">\n",
       "  <thead>\n",
       "    <tr style=\"text-align: right;\">\n",
       "      <th></th>\n",
       "      <th>diag</th>\n",
       "      <th>n_valid</th>\n",
       "      <th>count.sum</th>\n",
       "      <th>balanced.sum</th>\n",
       "      <th>s_bp</th>\n",
       "      <th>count.avg</th>\n",
       "      <th>balanced.avg</th>\n",
       "    </tr>\n",
       "  </thead>\n",
       "  <tbody>\n",
       "    <tr>\n",
       "      <th>0</th>\n",
       "      <td>0</td>\n",
       "      <td>114355</td>\n",
       "      <td>0.0</td>\n",
       "      <td>0.000000</td>\n",
       "      <td>0</td>\n",
       "      <td>0.000000</td>\n",
       "      <td>0.000000</td>\n",
       "    </tr>\n",
       "    <tr>\n",
       "      <th>1</th>\n",
       "      <td>1</td>\n",
       "      <td>111550</td>\n",
       "      <td>0.0</td>\n",
       "      <td>0.000000</td>\n",
       "      <td>1000</td>\n",
       "      <td>0.000000</td>\n",
       "      <td>0.000000</td>\n",
       "    </tr>\n",
       "    <tr>\n",
       "      <th>2</th>\n",
       "      <td>2</td>\n",
       "      <td>111651</td>\n",
       "      <td>392585.0</td>\n",
       "      <td>506.077422</td>\n",
       "      <td>2000</td>\n",
       "      <td>3.516180</td>\n",
       "      <td>0.004533</td>\n",
       "    </tr>\n",
       "    <tr>\n",
       "      <th>3</th>\n",
       "      <td>3</td>\n",
       "      <td>111463</td>\n",
       "      <td>290859.0</td>\n",
       "      <td>410.018514</td>\n",
       "      <td>3000</td>\n",
       "      <td>2.609467</td>\n",
       "      <td>0.003679</td>\n",
       "    </tr>\n",
       "    <tr>\n",
       "      <th>4</th>\n",
       "      <td>4</td>\n",
       "      <td>111401</td>\n",
       "      <td>241020.0</td>\n",
       "      <td>349.312258</td>\n",
       "      <td>4000</td>\n",
       "      <td>2.163535</td>\n",
       "      <td>0.003136</td>\n",
       "    </tr>\n",
       "    <tr>\n",
       "      <th>...</th>\n",
       "      <td>...</td>\n",
       "      <td>...</td>\n",
       "      <td>...</td>\n",
       "      <td>...</td>\n",
       "      <td>...</td>\n",
       "      <td>...</td>\n",
       "      <td>...</td>\n",
       "    </tr>\n",
       "    <tr>\n",
       "      <th>16086</th>\n",
       "      <td>16086</td>\n",
       "      <td>0</td>\n",
       "      <td>0.0</td>\n",
       "      <td>0.000000</td>\n",
       "      <td>16086000</td>\n",
       "      <td>NaN</td>\n",
       "      <td>NaN</td>\n",
       "    </tr>\n",
       "    <tr>\n",
       "      <th>16087</th>\n",
       "      <td>16087</td>\n",
       "      <td>1</td>\n",
       "      <td>0.0</td>\n",
       "      <td>0.000000</td>\n",
       "      <td>16087000</td>\n",
       "      <td>0.000000</td>\n",
       "      <td>0.000000</td>\n",
       "    </tr>\n",
       "    <tr>\n",
       "      <th>16088</th>\n",
       "      <td>16088</td>\n",
       "      <td>0</td>\n",
       "      <td>0.0</td>\n",
       "      <td>0.000000</td>\n",
       "      <td>16088000</td>\n",
       "      <td>NaN</td>\n",
       "      <td>NaN</td>\n",
       "    </tr>\n",
       "    <tr>\n",
       "      <th>16089</th>\n",
       "      <td>16089</td>\n",
       "      <td>0</td>\n",
       "      <td>0.0</td>\n",
       "      <td>0.000000</td>\n",
       "      <td>16089000</td>\n",
       "      <td>NaN</td>\n",
       "      <td>NaN</td>\n",
       "    </tr>\n",
       "    <tr>\n",
       "      <th>16090</th>\n",
       "      <td>16090</td>\n",
       "      <td>0</td>\n",
       "      <td>0.0</td>\n",
       "      <td>0.000000</td>\n",
       "      <td>16090000</td>\n",
       "      <td>NaN</td>\n",
       "      <td>NaN</td>\n",
       "    </tr>\n",
       "  </tbody>\n",
       "</table>\n",
       "<p>16091 rows × 7 columns</p>\n",
       "</div>"
      ],
      "text/plain": [
       "        diag  n_valid  count.sum  balanced.sum      s_bp  count.avg  \\\n",
       "0          0   114355        0.0      0.000000         0   0.000000   \n",
       "1          1   111550        0.0      0.000000      1000   0.000000   \n",
       "2          2   111651   392585.0    506.077422      2000   3.516180   \n",
       "3          3   111463   290859.0    410.018514      3000   2.609467   \n",
       "4          4   111401   241020.0    349.312258      4000   2.163535   \n",
       "...      ...      ...        ...           ...       ...        ...   \n",
       "16086  16086        0        0.0      0.000000  16086000        NaN   \n",
       "16087  16087        1        0.0      0.000000  16087000   0.000000   \n",
       "16088  16088        0        0.0      0.000000  16088000        NaN   \n",
       "16089  16089        0        0.0      0.000000  16089000        NaN   \n",
       "16090  16090        0        0.0      0.000000  16090000        NaN   \n",
       "\n",
       "       balanced.avg  \n",
       "0          0.000000  \n",
       "1          0.000000  \n",
       "2          0.004533  \n",
       "3          0.003679  \n",
       "4          0.003136  \n",
       "...             ...  \n",
       "16086           NaN  \n",
       "16087      0.000000  \n",
       "16088           NaN  \n",
       "16089           NaN  \n",
       "16090           NaN  \n",
       "\n",
       "[16091 rows x 7 columns]"
      ]
     },
     "execution_count": 18,
     "metadata": {},
     "output_type": "execute_result"
    }
   ],
   "source": [
    "cvd_agg"
   ]
  },
  {
   "cell_type": "code",
   "execution_count": 19,
   "metadata": {
    "ExecuteTime": {
     "end_time": "2021-08-10T01:52:20.816081Z",
     "start_time": "2021-08-10T01:52:19.032594Z"
    }
   },
   "outputs": [
    {
     "data": {
      "image/png": "[encoded data removed]",
      "text/plain": [
       "<Figure size 921.6x633.6 with 1 Axes>"
      ]
     },
     "metadata": {
      "needs_background": "light"
     },
     "output_type": "display_data"
    }
   ],
   "source": [
    "f, ax = plt.subplots(1,1)\n",
    "ax.loglog(\n",
    "    cvd_agg['s_bp'],\n",
    "    cvd_agg['balanced.avg'],\n",
    ")\n",
    "ax.set(\n",
    "    xlabel='separation, bp',\n",
    "    ylabel='Normalized contact frequency')\n",
    "ax.set_aspect(1.0)\n",
    "ax.grid(lw=0.5)"
   ]
  },
  {
   "cell_type": "code",
   "execution_count": 20,
   "metadata": {
    "ExecuteTime": {
     "end_time": "2021-08-10T01:52:21.755623Z",
     "start_time": "2021-08-10T01:52:20.959465Z"
    }
   },
   "outputs": [
    {
     "data": {
      "text/plain": [
       "[Text(0.5, 0, 'separation, bp'), Text(0, 0.5, 'Normalized contact frequency')]"
      ]
     },
     "execution_count": 20,
     "metadata": {},
     "output_type": "execute_result"
    },
    {
     "data": {
      "image/png": "[encoded data removed]",
      "text/plain": [
       "<Figure size 921.6x633.6 with 1 Axes>"
      ]
     },
     "metadata": {
      "needs_background": "light"
     },
     "output_type": "display_data"
    }
   ],
   "source": [
    "#oh!!!!!!!!!!!!!!!!!!!!!!!!!!!!!!!!!!!!!!!\n",
    "#cite from 2009 Contact probability as a function of genomic distance averaged across thegenome(blue)shows a power law scaling\n",
    "#嗯，呈现指数关系\n",
    "f, ax = plt.subplots(1,1)\n",
    "ax.plot(\n",
    "    cvd_agg['s_bp'],\n",
    "    cvd_agg['balanced.avg'],\n",
    ")\n",
    "ax.set_xscale('log')\n",
    "ax.set(\n",
    "    xlabel='separation, bp',\n",
    "    ylabel='Normalized contact frequency')\n",
    "#所以说frenquency 还真的不是概率而是就是那个值本身啊。。。\n",
    "#normalized则是指矩阵normalization"
   ]
  },
  {
   "cell_type": "markdown",
   "metadata": {},
   "source": [
    "# compare with raw\n",
    "With this data, we also have an opportunity to test the effect of matrix balancing on the P(s) curve. Though, raw and balanced Hi-C data have different units, counts vs frequencies-that-sum-to-1.0. So, to plot the two on the same canvas, we have to normalize them to the same scale. Generally, there is no “best” way to normalize P(s) curves, different approaches rely on different assumptions, which are almost never true. The simplest assumption we can make is that our two P(s) curves must match at short distances."
   ]
  },
  {
   "cell_type": "code",
   "execution_count": 21,
   "metadata": {
    "ExecuteTime": {
     "end_time": "2021-08-10T01:52:23.327467Z",
     "start_time": "2021-08-10T01:52:21.898499Z"
    }
   },
   "outputs": [
    {
     "data": {
      "image/png": "[encoded data removed]",
      "text/plain": [
       "<Figure size 921.6x633.6 with 1 Axes>"
      ]
     },
     "metadata": {
      "needs_background": "light"
     },
     "output_type": "display_data"
    }
   ],
   "source": [
    "f, ax = plt.subplots(1,1)\n",
    "# Below we normalize both P(s) curves by their first non-zero value(the max value)\n",
    "# (remember that we mask the first 2 diagonals).\n",
    "ax.loglog(\n",
    "    cvd_agg['s_bp'],\n",
    "    cvd_agg['balanced.avg'] / cvd_agg['balanced.avg'].iloc[2],\n",
    "    alpha=0.5,\n",
    "    label='balanced'\n",
    ")\n",
    "ax.loglog(\n",
    "    cvd_agg['s_bp'],\n",
    "    cvd_agg['count.avg'] / cvd_agg['count.avg'].iloc[2],\n",
    "    alpha=0.5,\n",
    "    label='raw'\n",
    ")\n",
    "\n",
    "ax.set(\n",
    "    xlabel='separation, bp',\n",
    "    ylabel='IC contact frequency')\n",
    "ax.set_aspect(1.0)\n",
    "ax.grid(lw=0.5)\n",
    "_=ax.legend()"
   ]
  },
  {
   "cell_type": "markdown",
   "metadata": {},
   "source": [
    "Smooth the P(s) curve with logarithmic binning."
   ]
  },
  {
   "cell_type": "markdown",
   "metadata": {
    "ExecuteTime": {
     "end_time": "2021-08-05T09:04:29.606475Z",
     "start_time": "2021-08-05T09:04:28.390210Z"
    }
   },
   "source": [
    "# Logbin-expected aggregates P(s) curves per region over exponentially increasing distance bins.\n",
    "幂律分布的参数估计(logarithmic bins) https://zhuanlan.zhihu.com/p/267563767"
   ]
  },
  {
   "cell_type": "code",
   "execution_count": 22,
   "metadata": {
    "ExecuteTime": {
     "end_time": "2021-08-10T01:52:23.858193Z",
     "start_time": "2021-08-10T01:52:23.541008Z"
    }
   },
   "outputs": [],
   "source": [
    "lb_cvd, lb_slopes, lb_distbins = cooltools.expected.logbin_expected(cvd)\n",
    "\n",
    "# The resulting table contains P(s) curves for each individual region.\n",
    "# Aggregating these curves into a single genome-wide curve is involving too,\n",
    "# so we created a separate function for this too.\n",
    "lb_cvd_agg, lb_slopes_agg = cooltools.expected.combine_binned_expected(\n",
    "    lb_cvd,\n",
    "    binned_exp_slope=lb_slopes\n",
    ")\n",
    "\n",
    "lb_cvd_agg['s_bp'] = lb_cvd_agg['diag.avg'] * clr.binsize\n",
    "lb_slopes_agg['s_bp'] = lb_slopes_agg['diag.avg'] * clr.binsize"
   ]
  },
  {
   "cell_type": "code",
   "execution_count": 23,
   "metadata": {
    "ExecuteTime": {
     "end_time": "2021-08-10T01:52:26.044626Z",
     "start_time": "2021-08-10T01:52:24.191001Z"
    }
   },
   "outputs": [
    {
     "data": {
      "image/png": "[encoded data removed]",
      "text/plain": [
       "<Figure size 468x936 with 2 Axes>"
      ]
     },
     "metadata": {
      "needs_background": "light"
     },
     "output_type": "display_data"
    }
   ],
   "source": [
    "f, axs = plt.subplots(\n",
    "    figsize=(6.5,13),\n",
    "    nrows=2,\n",
    "    gridspec_kw={'height_ratios':[6,2]},\n",
    "    sharex=True)\n",
    "ax = axs[0]\n",
    "ax.loglog(\n",
    "    lb_cvd_agg['s_bp'],\n",
    "    lb_cvd_agg['balanced.avg'],\n",
    "    'o-',\n",
    "    markersize=5,\n",
    ")\n",
    "\n",
    "ax.set(\n",
    "    ylabel='IC contact frequency',\n",
    "    xlim=(1e3,1e8)\n",
    ")\n",
    "ax.set_aspect(1.0)\n",
    "ax.grid(lw=0.5)\n",
    "\n",
    "\n",
    "ax = axs[1]\n",
    "ax.semilogx(\n",
    "    lb_slopes_agg['s_bp'],\n",
    "    lb_slopes_agg['slope'],\n",
    "    alpha=0.5\n",
    ")\n",
    "\n",
    "ax.set(\n",
    "    xlabel='separation, bp',\n",
    "    ylabel='slope')\n",
    "\n",
    "ax.grid(lw=0.5)"
   ]
  },
  {
   "cell_type": "code",
   "execution_count": 24,
   "metadata": {
    "ExecuteTime": {
     "end_time": "2021-08-10T01:52:26.979271Z",
     "start_time": "2021-08-10T01:52:26.316058Z"
    }
   },
   "outputs": [
    {
     "data": {
      "text/plain": [
       "[Text(0.5, 0, 'Separation(bp)'), Text(0, 0.5, 'Normalized contact frequency')]"
      ]
     },
     "execution_count": 24,
     "metadata": {},
     "output_type": "execute_result"
    },
    {
     "data": {
      "image/png": "[encoded data removed]",
      "text/plain": [
       "<Figure size 921.6x633.6 with 1 Axes>"
      ]
     },
     "metadata": {
      "needs_background": "light"
     },
     "output_type": "display_data"
    }
   ],
   "source": [
    "#font setting\n",
    "import matplotlib.font_manager as font_manager\n",
    "font_dirs = [\"/public/home/lizw/software/font\"]\n",
    "font_files = font_manager.findSystemFonts(fontpaths=font_dirs)\n",
    "for font_file in font_files:\n",
    "    font_manager.fontManager.addfont(font_file)\n",
    "plt.rcParams[\"font.family\"] = \"Arial\"\n",
    "plt.rcParams[\"font.size\"] = 20\n",
    "#!!!!!!!!!!!!!!!!!!!!!!!!!!!!!!!!!!!!!!!!!!!!!!!!!!!!!!!!!!\n",
    "f, ax = plt.subplots(1,1)\n",
    "ax.plot(\n",
    "    lb_cvd_agg['s_bp'],\n",
    "    lb_cvd_agg['balanced.avg'],\n",
    ")\n",
    "ax.set_xscale('log')\n",
    "ax.set(\n",
    "    xlabel='Separation(bp)',\n",
    "    ylabel='Normalized contact frequency')\n",
    "#所以说frenquency 还真的不是概率而是就是那个值本身啊。。。\n",
    "#normalized则是指矩阵normalization"
   ]
  },
  {
   "cell_type": "markdown",
   "metadata": {},
   "source": [
    "## 除最大值（porec和SPRITE图的效果，确实比其他图更好看）"
   ]
  },
  {
   "cell_type": "code",
   "execution_count": 28,
   "metadata": {
    "ExecuteTime": {
     "end_time": "2021-08-10T02:16:21.798195Z",
     "start_time": "2021-08-10T02:16:21.762196Z"
    }
   },
   "outputs": [],
   "source": [
    "lb_cvd_agg['nor_balanced.avg'] = lb_cvd_agg['balanced.avg']/lb_cvd_agg['balanced.avg'].max()"
   ]
  },
  {
   "cell_type": "code",
   "execution_count": 29,
   "metadata": {
    "ExecuteTime": {
     "end_time": "2021-08-10T02:16:27.759822Z",
     "start_time": "2021-08-10T02:16:27.138212Z"
    }
   },
   "outputs": [
    {
     "data": {
      "text/plain": [
       "[Text(0.5, 0, 'Separation(bp)'), Text(0, 0.5, 'Normalized contact frequency')]"
      ]
     },
     "execution_count": 29,
     "metadata": {},
     "output_type": "execute_result"
    },
    {
     "data": {
      "image/png": "[encoded data removed]",
      "text/plain": [
       "<Figure size 921.6x633.6 with 1 Axes>"
      ]
     },
     "metadata": {
      "needs_background": "light"
     },
     "output_type": "display_data"
    }
   ],
   "source": [
    "#font setting\n",
    "import matplotlib.font_manager as font_manager\n",
    "font_dirs = [\"/public/home/lizw/software/font\"]\n",
    "font_files = font_manager.findSystemFonts(fontpaths=font_dirs)\n",
    "for font_file in font_files:\n",
    "    font_manager.fontManager.addfont(font_file)\n",
    "plt.rcParams[\"font.family\"] = \"Arial\"\n",
    "plt.rcParams[\"font.size\"] = 20\n",
    "#!!!!!!!!!!!!!!!!!!!!!!!!!!!!!!!!!!!!!!!!!!!!!!!!!!!!!!!!!!\n",
    "f, ax = plt.subplots(1,1)\n",
    "ax.plot(\n",
    "    lb_cvd_agg['s_bp'],\n",
    "    lb_cvd_agg['nor_balanced.avg'], #使用除以最大值后的列\n",
    ")\n",
    "ax.set_xscale('log')\n",
    "ax.set(\n",
    "    xlabel='Separation(bp)',\n",
    "    ylabel='Normalized contact frequency')\n",
    "#所以说frenquency 还真的不是概率而是就是那个值本身啊。。。\n",
    "#normalized则是指矩阵normalization"
   ]
  },
  {
   "cell_type": "code",
   "execution_count": null,
   "metadata": {},
   "outputs": [],
   "source": []
  }
 ],
 "metadata": {
  "kernelspec": {
   "display_name": "Coolcoots_k",
   "language": "python",
   "name": "cooltools"
  },
  "language_info": {
   "codemirror_mode": {
    "name": "ipython",
    "version": 3
   },
   "file_extension": ".py",
   "mimetype": "text/x-python",
   "name": "python",
   "nbconvert_exporter": "python",
   "pygments_lexer": "ipython3",
   "version": "3.9.5"
  },
  "toc": {
   "base_numbering": 1,
   "nav_menu": {},
   "number_sections": true,
   "sideBar": true,
   "skip_h1_title": false,
   "title_cell": "Table of Contents",
   "title_sidebar": "Contents",
   "toc_cell": false,
   "toc_position": {},
   "toc_section_display": true,
   "toc_window_display": false
  },
  "varInspector": {
   "cols": {
    "lenName": 16,
    "lenType": 16,
    "lenVar": 40
   },
   "kernels_config": {
    "python": {
     "delete_cmd_postfix": "",
     "delete_cmd_prefix": "del ",
     "library": "var_list.py",
     "varRefreshCmd": "print(var_dic_list())"
    },
    "r": {
     "delete_cmd_postfix": ") ",
     "delete_cmd_prefix": "rm(",
     "library": "var_list.r",
     "varRefreshCmd": "cat(var_dic_list()) "
    }
   },
   "types_to_exclude": [
    "module",
    "function",
    "builtin_function_or_method",
    "instance",
    "_Feature"
   ],
   "window_display": false
  }
 },
 "nbformat": 4,
 "nbformat_minor": 4
}
