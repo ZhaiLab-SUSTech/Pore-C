{
 "cells": [
  {
   "cell_type": "code",
   "execution_count": 1,
   "metadata": {
    "ExecuteTime": {
     "end_time": "2022-01-04T09:56:15.933788Z",
     "start_time": "2022-01-04T09:56:15.894256Z"
    }
   },
   "outputs": [
    {
     "name": "stdout",
     "output_type": "stream",
     "text": [
      "Writing /public/home/lizw/task/pore_c/tools/porecscripts/v2.15/porecplot_pre.py\n"
     ]
    }
   ],
   "source": [
    "%%writefile '/public/home/lizw/task/pore_c/tools/porecscripts/v2.15/porecplot_pre.py'\n",
    "\n",
    "#@Author: Zhuowen Li\n",
    "#@LastEdit: 2021/9/10 下午1:05:05\n",
    "#@Version: v2.8\n",
    "#@Description: calculate hic with pairsam file ()\n",
    "\n",
    "#@Author: Zhuowen Li\n",
    "#@LastEdit: 2021/8/3 下午2:22:15\n",
    "#@Version: V2.1\n",
    "#@Description: Prepare the tables for porecplot drawing, and basic statistic analysis of Pore-C data. \n",
    "#@Modifications: 1.fix the order calculation. 2. add filtering of mapq\n",
    "\n",
    "import os\n",
    "import argparse\n",
    "#porec basic explore\n",
    "parser = argparse.ArgumentParser(description='Exploring the interaction of special parts using poreC data. Using the anchor FILE as anchor filtering condition. \\\n",
    "                                 The pipeline will choose the reads that contact all the anchors in the anchor FILE, \\\n",
    "                                 which can tell you the level of direct interaction between those anchors.')\n",
    "parser.add_argument('--porec_dir',type=str,help='Alignment.parquet input, for basic explore, and output files nesessary for porecplot drawing. Can run porecplot directly with Alignment.parquet input too.')\n",
    "parser.add_argument('--prefix',type=str,help='prefix of the output')\n",
    "parser.add_argument('--basicplots',action='store_true', default=False, help='Draw reads distribution plot, order distribution plot and boxplot for reads length distribution of each order')\n",
    "parser.add_argument('--order',type=int , help ='Order to filter the reads')\n",
    "parser.add_argument('--pairfile',type=str,help='pair file or pairsam file. design for hic explore. must use the gzip compressed file')\n",
    "parser.add_argument('--outdir',type=str,help='outdir')\n",
    "parser.add_argument('--mpq',type=int,help='MAPQ filter')\n",
    "args = parser.parse_args()\n",
    "\n",
    "from porecplot_pre_func import *\n",
    "#porec basic explore\n",
    "#get baic information to draw and output porecplot format file\n",
    "if args.pairfile:\n",
    "    pair_merge(args.pairfile,args.prefix,args.outdir)\n",
    "elif args.porec_dir:\n",
    "    order = args.order if args.order else 2\n",
    "    mpq = args.mpq if args.mpq else 1\n",
    "    count,align_allorder,read_info = porec_merge(order,mpq,args.porec_dir,args.prefix,args.outdir)\n",
    "    if args.basicplots:\n",
    "        orderdistri(count,args.prefix,args.outdir) \n",
    "        lengthdistri(align_allorder,args.prefix,args.outdir)\n",
    "        lenorderbox(read_info,args.prefix,args.outdir)\n",
    "        #order_distance(args.porec_dir,args.prefix,args.outdir)\n",
    "    #transform hic matrix into porecplot format file"
   ]
  },
  {
   "cell_type": "code",
   "execution_count": null,
   "metadata": {},
   "outputs": [],
   "source": []
  }
 ],
 "metadata": {
  "kernelspec": {
   "display_name": "Python 3 (ipykernel)",
   "language": "python",
   "name": "python3"
  },
  "language_info": {
   "codemirror_mode": {
    "name": "ipython",
    "version": 3
   },
   "file_extension": ".py",
   "mimetype": "text/x-python",
   "name": "python",
   "nbconvert_exporter": "python",
   "pygments_lexer": "ipython3",
   "version": "3.7.12"
  },
  "toc": {
   "base_numbering": 1,
   "nav_menu": {},
   "number_sections": true,
   "sideBar": true,
   "skip_h1_title": false,
   "title_cell": "Table of Contents",
   "title_sidebar": "Contents",
   "toc_cell": false,
   "toc_position": {},
   "toc_section_display": true,
   "toc_window_display": false
  },
  "varInspector": {
   "cols": {
    "lenName": 16,
    "lenType": 16,
    "lenVar": 40
   },
   "kernels_config": {
    "python": {
     "delete_cmd_postfix": "",
     "delete_cmd_prefix": "del ",
     "library": "var_list.py",
     "varRefreshCmd": "print(var_dic_list())"
    },
    "r": {
     "delete_cmd_postfix": ") ",
     "delete_cmd_prefix": "rm(",
     "library": "var_list.r",
     "varRefreshCmd": "cat(var_dic_list()) "
    }
   },
   "types_to_exclude": [
    "module",
    "function",
    "builtin_function_or_method",
    "instance",
    "_Feature"
   ],
   "window_display": false
  }
 },
 "nbformat": 4,
 "nbformat_minor": 4
}
