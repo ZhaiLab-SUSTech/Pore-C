{
 "cells": [
  {
   "cell_type": "code",
   "execution_count": null,
   "metadata": {},
   "outputs": [],
   "source": [
    "#split rDNA sequence into small fragments for mapping to identify whether the mapping of overmapping fragments are cause by repeat region artifact"
   ]
  },
  {
   "cell_type": "markdown",
   "metadata": {},
   "source": [
    "# 300bp each bed"
   ]
  },
  {
   "cell_type": "code",
   "execution_count": 3,
   "metadata": {
    "ExecuteTime": {
     "end_time": "2021-09-26T05:03:56.118057Z",
     "start_time": "2021-09-26T05:03:55.753100Z"
    }
   },
   "outputs": [],
   "source": [
    "start_list = list(range(0,9073,1))\n",
    "end_list = list(range(300,9373,1))\n",
    "import pandas as pd\n",
    "bedfile = pd.DataFrame({'name':['AC006837_16:1-9372']*9073,'start':start_list,'end':end_list})\n",
    "cut_temp_start = bedfile['start'].astype(str)\n",
    "cut_temp_end = bedfile['end'].astype(str)\n",
    "bedfile['cut'] = cut_temp_start.str.cat(cut_temp_end,sep=\"_\")\n",
    "bedfile.to_csv('/public/home/lizw/task/pore_c/rDNA/rDNA_split_300bp.bed',sep=\"\\t\",header=None,index=None)"
   ]
  },
  {
   "cell_type": "markdown",
   "metadata": {},
   "source": [
    "# 30bp each bed"
   ]
  },
  {
   "cell_type": "code",
   "execution_count": 6,
   "metadata": {
    "ExecuteTime": {
     "end_time": "2021-09-26T05:24:19.472075Z",
     "start_time": "2021-09-26T05:24:19.333327Z"
    }
   },
   "outputs": [],
   "source": [
    "start_list = list(range(0,9343,1))\n",
    "end_list = list(range(30,9373,1))\n",
    "import pandas as pd\n",
    "bedfile = pd.DataFrame({'name':['AC006837_16:1-9372']*9343,'start':start_list,'end':end_list})\n",
    "cut_temp_start = bedfile['start'].astype(str)\n",
    "cut_temp_end = bedfile['end'].astype(str)\n",
    "bedfile['cut'] = cut_temp_start.str.cat(cut_temp_end,sep=\"_\")\n",
    "bedfile.to_csv('/public/home/lizw/task/pore_c/rDNA/rDNA_split_30bp.bed',sep=\"\\t\",header=None,index=None)"
   ]
  },
  {
   "cell_type": "code",
   "execution_count": null,
   "metadata": {},
   "outputs": [],
   "source": [
    "# get fasta\n",
    "# mapping to genome\n",
    "# igv"
   ]
  }
 ],
 "metadata": {
  "kernelspec": {
   "display_name": "Python 3",
   "language": "python",
   "name": "python3"
  },
  "language_info": {
   "codemirror_mode": {
    "name": "ipython",
    "version": 3
   },
   "file_extension": ".py",
   "mimetype": "text/x-python",
   "name": "python",
   "nbconvert_exporter": "python",
   "pygments_lexer": "ipython3",
   "version": "3.7.6"
  },
  "toc": {
   "base_numbering": 1,
   "nav_menu": {},
   "number_sections": true,
   "sideBar": true,
   "skip_h1_title": false,
   "title_cell": "Table of Contents",
   "title_sidebar": "Contents",
   "toc_cell": false,
   "toc_position": {},
   "toc_section_display": true,
   "toc_window_display": false
  },
  "varInspector": {
   "cols": {
    "lenName": 16,
    "lenType": 16,
    "lenVar": 40
   },
   "kernels_config": {
    "python": {
     "delete_cmd_postfix": "",
     "delete_cmd_prefix": "del ",
     "library": "var_list.py",
     "varRefreshCmd": "print(var_dic_list())"
    },
    "r": {
     "delete_cmd_postfix": ") ",
     "delete_cmd_prefix": "rm(",
     "library": "var_list.r",
     "varRefreshCmd": "cat(var_dic_list()) "
    }
   },
   "types_to_exclude": [
    "module",
    "function",
    "builtin_function_or_method",
    "instance",
    "_Feature"
   ],
   "window_display": false
  }
 },
 "nbformat": 4,
 "nbformat_minor": 4
}
