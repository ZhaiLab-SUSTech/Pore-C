{
 "cells": [
  {
   "cell_type": "code",
   "execution_count": 116,
   "metadata": {
    "ExecuteTime": {
     "end_time": "2021-09-28T06:09:48.797144Z",
     "start_time": "2021-09-28T06:09:12.196787Z"
    }
   },
   "outputs": [
    {
     "name": "stdout",
     "output_type": "stream",
     "text": [
      "Writing /public/home/lizw/task/pore_c/website/generate_porec_matrix.py\n"
     ]
    }
   ],
   "source": [
    "%%writefile \"/public/home/lizw/task/pore_c/website/generate_porec_matrix.py\"\n",
    "import pandas as pd\n",
    "df_merge_part = pd.read_parquet('/public/home/lizw/task/pore_c/porec_1000_filter_mainchr_result/porecplot_v3/porec_pre_v2.9/DpnII_run08.order_2_merge_part.parquet')\n",
    "#keep all for website matrix\n",
    "anchor_region = pd.read_table('/public/home/lizw/data/IMPORTANT_genome/arabidopsis/tair10/all_chr.bed',header=None,names=['chrom','start','end'],converters={'chrom':str, 'start':int, 'end':int},comment=\"#\")\n",
    "\n",
    "binsize=500000\n",
    "pd.options.mode.chained_assignment = None\n",
    "df_region_filter_merge = pd.DataFrame([])\n",
    "chrinterval_all = pd.DataFrame([])\n",
    "df_bins_dict = {}\n",
    "column = 'pos'\n",
    "df = df_merge_part\n",
    "for i in anchor_region.itertuples(index=False):\n",
    "    region_chr,region_start,region_end = i\n",
    "    query_text = f'(chrom == @region_chr) and ({column} > @region_start) and ({column} <=  @region_end)'\n",
    "    df_region_filter_temp = df.query(query_text)\n",
    "    df_region_filter_temp['region_start'] = region_start\n",
    "    df_region_filter_temp['region_end'] = region_end\n",
    "    df_cut,df_bins= pd.cut(df_region_filter_temp[column],bins=range(region_start,region_end+binsize-1,binsize),precision=0,retbins=True)\n",
    "    df_region_filter_temp['interval']  = df_cut\n",
    "    chrinterval_all = df_region_filter_merge.append(df_region_filter_temp)\n",
    "    chrinterval_tmp = pd.DataFrame(pd.cut(np.arange(region_start+binsize,region_end+binsize,binsize),bins=df_bins,precision=0),columns = ['interval'])\n",
    "    chrinterval_tmp['chrom'] = region_chr\n",
    "    chrinterval_all = chrinterval_all.append(chrinterval_tmp)\n",
    "\n",
    "df_merge_allinterval = pd.merge(df_region_filter_merge,chrinterval_all,on=['chrom','interval'],how='outer')\n",
    "\n",
    "df_merge_allinterval.sort_values(by=['chrom','interval'],inplace=True)\n",
    "interval_df = df_merge_allinterval['interval'].drop_duplicates().reset_index(drop=True)\n",
    "interval_df = pd.DataFrame(interval_df)\n",
    "interval_df_dict = {y:x for x,y in interval_df.itertuples()}\n",
    "df_merge_allinterval['for_group'] = df_merge_allinterval['interval']\n",
    "df_merge_allinterval['for_group'].replace(interval_df_dict,inplace=True)\n",
    "df_merge_allinterval['chr_interval'] = df_merge_allinterval['for_group'].astype('str').str.cat(df_merge_allinterval['chrom'].astype('str'),sep=\"_\")\n",
    "heat = df_region_filter_merge.groupby(by=['read_name','chr_interval'],sort=False).count()['pos'].astype(np.int16).unstack().fillna(0)\n",
    "\n",
    "heat.to_parquet(\"/public/home/lizw/task/pore_c/website/porec_matrix_all.parquet\")\n",
    "interval_df.to_csv(\"/public/home/lizw/task/pore_c/website/interval_id\")"
   ]
  },
  {
   "cell_type": "code",
   "execution_count": null,
   "metadata": {},
   "outputs": [],
   "source": []
  }
 ],
 "metadata": {
  "kernelspec": {
   "display_name": "Python 3",
   "language": "python",
   "name": "python3"
  },
  "language_info": {
   "codemirror_mode": {
    "name": "ipython",
    "version": 3
   },
   "file_extension": ".py",
   "mimetype": "text/x-python",
   "name": "python",
   "nbconvert_exporter": "python",
   "pygments_lexer": "ipython3",
   "version": "3.7.6"
  },
  "toc": {
   "base_numbering": 1,
   "nav_menu": {},
   "number_sections": true,
   "sideBar": true,
   "skip_h1_title": false,
   "title_cell": "Table of Contents",
   "title_sidebar": "Contents",
   "toc_cell": false,
   "toc_position": {},
   "toc_section_display": true,
   "toc_window_display": false
  },
  "varInspector": {
   "cols": {
    "lenName": 16,
    "lenType": 16,
    "lenVar": 40
   },
   "kernels_config": {
    "python": {
     "delete_cmd_postfix": "",
     "delete_cmd_prefix": "del ",
     "library": "var_list.py",
     "varRefreshCmd": "print(var_dic_list())"
    },
    "r": {
     "delete_cmd_postfix": ") ",
     "delete_cmd_prefix": "rm(",
     "library": "var_list.r",
     "varRefreshCmd": "cat(var_dic_list()) "
    }
   },
   "types_to_exclude": [
    "module",
    "function",
    "builtin_function_or_method",
    "instance",
    "_Feature"
   ],
   "window_display": false
  }
 },
 "nbformat": 4,
 "nbformat_minor": 4
}
